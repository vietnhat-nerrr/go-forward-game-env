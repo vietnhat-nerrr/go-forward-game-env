{
  "nbformat": 4,
  "nbformat_minor": 0,
  "metadata": {
    "colab": {
      "name": "GoForward.ipynb",
      "provenance": [],
      "collapsed_sections": [
        "DJQq8bCiEtSL",
        "rgMGTDLrEyif"
      ]
    },
    "kernelspec": {
      "name": "python3",
      "display_name": "Python 3"
    },
    "language_info": {
      "name": "python"
    },
    "accelerator": "GPU"
  },
  "cells": [
    {
      "cell_type": "markdown",
      "metadata": {
        "id": "jfIVUTtGEmc3"
      },
      "source": [
        "##PREPARE"
      ]
    },
    {
      "cell_type": "markdown",
      "metadata": {
        "id": "uDCqLEYmsDZW"
      },
      "source": [
        "Import file gameLogic.py, enumerateOptions, goForwardGame, PPONetwork.py, actionIndexTable.pkl"
      ]
    },
    {
      "cell_type": "markdown",
      "metadata": {
        "id": "DJQq8bCiEtSL"
      },
      "source": [
        "### Set up tensorflow_version"
      ]
    },
    {
      "cell_type": "markdown",
      "metadata": {
        "id": "TJ2ak4mUsQHU"
      },
      "source": [
        "Tensorflow version be used must ver 1.x"
      ]
    },
    {
      "cell_type": "code",
      "metadata": {
        "colab": {
          "base_uri": "https://localhost:8080/"
        },
        "id": "roEvgidmcS5y",
        "outputId": "4cae8cc2-53fd-4f6c-9b70-8bfd40957646"
      },
      "source": [
        "%tensorflow_version 1.4"
      ],
      "execution_count": 1,
      "outputs": [
        {
          "output_type": "stream",
          "text": [
            "`%tensorflow_version` only switches the major version: 1.x or 2.x.\n",
            "You set: `1.4`. This will be interpreted as: `1.x`.\n",
            "\n",
            "\n",
            "TensorFlow 1.x selected.\n"
          ],
          "name": "stdout"
        }
      ]
    },
    {
      "cell_type": "code",
      "metadata": {
        "colab": {
          "base_uri": "https://localhost:8080/"
        },
        "id": "o044S_FvcWVf",
        "outputId": "9591e41c-a274-4a08-dd21-b46ecd4ae2c0"
      },
      "source": [
        "import tensorflow\n",
        "print(tensorflow.__version__)"
      ],
      "execution_count": 2,
      "outputs": [
        {
          "output_type": "stream",
          "text": [
            "1.15.2\n"
          ],
          "name": "stdout"
        }
      ]
    },
    {
      "cell_type": "markdown",
      "metadata": {
        "id": "rgMGTDLrEyif"
      },
      "source": [
        "### Install baselines"
      ]
    },
    {
      "cell_type": "code",
      "metadata": {
        "colab": {
          "base_uri": "https://localhost:8080/"
        },
        "id": "wk9z6UlfdBVb",
        "outputId": "cbff675d-a506-49d5-9cee-23137ce0d9ae"
      },
      "source": [
        "!git clone https://github.com/openai/baselines.git"
      ],
      "execution_count": 3,
      "outputs": [
        {
          "output_type": "stream",
          "text": [
            "Cloning into 'baselines'...\n",
            "remote: Enumerating objects: 3627, done.\u001b[K\n",
            "remote: Total 3627 (delta 0), reused 0 (delta 0), pack-reused 3627\u001b[K\n",
            "Receiving objects: 100% (3627/3627), 6.46 MiB | 5.14 MiB/s, done.\n",
            "Resolving deltas: 100% (2429/2429), done.\n"
          ],
          "name": "stdout"
        }
      ]
    },
    {
      "cell_type": "code",
      "metadata": {
        "colab": {
          "base_uri": "https://localhost:8080/"
        },
        "id": "O_K7GGs0dDIO",
        "outputId": "40ad2b3a-7c91-4315-ffc4-0e4d5da18918"
      },
      "source": [
        "!pwd"
      ],
      "execution_count": 4,
      "outputs": [
        {
          "output_type": "stream",
          "text": [
            "/content\n"
          ],
          "name": "stdout"
        }
      ]
    },
    {
      "cell_type": "code",
      "metadata": {
        "colab": {
          "base_uri": "https://localhost:8080/"
        },
        "id": "oV5xmqDsdIXB",
        "outputId": "df74b7b4-4400-4cbd-a61b-a2fd936b41d3"
      },
      "source": [
        "%cd baselines/"
      ],
      "execution_count": 5,
      "outputs": [
        {
          "output_type": "stream",
          "text": [
            "/content/baselines\n"
          ],
          "name": "stdout"
        }
      ]
    },
    {
      "cell_type": "code",
      "metadata": {
        "colab": {
          "base_uri": "https://localhost:8080/",
          "height": 0
        },
        "id": "u0b5JCsDdLxf",
        "outputId": "2fb53a00-b6fa-4fd8-8173-44eb3ede6f05"
      },
      "source": [
        "pwd"
      ],
      "execution_count": 6,
      "outputs": [
        {
          "output_type": "execute_result",
          "data": {
            "application/vnd.google.colaboratory.intrinsic+json": {
              "type": "string"
            },
            "text/plain": [
              "'/content/baselines'"
            ]
          },
          "metadata": {
            "tags": []
          },
          "execution_count": 6
        }
      ]
    },
    {
      "cell_type": "code",
      "metadata": {
        "colab": {
          "base_uri": "https://localhost:8080/"
        },
        "id": "yJMZZQhFdMNf",
        "outputId": "bdfa1cf9-05a6-4c34-b3c3-6430452a8d67"
      },
      "source": [
        "!pip install -e .\n"
      ],
      "execution_count": 7,
      "outputs": [
        {
          "output_type": "stream",
          "text": [
            "Obtaining file:///content/baselines\n",
            "Collecting gym<0.16.0,>=0.15.4\n",
            "\u001b[?25l  Downloading https://files.pythonhosted.org/packages/e0/01/8771e8f914a627022296dab694092a11a7d417b6c8364f0a44a8debca734/gym-0.15.7.tar.gz (1.6MB)\n",
            "\u001b[K     |████████████████████████████████| 1.6MB 7.4MB/s \n",
            "\u001b[?25hRequirement already satisfied: scipy in /usr/local/lib/python3.7/dist-packages (from baselines==0.1.6) (1.4.1)\n",
            "Requirement already satisfied: tqdm in /usr/local/lib/python3.7/dist-packages (from baselines==0.1.6) (4.41.1)\n",
            "Requirement already satisfied: joblib in /usr/local/lib/python3.7/dist-packages (from baselines==0.1.6) (1.0.1)\n",
            "Requirement already satisfied: cloudpickle in /usr/local/lib/python3.7/dist-packages (from baselines==0.1.6) (1.3.0)\n",
            "Requirement already satisfied: click in /usr/local/lib/python3.7/dist-packages (from baselines==0.1.6) (7.1.2)\n",
            "Requirement already satisfied: opencv-python in /usr/local/lib/python3.7/dist-packages (from baselines==0.1.6) (4.1.2.30)\n",
            "Requirement already satisfied: numpy>=1.10.4 in /usr/local/lib/python3.7/dist-packages (from gym<0.16.0,>=0.15.4->baselines==0.1.6) (1.19.5)\n",
            "Requirement already satisfied: six in /usr/local/lib/python3.7/dist-packages (from gym<0.16.0,>=0.15.4->baselines==0.1.6) (1.15.0)\n",
            "Requirement already satisfied: pyglet<=1.5.0,>=1.4.0 in /usr/local/lib/python3.7/dist-packages (from gym<0.16.0,>=0.15.4->baselines==0.1.6) (1.5.0)\n",
            "Requirement already satisfied: future in /usr/local/lib/python3.7/dist-packages (from pyglet<=1.5.0,>=1.4.0->gym<0.16.0,>=0.15.4->baselines==0.1.6) (0.16.0)\n",
            "Building wheels for collected packages: gym\n",
            "  Building wheel for gym (setup.py) ... \u001b[?25l\u001b[?25hdone\n",
            "  Created wheel for gym: filename=gym-0.15.7-cp37-none-any.whl size=1648842 sha256=eedc7a7bfabaa1bba55b999f0cb7fb818f461aae315c955a55280744267d454a\n",
            "  Stored in directory: /root/.cache/pip/wheels/35/60/6a/f9c27ae133abaf5a5687ed2fa8ed19627d7fac5d843a27572b\n",
            "Successfully built gym\n",
            "\u001b[31mERROR: gym 0.15.7 has requirement cloudpickle~=1.2.0, but you'll have cloudpickle 1.3.0 which is incompatible.\u001b[0m\n",
            "Installing collected packages: gym, baselines\n",
            "  Found existing installation: gym 0.17.3\n",
            "    Uninstalling gym-0.17.3:\n",
            "      Successfully uninstalled gym-0.17.3\n",
            "  Running setup.py develop for baselines\n",
            "Successfully installed baselines gym-0.15.7\n"
          ],
          "name": "stdout"
        }
      ]
    },
    {
      "cell_type": "code",
      "metadata": {
        "colab": {
          "base_uri": "https://localhost:8080/"
        },
        "id": "H9xfR6zzdP8X",
        "outputId": "5a33ff58-fed5-4b31-cdde-7760ffb2a195"
      },
      "source": [
        "!pip install cloudpickle==1.2.0\n"
      ],
      "execution_count": 8,
      "outputs": [
        {
          "output_type": "stream",
          "text": [
            "Collecting cloudpickle==1.2.0\n",
            "  Downloading https://files.pythonhosted.org/packages/f1/95/d329d89318b85f29936e6b121a662d5cf276a37aac7920ad1acc29de9757/cloudpickle-1.2.0-py2.py3-none-any.whl\n",
            "Installing collected packages: cloudpickle\n",
            "  Found existing installation: cloudpickle 1.3.0\n",
            "    Uninstalling cloudpickle-1.3.0:\n",
            "      Successfully uninstalled cloudpickle-1.3.0\n",
            "Successfully installed cloudpickle-1.2.0\n"
          ],
          "name": "stdout"
        }
      ]
    },
    {
      "cell_type": "code",
      "metadata": {
        "colab": {
          "base_uri": "https://localhost:8080/"
        },
        "id": "6CbjVbOodhua",
        "outputId": "54236ed0-6b74-4496-8fad-ae16784cb421"
      },
      "source": [
        "%cd .."
      ],
      "execution_count": 9,
      "outputs": [
        {
          "output_type": "stream",
          "text": [
            "/content\n"
          ],
          "name": "stdout"
        }
      ]
    },
    {
      "cell_type": "code",
      "metadata": {
        "colab": {
          "base_uri": "https://localhost:8080/"
        },
        "id": "oY4A0qt7ResO",
        "outputId": "52b56ee7-af1d-4823-ffc7-0a0ba7def421"
      },
      "source": [
        "%cd baselines/"
      ],
      "execution_count": 10,
      "outputs": [
        {
          "output_type": "stream",
          "text": [
            "/content/baselines\n"
          ],
          "name": "stdout"
        }
      ]
    },
    {
      "cell_type": "code",
      "metadata": {
        "colab": {
          "base_uri": "https://localhost:8080/"
        },
        "id": "RLxhGbKUd0vr",
        "outputId": "fec0d328-48f1-4375-ae6a-51cadcb782d6"
      },
      "source": [
        "!ls"
      ],
      "execution_count": 11,
      "outputs": [
        {
          "output_type": "stream",
          "text": [
            "baselines\t\t benchmarks_mujoco1M.htm  docs\t     setup.cfg\n",
            "baselines.egg-info\t data\t\t\t  LICENSE    setup.py\n",
            "benchmarks_atari10M.htm  Dockerfile\t\t  README.md\n"
          ],
          "name": "stdout"
        }
      ]
    },
    {
      "cell_type": "code",
      "metadata": {
        "colab": {
          "base_uri": "https://localhost:8080/"
        },
        "id": "L1C9vHObeDf3",
        "outputId": "9f1d5678-fad7-42ba-89ed-f09a5d068571"
      },
      "source": [
        "!pip install -e ."
      ],
      "execution_count": 12,
      "outputs": [
        {
          "output_type": "stream",
          "text": [
            "Obtaining file:///content/baselines\n",
            "Requirement already satisfied: gym<0.16.0,>=0.15.4 in /usr/local/lib/python3.7/dist-packages (from baselines==0.1.6) (0.15.7)\n",
            "Requirement already satisfied: scipy in /usr/local/lib/python3.7/dist-packages (from baselines==0.1.6) (1.4.1)\n",
            "Requirement already satisfied: tqdm in /usr/local/lib/python3.7/dist-packages (from baselines==0.1.6) (4.41.1)\n",
            "Requirement already satisfied: joblib in /usr/local/lib/python3.7/dist-packages (from baselines==0.1.6) (1.0.1)\n",
            "Requirement already satisfied: cloudpickle in /usr/local/lib/python3.7/dist-packages (from baselines==0.1.6) (1.2.0)\n",
            "Requirement already satisfied: click in /usr/local/lib/python3.7/dist-packages (from baselines==0.1.6) (7.1.2)\n",
            "Requirement already satisfied: opencv-python in /usr/local/lib/python3.7/dist-packages (from baselines==0.1.6) (4.1.2.30)\n",
            "Requirement already satisfied: pyglet<=1.5.0,>=1.4.0 in /usr/local/lib/python3.7/dist-packages (from gym<0.16.0,>=0.15.4->baselines==0.1.6) (1.5.0)\n",
            "Requirement already satisfied: six in /usr/local/lib/python3.7/dist-packages (from gym<0.16.0,>=0.15.4->baselines==0.1.6) (1.15.0)\n",
            "Requirement already satisfied: numpy>=1.10.4 in /usr/local/lib/python3.7/dist-packages (from gym<0.16.0,>=0.15.4->baselines==0.1.6) (1.19.5)\n",
            "Requirement already satisfied: future in /usr/local/lib/python3.7/dist-packages (from pyglet<=1.5.0,>=1.4.0->gym<0.16.0,>=0.15.4->baselines==0.1.6) (0.16.0)\n",
            "Installing collected packages: baselines\n",
            "  Found existing installation: baselines 0.1.6\n",
            "    Can't uninstall 'baselines'. No files were found to uninstall.\n",
            "  Running setup.py develop for baselines\n",
            "Successfully installed baselines\n"
          ],
          "name": "stdout"
        }
      ]
    },
    {
      "cell_type": "code",
      "metadata": {
        "colab": {
          "base_uri": "https://localhost:8080/"
        },
        "id": "PofNumUpeH-m",
        "outputId": "20e5f07d-197d-432f-f11c-590d80f4b72b"
      },
      "source": [
        "!pip list"
      ],
      "execution_count": 13,
      "outputs": [
        {
          "output_type": "stream",
          "text": [
            "Package                       Version             Location          \n",
            "----------------------------- ------------------- ------------------\n",
            "absl-py                       0.12.0              \n",
            "alabaster                     0.7.12              \n",
            "albumentations                0.1.12              \n",
            "altair                        4.1.0               \n",
            "appdirs                       1.4.4               \n",
            "argon2-cffi                   20.1.0              \n",
            "arviz                         0.11.2              \n",
            "astor                         0.8.1               \n",
            "astropy                       4.2.1               \n",
            "astunparse                    1.6.3               \n",
            "async-generator               1.10                \n",
            "atari-py                      0.2.9               \n",
            "atomicwrites                  1.4.0               \n",
            "attrs                         21.2.0              \n",
            "audioread                     2.1.9               \n",
            "autograd                      1.3                 \n",
            "Babel                         2.9.1               \n",
            "backcall                      0.2.0               \n",
            "backports.tempfile            1.0                 \n",
            "backports.weakref             1.0.post1           \n",
            "baselines                     0.1.6               /content/baselines\n",
            "beautifulsoup4                4.6.3               \n",
            "bleach                        3.3.0               \n",
            "blis                          0.4.1               \n",
            "bokeh                         2.3.2               \n",
            "Bottleneck                    1.3.2               \n",
            "branca                        0.4.2               \n",
            "bs4                           0.0.1               \n",
            "bz2file                       0.98                \n",
            "CacheControl                  0.12.6              \n",
            "cached-property               1.5.2               \n",
            "cachetools                    4.2.2               \n",
            "catalogue                     1.0.0               \n",
            "certifi                       2021.5.30           \n",
            "cffi                          1.14.5              \n",
            "cftime                        1.5.0               \n",
            "chardet                       3.0.4               \n",
            "click                         7.1.2               \n",
            "cloudpickle                   1.2.0               \n",
            "cmake                         3.12.0              \n",
            "cmdstanpy                     0.9.5               \n",
            "colorcet                      2.0.6               \n",
            "colorlover                    0.3.0               \n",
            "community                     1.0.0b1             \n",
            "contextlib2                   0.5.5               \n",
            "convertdate                   2.3.2               \n",
            "coverage                      3.7.1               \n",
            "coveralls                     0.5                 \n",
            "crcmod                        1.7                 \n",
            "cufflinks                     0.17.3              \n",
            "cvxopt                        1.2.6               \n",
            "cvxpy                         1.0.31              \n",
            "cycler                        0.10.0              \n",
            "cymem                         2.0.5               \n",
            "Cython                        0.29.23             \n",
            "daft                          0.0.4               \n",
            "dask                          2.12.0              \n",
            "datascience                   0.10.6              \n",
            "debugpy                       1.0.0               \n",
            "decorator                     4.4.2               \n",
            "defusedxml                    0.7.1               \n",
            "descartes                     1.1.0               \n",
            "dill                          0.3.4               \n",
            "distributed                   1.25.3              \n",
            "dlib                          19.18.0             \n",
            "dm-sonnet                     1.35                \n",
            "dm-tree                       0.1.6               \n",
            "docopt                        0.6.2               \n",
            "docutils                      0.17.1              \n",
            "dopamine-rl                   1.0.5               \n",
            "earthengine-api               0.1.272             \n",
            "easydict                      1.9                 \n",
            "ecos                          2.0.7.post1         \n",
            "editdistance                  0.5.3               \n",
            "en-core-web-sm                2.2.5               \n",
            "entrypoints                   0.3                 \n",
            "ephem                         4.0.0.2             \n",
            "et-xmlfile                    1.1.0               \n",
            "fa2                           0.3.5               \n",
            "fastai                        1.0.61              \n",
            "fastdtw                       0.3.4               \n",
            "fastprogress                  1.0.0               \n",
            "fastrlock                     0.6                 \n",
            "fbprophet                     0.7.1               \n",
            "feather-format                0.4.1               \n",
            "filelock                      3.0.12              \n",
            "firebase-admin                4.4.0               \n",
            "fix-yahoo-finance             0.0.22              \n",
            "Flask                         1.1.4               \n",
            "flatbuffers                   1.12                \n",
            "folium                        0.8.3               \n",
            "future                        0.16.0              \n",
            "gast                          0.4.0               \n",
            "GDAL                          2.2.2               \n",
            "gdown                         3.6.4               \n",
            "gensim                        3.6.0               \n",
            "geographiclib                 1.52                \n",
            "geopy                         1.17.0              \n",
            "gevent                        1.4.0               \n",
            "gin-config                    0.4.0               \n",
            "glob2                         0.7                 \n",
            "google                        2.0.3               \n",
            "google-api-core               1.26.3              \n",
            "google-api-python-client      1.12.8              \n",
            "google-auth                   1.32.1              \n",
            "google-auth-httplib2          0.0.4               \n",
            "google-auth-oauthlib          0.4.4               \n",
            "google-cloud-bigquery         1.21.0              \n",
            "google-cloud-bigquery-storage 1.1.0               \n",
            "google-cloud-core             1.0.3               \n",
            "google-cloud-datastore        1.8.0               \n",
            "google-cloud-firestore        1.7.0               \n",
            "google-cloud-language         1.2.0               \n",
            "google-cloud-storage          1.18.1              \n",
            "google-cloud-translate        1.5.0               \n",
            "google-colab                  1.0.0               \n",
            "google-pasta                  0.2.0               \n",
            "google-resumable-media        0.4.1               \n",
            "googleapis-common-protos      1.53.0              \n",
            "googledrivedownloader         0.4                 \n",
            "graph-nets                    1.0.5               \n",
            "graphviz                      0.10.1              \n",
            "greenlet                      0.4.15              \n",
            "grpcio                        1.34.1              \n",
            "gspread                       3.0.1               \n",
            "gspread-dataframe             3.0.8               \n",
            "gunicorn                      20.0.4              \n",
            "gym                           0.15.7              \n",
            "h5py                          3.1.0               \n",
            "HeapDict                      1.0.1               \n",
            "hijri-converter               2.1.3               \n",
            "holidays                      0.10.5.2            \n",
            "holoviews                     1.14.4              \n",
            "html5lib                      1.0.1               \n",
            "httpimport                    0.5.18              \n",
            "httplib2                      0.17.4              \n",
            "httplib2shim                  0.0.3               \n",
            "humanize                      0.5.1               \n",
            "hyperopt                      0.1.2               \n",
            "ideep4py                      2.0.0.post3         \n",
            "idna                          2.10                \n",
            "imageio                       2.4.1               \n",
            "imagesize                     1.2.0               \n",
            "imbalanced-learn              0.4.3               \n",
            "imblearn                      0.0                 \n",
            "imgaug                        0.2.9               \n",
            "importlib-metadata            4.6.0               \n",
            "importlib-resources           5.2.0               \n",
            "imutils                       0.5.4               \n",
            "inflect                       2.1.0               \n",
            "iniconfig                     1.1.1               \n",
            "install                       1.3.4               \n",
            "intel-openmp                  2021.3.0            \n",
            "intervaltree                  2.1.0               \n",
            "ipykernel                     4.10.1              \n",
            "ipython                       5.5.0               \n",
            "ipython-genutils              0.2.0               \n",
            "ipython-sql                   0.3.9               \n",
            "ipywidgets                    7.6.3               \n",
            "itsdangerous                  1.1.0               \n",
            "jax                           0.2.13              \n",
            "jaxlib                        0.1.66+cuda110      \n",
            "jdcal                         1.4.1               \n",
            "jedi                          0.18.0              \n",
            "jieba                         0.42.1              \n",
            "Jinja2                        2.11.3              \n",
            "joblib                        1.0.1               \n",
            "jpeg4py                       0.1.4               \n",
            "jsonschema                    2.6.0               \n",
            "jupyter                       1.0.0               \n",
            "jupyter-client                5.3.5               \n",
            "jupyter-console               5.2.0               \n",
            "jupyter-core                  4.7.1               \n",
            "jupyterlab-pygments           0.1.2               \n",
            "jupyterlab-widgets            1.0.0               \n",
            "kaggle                        1.5.12              \n",
            "kapre                         0.3.5               \n",
            "Keras                         2.3.1               \n",
            "Keras-Applications            1.0.8               \n",
            "keras-nightly                 2.5.0.dev2021032900 \n",
            "Keras-Preprocessing           1.1.2               \n",
            "keras-vis                     0.4.1               \n",
            "kfac                          0.2.0               \n",
            "kiwisolver                    1.3.1               \n",
            "korean-lunar-calendar         0.2.1               \n",
            "librosa                       0.8.1               \n",
            "lightgbm                      2.2.3               \n",
            "llvmlite                      0.34.0              \n",
            "lmdb                          0.99                \n",
            "lucid                         0.3.10              \n",
            "LunarCalendar                 0.0.9               \n",
            "lxml                          4.2.6               \n",
            "magenta                       0.3.19              \n",
            "Markdown                      3.3.4               \n",
            "MarkupSafe                    2.0.1               \n",
            "matplotlib                    3.2.2               \n",
            "matplotlib-inline             0.1.2               \n",
            "matplotlib-venn               0.11.6              \n",
            "mesh-tensorflow               0.1.12              \n",
            "mido                          1.2.6               \n",
            "mir-eval                      0.5                 \n",
            "missingno                     0.4.2               \n",
            "mistune                       0.8.4               \n",
            "mizani                        0.6.0               \n",
            "mkl                           2019.0              \n",
            "mlxtend                       0.14.0              \n",
            "more-itertools                8.8.0               \n",
            "moviepy                       0.2.3.5             \n",
            "mpi4py                        3.0.3               \n",
            "mpmath                        1.2.1               \n",
            "msgpack                       1.0.2               \n",
            "multiprocess                  0.70.12.2           \n",
            "multitasking                  0.0.9               \n",
            "murmurhash                    1.0.5               \n",
            "music21                       5.5.0               \n",
            "natsort                       5.5.0               \n",
            "nbclient                      0.5.3               \n",
            "nbconvert                     5.6.1               \n",
            "nbformat                      5.1.3               \n",
            "nest-asyncio                  1.5.1               \n",
            "netCDF4                       1.5.7               \n",
            "networkx                      2.5.1               \n",
            "nibabel                       3.0.2               \n",
            "nltk                          3.2.5               \n",
            "notebook                      5.3.1               \n",
            "numba                         0.51.2              \n",
            "numexpr                       2.7.3               \n",
            "numpy                         1.19.5              \n",
            "nvidia-ml-py3                 7.352.0             \n",
            "oauth2client                  4.1.3               \n",
            "oauthlib                      3.1.1               \n",
            "okgrade                       0.4.3               \n",
            "opencv-contrib-python         4.1.2.30            \n",
            "opencv-python                 4.1.2.30            \n",
            "openpyxl                      2.5.9               \n",
            "opt-einsum                    3.3.0               \n",
            "osqp                          0.6.2.post0         \n",
            "packaging                     20.9                \n",
            "palettable                    3.3.0               \n",
            "pandas                        1.1.5               \n",
            "pandas-datareader             0.9.0               \n",
            "pandas-gbq                    0.13.3              \n",
            "pandas-profiling              1.4.1               \n",
            "pandocfilters                 1.4.3               \n",
            "panel                         0.11.3              \n",
            "param                         1.10.1              \n",
            "parso                         0.8.2               \n",
            "pathlib                       1.0.1               \n",
            "patsy                         0.5.1               \n",
            "pexpect                       4.8.0               \n",
            "pickleshare                   0.7.5               \n",
            "Pillow                        7.1.2               \n",
            "pip                           19.3.1              \n",
            "pip-tools                     4.5.1               \n",
            "plac                          1.1.3               \n",
            "plotly                        4.4.1               \n",
            "plotnine                      0.6.0               \n",
            "pluggy                        0.7.1               \n",
            "pooch                         1.4.0               \n",
            "portpicker                    1.3.9               \n",
            "prefetch-generator            1.0.1               \n",
            "preshed                       3.0.5               \n",
            "pretty-midi                   0.2.8               \n",
            "prettytable                   2.1.0               \n",
            "progressbar2                  3.38.0              \n",
            "prometheus-client             0.11.0              \n",
            "promise                       2.3                 \n",
            "prompt-toolkit                1.0.18              \n",
            "protobuf                      3.17.3              \n",
            "psutil                        5.4.8               \n",
            "psycopg2                      2.7.6.1             \n",
            "ptyprocess                    0.7.0               \n",
            "py                            1.10.0              \n",
            "pyarrow                       3.0.0               \n",
            "pyasn1                        0.4.8               \n",
            "pyasn1-modules                0.2.8               \n",
            "pycocotools                   2.0.2               \n",
            "pycparser                     2.20                \n",
            "pyct                          0.4.8               \n",
            "pydata-google-auth            1.2.0               \n",
            "pydot                         1.3.0               \n",
            "pydot-ng                      2.0.0               \n",
            "pydotplus                     2.0.2               \n",
            "PyDrive                       1.3.1               \n",
            "pyemd                         0.5.1               \n",
            "pyerfa                        2.0.0               \n",
            "pyglet                        1.5.0               \n",
            "Pygments                      2.6.1               \n",
            "pygobject                     3.26.1              \n",
            "pymc3                         3.11.2              \n",
            "PyMeeus                       0.5.11              \n",
            "pymongo                       3.11.4              \n",
            "pymystem3                     0.2.0               \n",
            "PyOpenGL                      3.1.5               \n",
            "pyparsing                     2.4.7               \n",
            "pypng                         0.0.20              \n",
            "pyrsistent                    0.18.0              \n",
            "pysndfile                     1.3.8               \n",
            "PySocks                       1.7.1               \n",
            "pystan                        2.19.1.1            \n",
            "pytest                        3.6.4               \n",
            "python-apt                    0.0.0               \n",
            "python-chess                  0.23.11             \n",
            "python-dateutil               2.8.1               \n",
            "python-louvain                0.15                \n",
            "python-rtmidi                 1.4.0               \n",
            "python-slugify                5.0.2               \n",
            "python-utils                  2.5.6               \n",
            "pytz                          2018.9              \n",
            "pyviz-comms                   2.1.0               \n",
            "PyWavelets                    1.1.1               \n",
            "PyYAML                        3.13                \n",
            "pyzmq                         22.1.0              \n",
            "qdldl                         0.1.5.post0         \n",
            "qtconsole                     5.1.1               \n",
            "QtPy                          1.9.0               \n",
            "regex                         2019.12.20          \n",
            "requests                      2.23.0              \n",
            "requests-oauthlib             1.3.0               \n",
            "resampy                       0.2.2               \n",
            "retrying                      1.3.3               \n",
            "rpy2                          3.4.5               \n",
            "rsa                           4.7.2               \n",
            "scikit-image                  0.16.2              \n",
            "scikit-learn                  0.22.2.post1        \n",
            "scipy                         1.4.1               \n",
            "screen-resolution-extra       0.0.0               \n",
            "scs                           2.1.4               \n",
            "seaborn                       0.11.1              \n",
            "semantic-version              2.8.4               \n",
            "semver                        2.13.0              \n",
            "Send2Trash                    1.7.1               \n",
            "setuptools                    57.0.0              \n",
            "setuptools-git                1.2                 \n",
            "Shapely                       1.7.1               \n",
            "simplegeneric                 0.8.1               \n",
            "six                           1.15.0              \n",
            "sklearn                       0.0                 \n",
            "sklearn-pandas                1.8.0               \n",
            "smart-open                    5.1.0               \n",
            "snowballstemmer               2.1.0               \n",
            "sortedcontainers              2.4.0               \n",
            "SoundFile                     0.10.3.post1        \n",
            "spacy                         2.2.4               \n",
            "Sphinx                        1.8.5               \n",
            "sphinxcontrib-serializinghtml 1.1.5               \n",
            "sphinxcontrib-websupport      1.2.4               \n",
            "SQLAlchemy                    1.4.20              \n",
            "sqlparse                      0.4.1               \n",
            "srsly                         1.0.5               \n",
            "stable-baselines              2.2.1               \n",
            "statsmodels                   0.10.2              \n",
            "sympy                         1.7.1               \n",
            "tables                        3.4.4               \n",
            "tabulate                      0.8.9               \n",
            "tblib                         1.7.0               \n",
            "tensor2tensor                 1.14.1              \n",
            "tensorboard                   1.15.0              \n",
            "tensorboard-data-server       0.6.1               \n",
            "tensorboard-plugin-wit        1.8.0               \n",
            "tensorflow                    1.15.2              \n",
            "tensorflow-datasets           4.0.1               \n",
            "tensorflow-estimator          1.15.1              \n",
            "tensorflow-gan                2.0.0               \n",
            "tensorflow-gcs-config         2.5.0               \n",
            "tensorflow-hub                0.12.0              \n",
            "tensorflow-metadata           1.1.0               \n",
            "tensorflow-probability        0.7.0               \n",
            "termcolor                     1.1.0               \n",
            "terminado                     0.10.1              \n",
            "testpath                      0.5.0               \n",
            "text-unidecode                1.3                 \n",
            "textblob                      0.15.3              \n",
            "tflearn                       0.3.2               \n",
            "Theano-PyMC                   1.1.2               \n",
            "thinc                         7.4.0               \n",
            "tifffile                      2021.7.2            \n",
            "toml                          0.10.2              \n",
            "toolz                         0.11.1              \n",
            "torch                         1.9.0+cu102         \n",
            "torchsummary                  1.5.1               \n",
            "torchtext                     0.10.0              \n",
            "torchvision                   0.10.0+cu102        \n",
            "tornado                       5.1.1               \n",
            "tqdm                          4.41.1              \n",
            "traitlets                     5.0.5               \n",
            "tweepy                        3.10.0              \n",
            "typeguard                     2.7.1               \n",
            "typing-extensions             3.7.4.3             \n",
            "tzlocal                       1.5.1               \n",
            "uritemplate                   3.0.1               \n",
            "urllib3                       1.24.3              \n",
            "vega-datasets                 0.9.0               \n",
            "wasabi                        0.8.2               \n",
            "wcwidth                       0.2.5               \n",
            "webencodings                  0.5.1               \n",
            "Werkzeug                      1.0.1               \n",
            "wheel                         0.36.2              \n",
            "widgetsnbextension            3.5.1               \n",
            "wordcloud                     1.5.0               \n",
            "wrapt                         1.12.1              \n",
            "xarray                        0.18.2              \n",
            "xgboost                       0.90                \n",
            "xkit                          0.0.0               \n",
            "xlrd                          1.1.0               \n",
            "xlwt                          1.3.0               \n",
            "yellowbrick                   0.9.1               \n",
            "zict                          2.0.0               \n",
            "zipp                          3.4.1               \n",
            "zmq                           0.0.0               \n"
          ],
          "name": "stdout"
        }
      ]
    },
    {
      "cell_type": "code",
      "metadata": {
        "colab": {
          "base_uri": "https://localhost:8080/"
        },
        "id": "NCK6Um0Ig11e",
        "outputId": "5b2d4a5f-d437-4441-8536-0843634c2966"
      },
      "source": [
        "%cd .."
      ],
      "execution_count": 14,
      "outputs": [
        {
          "output_type": "stream",
          "text": [
            "/content\n"
          ],
          "name": "stdout"
        }
      ]
    },
    {
      "cell_type": "markdown",
      "metadata": {
        "id": "nsvwBKIcEfIH"
      },
      "source": [
        "##RUN\n"
      ]
    },
    {
      "cell_type": "markdown",
      "metadata": {
        "id": "j8eyauC4FBJy"
      },
      "source": [
        "###Set up Neural Network"
      ]
    },
    {
      "cell_type": "code",
      "metadata": {
        "id": "fZKb9-treQvQ"
      },
      "source": [
        "import numpy as np\n",
        "from PPONetwork import PPONetwork, PPOModel\n",
        "from goForwardGame import vectorizedGoForwardGames\n",
        "import tensorflow as tf\n",
        "import joblib\n",
        "import copy\n",
        "import time"
      ],
      "execution_count": 15,
      "outputs": []
    },
    {
      "cell_type": "code",
      "metadata": {
        "id": "3oyagUFLgzu4"
      },
      "source": [
        "def sf01(arr):\n",
        "    \"\"\"\n",
        "    swap and then flatten axes 0 and 1\n",
        "    \"\"\"\n",
        "    s = arr.shape\n",
        "    return arr.swapaxes(0, 1).reshape(s[0] * s[1], *s[2:])\n"
      ],
      "execution_count": 16,
      "outputs": []
    },
    {
      "cell_type": "code",
      "metadata": {
        "id": "h9-8mwB0g8kZ"
      },
      "source": [
        "class GoForwardPPOSimulation(object):\n",
        "    \n",
        "    def __init__(self, sess, *, inpDim = 732, nGames = 8, nSteps = 20, nMiniBatches = 4, nOptEpochs = 5, lam = 0.95, gamma = 0.995, ent_coef = 0.01, vf_coef = 0.5, max_grad_norm = 0.5, minLearningRate = 0.000001, learningRate, clipRange, saveEvery = 500):\n",
        "        \n",
        "        #network/model for training\n",
        "        self.trainingNetwork = PPONetwork(sess, inpDim, 8032, \"trainNet\")\n",
        "        self.trainingModel = PPOModel(sess, self.trainingNetwork, inpDim, 8032, ent_coef, vf_coef, max_grad_norm)\n",
        "        \n",
        "        #player networks which choose decisions - allowing for later on experimenting with playing against older versions of the network (so decisions they make are not trained on).\n",
        "        self.playerNetworks = {}\n",
        "        \n",
        "        #for now each player uses the same (up to date) network to make it's decisions.\n",
        "        self.playerNetworks[1] = self.playerNetworks[2] = self.playerNetworks[3] = self.playerNetworks[4] = self.trainingNetwork\n",
        "        self.trainOnPlayer = [True, True, True, True]\n",
        "        \n",
        "        tf.global_variables_initializer().run(session=sess)\n",
        "        \n",
        "        #environment\n",
        "        self.vectorizedGame = vectorizedGoForwardGames(nGames)\n",
        "        \n",
        "        #params\n",
        "        self.nGames = nGames\n",
        "        self.inpDim = inpDim\n",
        "        self.nSteps = nSteps\n",
        "        self.nMiniBatches = nMiniBatches\n",
        "        self.nOptEpochs = nOptEpochs\n",
        "        self.lam = lam\n",
        "        self.gamma = gamma\n",
        "        self.learningRate = learningRate\n",
        "        self.minLearningRate = minLearningRate\n",
        "        self.clipRange = clipRange\n",
        "        self.saveEvery = saveEvery\n",
        "        \n",
        "        self.rewardNormalization = 5.0 #divide rewards by this number (so reward ranges from -1.0 to 3.0)\n",
        "        \n",
        "        #test networks - keep network saved periodically and run test games against current network\n",
        "        self.testNetworks = {}\n",
        "        \n",
        "        # final 4 observations need to be carried over (for value estimation and propagating rewards back)\n",
        "        self.prevObs = []\n",
        "        self.prevGos = []\n",
        "        self.prevAvailAcs = []\n",
        "        self.prevRewards = []\n",
        "        self.prevActions = []\n",
        "        self.prevValues = []\n",
        "        self.prevDones = []\n",
        "        self.prevNeglogpacs = []\n",
        "        \n",
        "        #episode/training information\n",
        "        self.totTrainingSteps = 0\n",
        "        self.epInfos = []\n",
        "        self.gamesDone = 0\n",
        "        self.losses = []\n",
        "        \n",
        "    def run(self):\n",
        "        #run vectorized games for nSteps and generate mini batch to train on.\n",
        "        mb_obs, mb_pGos, mb_actions, mb_values, mb_neglogpacs, mb_rewards, mb_dones, mb_availAcs = [], [], [], [], [], [], [], []\n",
        "        for i in range(len(self.prevObs)):\n",
        "            mb_obs.append(self.prevObs[i])\n",
        "            mb_pGos.append(self.prevGos[i])\n",
        "            mb_actions.append(self.prevActions[i])\n",
        "            mb_values.append(self.prevValues[i])\n",
        "            mb_neglogpacs.append(self.prevNeglogpacs[i])\n",
        "            mb_rewards.append(self.prevRewards[i])\n",
        "            mb_dones.append(self.prevDones[i])\n",
        "            mb_availAcs.append(self.prevAvailAcs[i])\n",
        "        if len(self.prevObs) == 4:\n",
        "            endLength = self.nSteps\n",
        "        else:\n",
        "            endLength = self.nSteps-4\n",
        "        for _ in range(self.nSteps):\n",
        "            currGos, currStates, currAvailAcs = self.vectorizedGame.getCurrStates()\n",
        "            currStates = np.squeeze(currStates)\n",
        "            currAvailAcs = np.squeeze(currAvailAcs)\n",
        "            currGos = np.squeeze(currGos)\n",
        "            actions, values, neglogpacs = self.trainingNetwork.step(currStates, currAvailAcs)\n",
        "            #print(actions)\n",
        "            rewards, dones, infos = self.vectorizedGame.step(actions)\n",
        "            mb_obs.append(currStates.copy())\n",
        "            mb_pGos.append(currGos)\n",
        "            mb_availAcs.append(currAvailAcs.copy())\n",
        "            mb_actions.append(actions)\n",
        "            mb_values.append(values)\n",
        "            mb_neglogpacs.append(neglogpacs)\n",
        "            mb_dones.append(list(dones))\n",
        "            #now back assign rewards if state is terminal\n",
        "            toAppendRewards = np.zeros((self.nGames,))\n",
        "            mb_rewards.append(toAppendRewards)\n",
        "            for i in range(self.nGames):\n",
        "                if dones[i] == True:\n",
        "                    reward = rewards[i]\n",
        "                    mb_rewards[-1][i] = reward[mb_pGos[-1][i]-1] / self.rewardNormalization\n",
        "                    mb_rewards[-2][i] = reward[mb_pGos[-2][i]-1] / self.rewardNormalization\n",
        "                    mb_rewards[-3][i] = reward[mb_pGos[-3][i]-1] / self.rewardNormalization\n",
        "                    mb_rewards[-4][i] = reward[mb_pGos[-4][i]-1] / self.rewardNormalization\n",
        "                    mb_dones[-2][i] = True\n",
        "                    mb_dones[-3][i] = True\n",
        "                    mb_dones[-4][i] = True\n",
        "                    self.epInfos.append(infos[i])\n",
        "                    self.gamesDone += 1\n",
        "                    print(\"Game %d finished. Lasted %d turns\" % (self.gamesDone, infos[i]['numTurns']))\n",
        "        self.prevObs = mb_obs[endLength:]\n",
        "        self.prevGos = mb_pGos[endLength:]\n",
        "        self.prevRewards = mb_rewards[endLength:]\n",
        "        self.prevActions = mb_actions[endLength:]\n",
        "        self.prevValues = mb_values[endLength:]\n",
        "        self.prevDones = mb_dones[endLength:]\n",
        "        self.prevNeglogpacs = mb_neglogpacs[endLength:]\n",
        "        self.prevAvailAcs = mb_availAcs[endLength:]\n",
        "        mb_obs = np.asarray(mb_obs, dtype=np.float32)[:endLength]\n",
        "        mb_availAcs = np.asarray(mb_availAcs, dtype=np.float32)[:endLength]\n",
        "        mb_rewards = np.asarray(mb_rewards, dtype=np.float32)[:endLength]\n",
        "        mb_actions = np.asarray(mb_actions, dtype=np.float32)[:endLength]\n",
        "        mb_values = np.asarray(mb_values, dtype=np.float32)\n",
        "        mb_neglogpacs = np.asarray(mb_neglogpacs, dtype=np.float32)[:endLength]\n",
        "        mb_dones = np.asarray(mb_dones, dtype=np.bool)\n",
        "        #discount/bootstrap value function with generalized advantage estimation:\n",
        "        mb_returns = np.zeros_like(mb_rewards)\n",
        "        mb_advs = np.zeros_like(mb_rewards)\n",
        "        for k in range(4):\n",
        "            lastgaelam = 0\n",
        "            for t in reversed(range(k, endLength, 4)):\n",
        "                nextNonTerminal = 1.0 - mb_dones[t]\n",
        "                nextValues = mb_values[t+4]\n",
        "                delta = mb_rewards[t] + self.gamma * nextValues * nextNonTerminal - mb_values[t]\n",
        "                mb_advs[t] = lastgaelam = delta + self.gamma * self.lam * nextNonTerminal * lastgaelam\n",
        "        \n",
        "        mb_values = mb_values[:endLength]\n",
        "        #mb_dones = mb_dones[:endLength]\n",
        "        mb_returns = mb_advs + mb_values\n",
        "        \n",
        "        return map(sf01, (mb_obs, mb_availAcs, mb_returns, mb_actions, mb_values, mb_neglogpacs))\n",
        "        \n",
        "    def train(self, nTotalSteps):\n",
        "\n",
        "        nUpdates = nTotalSteps // (self.nGames * self.nSteps)\n",
        "        \n",
        "        for update in range(nUpdates):\n",
        "            \n",
        "            alpha = 1.0 - update/nUpdates\n",
        "            lrnow = self.learningRate * alpha\n",
        "            if lrnow < self.minLearningRate:\n",
        "                lrnow = self.minLearningRate\n",
        "            cliprangenow = self.clipRange * alpha\n",
        "            \n",
        "            states, availAcs, returns, actions, values, neglogpacs = self.run()\n",
        "            \n",
        "            batchSize = states.shape[0]\n",
        "            self.totTrainingSteps += batchSize\n",
        "            \n",
        "            nTrainingBatch = batchSize // self.nMiniBatches\n",
        "            \n",
        "            currParams = self.trainingNetwork.getParams()\n",
        "            \n",
        "            mb_lossvals = []\n",
        "            inds = np.arange(batchSize)\n",
        "            for _ in range(self.nOptEpochs):\n",
        "                np.random.shuffle(inds)\n",
        "                for start in range(0, batchSize, nTrainingBatch):\n",
        "                    end = start + nTrainingBatch\n",
        "                    mb_inds = inds[start:end]\n",
        "                    mb_lossvals.append(self.trainingModel.train(lrnow, cliprangenow, states[mb_inds], availAcs[mb_inds], returns[mb_inds], actions[mb_inds], values[mb_inds], neglogpacs[mb_inds]))\n",
        "            lossvals = np.mean(mb_lossvals, axis=0)\n",
        "            self.losses.append(lossvals)\n",
        "            \n",
        "            newParams = self.trainingNetwork.getParams()\n",
        "            needToReset = 0\n",
        "            for param in newParams:\n",
        "                if np.sum(np.isnan(param)) > 0:\n",
        "                    needToReset = 1\n",
        "                    \n",
        "            if needToReset == 1:\n",
        "                self.trainingNetwork.loadParams(currParams)\n",
        "            \n",
        "            if update % self.saveEvery == 0:\n",
        "                name = \"modelParameters\" + str(update)\n",
        "                self.trainingNetwork.saveParams(name)\n",
        "                joblib.dump(self.losses,\"losses.pkl\")\n",
        "                joblib.dump(self.epInfos, \"epInfos.pkl\")"
      ],
      "execution_count": 17,
      "outputs": []
    },
    {
      "cell_type": "code",
      "metadata": {
        "colab": {
          "base_uri": "https://localhost:8080/"
        },
        "id": "p5TvehvthNeR",
        "outputId": "84eb9922-f180-4d85-892e-6112af8c3cef"
      },
      "source": [
        "print(tf.__version__)"
      ],
      "execution_count": null,
      "outputs": [
        {
          "output_type": "stream",
          "text": [
            "1.15.2\n"
          ],
          "name": "stdout"
        }
      ]
    },
    {
      "cell_type": "markdown",
      "metadata": {
        "id": "-sHDlSqKFSVx"
      },
      "source": [
        "### Main run"
      ]
    },
    {
      "cell_type": "code",
      "metadata": {
        "colab": {
          "base_uri": "https://localhost:8080/"
        },
        "id": "Abb9EbPAhCM9",
        "outputId": "90243602-fd89-4979-f580-6b55717b377c"
      },
      "source": [
        "  with tf.Session() as sess:\n",
        "      mainSim = GoForwardPPOSimulation(sess, nGames=64, nSteps=20, learningRate = 0.00025, clipRange = 0.2)\n",
        "      start = time.time()\n",
        "      mainSim.train(1000000000)\n",
        "      end = time.time()\n",
        "      print(\"Time Taken: %f\" % (end-start))\n",
        "      "
      ],
      "execution_count": null,
      "outputs": [
        {
          "output_type": "stream",
          "text": [
            "WARNING:tensorflow:From /content/PPONetwork.py:16: The name tf.variable_scope is deprecated. Please use tf.compat.v1.variable_scope instead.\n",
            "\n",
            "WARNING:tensorflow:From /content/PPONetwork.py:17: The name tf.placeholder is deprecated. Please use tf.compat.v1.placeholder instead.\n",
            "\n",
            "WARNING:tensorflow:From /content/baselines/baselines/a2c/utils.py:61: The name tf.get_variable is deprecated. Please use tf.compat.v1.get_variable instead.\n",
            "\n",
            "WARNING:tensorflow:From /content/PPONetwork.py:30: The name tf.random_uniform is deprecated. Please use tf.random.uniform instead.\n",
            "\n",
            "WARNING:tensorflow:From /content/PPONetwork.py:31: The name tf.log is deprecated. Please use tf.math.log instead.\n",
            "\n",
            "WARNING:tensorflow:From /content/PPONetwork.py:34: calling reduce_max_v1 (from tensorflow.python.ops.math_ops) with keep_dims is deprecated and will be removed in a future version.\n",
            "Instructions for updating:\n",
            "keep_dims is deprecated, use keepdims instead\n",
            "WARNING:tensorflow:From /content/PPONetwork.py:35: calling reduce_sum_v1 (from tensorflow.python.ops.math_ops) with keep_dims is deprecated and will be removed in a future version.\n",
            "Instructions for updating:\n",
            "keep_dims is deprecated, use keepdims instead\n",
            "WARNING:tensorflow:From /content/PPONetwork.py:55: The name tf.get_collection is deprecated. Please use tf.compat.v1.get_collection instead.\n",
            "\n",
            "WARNING:tensorflow:From /content/PPONetwork.py:55: The name tf.GraphKeys is deprecated. Please use tf.compat.v1.GraphKeys instead.\n",
            "\n",
            "WARNING:tensorflow:From /tensorflow-1.15.2/python3.7/tensorflow_core/python/ops/math_grad.py:1424: where (from tensorflow.python.ops.array_ops) is deprecated and will be removed in a future version.\n",
            "Instructions for updating:\n",
            "Use tf.where in 2.0, which has the same broadcast rule as np.where\n",
            "WARNING:tensorflow:From /content/PPONetwork.py:128: The name tf.train.AdamOptimizer is deprecated. Please use tf.compat.v1.train.AdamOptimizer instead.\n",
            "\n"
          ],
          "name": "stdout"
        }
      ]
    }
  ]
}