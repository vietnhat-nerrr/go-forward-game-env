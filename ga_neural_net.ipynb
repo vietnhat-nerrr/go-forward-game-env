{
 "cells": [
  {
   "cell_type": "code",
   "execution_count": 1,
   "source": [
    "import numpy as np\n",
    "import json\n",
    "\n",
    "from goForwardGame import vectorizedGoForwardGamesTest\n",
    "from ga_neural_net import ANN\n",
    "\n",
    "vectorizedGame = vectorizedGoForwardGamesTest()"
   ],
   "outputs": [],
   "metadata": {}
  },
  {
   "cell_type": "code",
   "execution_count": 2,
   "source": [
    "vectorizedGame.reset()"
   ],
   "outputs": [],
   "metadata": {}
  },
  {
   "cell_type": "code",
   "execution_count": 3,
   "source": [
    "players = []\n",
    "for _ in range(4):\n",
    "    players.append(ANN(layers_unit=[732, 1024, 1024, 1]))"
   ],
   "outputs": [],
   "metadata": {}
  },
  {
   "cell_type": "code",
   "execution_count": 4,
   "source": [
    "EPOCH_GAME = 4 # Number of games before select best to crossover\n",
    "for _ in range(10):\n",
    "    scoreboard = np.zeros(4)\n",
    "    for _ in range(EPOCH_GAME):\n",
    "        vectorizedGame.reset()\n",
    "        is_done = False\n",
    "        with open('log.txt', 'a') as logfile:\n",
    "            while not is_done:\n",
    "                _, string_cards, actions, number_actions = vectorizedGame.info()\n",
    "                current_player, state, action_space = vectorizedGame.getCurrentState()\n",
    "                step = min(int(players[current_player-1].get_step(state[0]) * len(number_actions)), len(number_actions)-1)\n",
    "                rewards, is_done, end_info = vectorizedGame.step(number_actions[step])\n",
    "                logfile.write(str(number_actions[step])+'\\t')\n",
    "            logfile.write('\\n')\n",
    "            logfile.close()\n",
    "        scoreboard += rewards\n",
    "        print(rewards)\n",
    "    print('After', EPOCH_GAME, 'scoreboard:', scoreboard/EPOCH_GAME)\n",
    "    rank = scoreboard.argsort()[::-1]\n",
    "    players[rank[2]] = players[rank[0]].fuck_with(players[rank[1]], 0.5)\n",
    "    players[rank[3]] = players[rank[0]].fuck_with(players[rank[1]], 0.1)"
   ],
   "outputs": [
    {
     "output_type": "stream",
     "name": "stdout",
     "text": [
      "[-13.  -8.  25.  -4.]\n",
      "[-13.  -3.  18.  -2.]\n",
      "[-9. -5. -3. 17.]\n",
      "[-13.  -4.  21.  -4.]\n",
      "After 4 scoreboard: [-12.    -5.    15.25   1.75]\n",
      "[-13. -13.  28.  -2.]\n",
      "[-13. -10.  25.  -2.]\n",
      "[-13. -10.  26.  -3.]\n",
      "[-13. -12.  36. -11.]\n",
      "After 4 scoreboard: [-13.   -11.25  28.75  -4.5 ]\n",
      "[-13.  -7.  23.  -3.]\n",
      "[-13. -10.  27.  -4.]\n",
      "[-13. -13.  28.  -2.]\n",
      "[-13. -13.  30.  -4.]\n",
      "After 4 scoreboard: [-13.   -10.75  27.    -3.25]\n",
      "[ -4. -13.  26.  -9.]\n",
      "[-13. -13.  28.  -2.]\n",
      "[-10. -13.  25.  -2.]\n",
      "[-13. -13. -12.  38.]\n",
      "After 4 scoreboard: [-10.   -13.    16.75   6.25]\n",
      "[-13. -13.  33.  -7.]\n",
      "[-13.  -7.  33. -13.]\n",
      "[-13. -11.  35. -11.]\n",
      "[-13. -13.  27.  -1.]\n",
      "After 4 scoreboard: [-13. -11.  32.  -8.]\n",
      "[-13. -12.  27.  -2.]\n",
      "[-13. -13.  30.  -4.]\n",
      "[-13. -13.  30.  -4.]\n",
      "[-13. -11.  33.  -9.]\n",
      "After 4 scoreboard: [-13.   -12.25  30.    -4.75]\n",
      "[-10. -13.  26.  -3.]\n",
      "[-13. -13.  -1.  27.]\n",
      "[-12. -13.  28.  -3.]\n",
      "[ -4. -13.  23.  -6.]\n",
      "After 4 scoreboard: [ -9.75 -13.    19.     3.75]\n",
      "[-13. -13.  27.  -1.]\n",
      "[-13. -10.  -2.  25.]\n",
      "[-13. -13.  27.  -1.]\n",
      "[-10. -13.  -8.  31.]\n",
      "After 4 scoreboard: [-12.25 -12.25  11.    13.5 ]\n",
      "[-13. -10.  30.  -7.]\n",
      "[-13. -13.  34.  -8.]\n",
      "[-13. -13.  31.  -5.]\n",
      "[-13. -13.  31.  -5.]\n",
      "After 4 scoreboard: [-13.   -12.25  31.5   -6.25]\n",
      "[-13. -13.  -1.  27.]\n",
      "[-11. -13.  33.  -9.]\n",
      "[ -9. -13.  30.  -8.]\n",
      "[-13. -13.  27.  -1.]\n",
      "After 4 scoreboard: [-11.5  -13.    22.25   2.25]\n"
     ]
    }
   ],
   "metadata": {}
  },
  {
   "cell_type": "code",
   "execution_count": 7,
   "source": [
    "# Export model\n",
    "players[0].export_model('model.json')"
   ],
   "outputs": [],
   "metadata": {}
  },
  {
   "cell_type": "code",
   "execution_count": 8,
   "source": [
    "# Load model from saved file\n",
    "model = ANN.load_model('model.json')"
   ],
   "outputs": [],
   "metadata": {}
  }
 ],
 "metadata": {
  "orig_nbformat": 4,
  "language_info": {
   "name": "python"
  }
 },
 "nbformat": 4,
 "nbformat_minor": 2
}