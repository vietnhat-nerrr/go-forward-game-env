{
 "cells": [
  {
   "cell_type": "code",
   "execution_count": 1,
   "source": [
    "import numpy as np\n",
    "\n",
    "from goForwardGame import vectorizedGoForwardGamesTest\n",
    "from ga_neural_net import ANN\n",
    "\n",
    "vectorizedGame = vectorizedGoForwardGamesTest()"
   ],
   "outputs": [],
   "metadata": {}
  },
  {
   "cell_type": "code",
   "execution_count": 2,
   "source": [
    "vectorizedGame.reset()"
   ],
   "outputs": [],
   "metadata": {}
  },
  {
   "cell_type": "code",
   "execution_count": 3,
   "source": [
    "players = []\n",
    "for _ in range(4):\n",
    "    players.append(ANN(layers_unit=[732, 128, 128, 1]))\n",
    "\n",
    "gen = 1"
   ],
   "outputs": [],
   "metadata": {}
  },
  {
   "cell_type": "code",
   "execution_count": 4,
   "source": [
    "EPOCH_GAME = 1 # Number of games before select best to crossover\n",
    "EPOCH = 2\n",
    "\n",
    "logfile = open('log.csv', 'a')\n",
    "\n",
    "for _ in range(EPOCH):\n",
    "    scoreboard = np.zeros(4)\n",
    "    for game_index in range(EPOCH_GAME):\n",
    "        vectorizedGame.reset()\n",
    "        is_done = False\n",
    "        game_steps_history = []\n",
    "\n",
    "        logfile.write(f'{gen},{game_index+1},')\n",
    "        print(f'gen {gen}, game {game_index+1}')\n",
    "        # Play a game\n",
    "        while not is_done:\n",
    "            _, string_cards, actions, number_actions = vectorizedGame.info()\n",
    "            current_player, state, action_space = vectorizedGame.getCurrentState()\n",
    "            step = min(int(players[current_player-1].get_step(state[0]) * len(number_actions)), len(number_actions)-1)\n",
    "            rewards, is_done, end_info = vectorizedGame.step(number_actions[step])\n",
    "            game_steps_history.append(number_actions[step])\n",
    "\n",
    "        scoreboard += rewards\n",
    "        logfile.write(f'\"{str(game_steps_history)}\",\"{rewards}\"\\n')\n",
    "    print('After game' ,game_index, 'scoreboard:', scoreboard/EPOCH_GAME)\n",
    "    \n",
    "    rank = scoreboard.argsort()[::-1]\n",
    "    players[rank[2]] = players[rank[0]].fuck_with(players[rank[1]], 0.5)\n",
    "    players[rank[3]] = players[rank[0]].fuck_with(players[rank[1]], 0.1)\n",
    "    gen+=1\n",
    "\n",
    "logfile.close()"
   ],
   "outputs": [
    {
     "output_type": "stream",
     "name": "stdout",
     "text": [
      "gen 1, game 1\n",
      "After game 0 scoreboard: [ 19. -13.  -2.  -4.]\n",
      "gen 2, game 1\n",
      "After game 0 scoreboard: [ 29. -13.  -3. -13.]\n"
     ]
    }
   ],
   "metadata": {}
  },
  {
   "cell_type": "code",
   "execution_count": 5,
   "source": [
    "# Export model\n",
    "players[0].export_model('model.json')"
   ],
   "outputs": [],
   "metadata": {}
  },
  {
   "cell_type": "code",
   "execution_count": 6,
   "source": [
    "# Load model from saved file\n",
    "model = ANN.load_model('model.json')"
   ],
   "outputs": [
    {
     "output_type": "stream",
     "name": "stdout",
     "text": [
      "732\n",
      "128\n",
      "128\n",
      "1\n"
     ]
    }
   ],
   "metadata": {}
  },
  {
   "cell_type": "code",
   "execution_count": 7,
   "source": [
    "model.get_step(state[0])"
   ],
   "outputs": [
    {
     "output_type": "execute_result",
     "data": {
      "text/plain": [
       "array([0.20632162])"
      ]
     },
     "metadata": {},
     "execution_count": 7
    }
   ],
   "metadata": {}
  }
 ],
 "metadata": {
  "orig_nbformat": 4,
  "language_info": {
   "name": "python"
  }
 },
 "nbformat": 4,
 "nbformat_minor": 2
}