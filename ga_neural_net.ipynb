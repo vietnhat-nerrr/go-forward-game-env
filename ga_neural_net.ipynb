{
 "cells": [
  {
   "cell_type": "code",
   "execution_count": 13,
   "source": [
    "import numpy as np\n",
    "\n",
    "from goForwardGame import vectorizedGoForwardGamesTest\n",
    "from ga_neural_net import ANN\n",
    "\n",
    "vectorizedGame = vectorizedGoForwardGamesTest()"
   ],
   "outputs": [],
   "metadata": {}
  },
  {
   "cell_type": "code",
   "execution_count": 14,
   "source": [
    "vectorizedGame.reset()"
   ],
   "outputs": [],
   "metadata": {}
  },
  {
   "cell_type": "code",
   "execution_count": 15,
   "source": [
    "players = []\n",
    "for _ in range(4):\n",
    "    players.append(ANN(layers_unit=[732, 1024, 1024, 1]))\n",
    "\n",
    "gen = 1"
   ],
   "outputs": [],
   "metadata": {}
  },
  {
   "cell_type": "code",
   "execution_count": 16,
   "source": [
    "EPOCH_GAME = 4 # Number of games before select best to crossover\n",
    "EPOCH = 10\n",
    "\n",
    "logfile = open('log.csv', 'a')\n",
    "\n",
    "for _ in range(EPOCH):\n",
    "    scoreboard = np.zeros(4)\n",
    "    for game_index in range(EPOCH_GAME):\n",
    "        vectorizedGame.reset()\n",
    "        is_done = False\n",
    "        game_steps_history = []\n",
    "\n",
    "        logfile.write(f'{gen},{game_index+1},')\n",
    "        print(f'gen {gen}, game {game_index+1}')\n",
    "        # Play a game\n",
    "        while not is_done:\n",
    "            _, string_cards, actions, number_actions = vectorizedGame.info()\n",
    "            current_player, state, action_space = vectorizedGame.getCurrentState()\n",
    "            step = min(int(players[current_player-1].get_step(state[0]) * len(number_actions)), len(number_actions)-1)\n",
    "            rewards, is_done, end_info = vectorizedGame.step(number_actions[step])\n",
    "            game_steps_history.append(number_actions[step])\n",
    "\n",
    "        scoreboard += rewards\n",
    "        logfile.write(f'\"{str(game_steps_history)}\",\"{rewards}\"\\n')\n",
    "    print('After', EPOCH_GAME, 'game scoreboard:', scoreboard/EPOCH_GAME)\n",
    "    \n",
    "    rank = scoreboard.argsort()[::-1]\n",
    "    players[rank[2]] = players[rank[0]].fuck_with(players[rank[1]], 0.5)\n",
    "    players[rank[3]] = players[rank[0]].fuck_with(players[rank[1]], 0.1)\n",
    "    gen+=1\n",
    "\n",
    "logfile.close()"
   ],
   "outputs": [
    {
     "output_type": "stream",
     "name": "stdout",
     "text": [
      "gen 1, game 1\n",
      "gen 1, game 2\n",
      "gen 1, game 3\n",
      "gen 1, game 4\n",
      "After 4 game scoreboard: [ 2.   11.5  -9.25 -4.25]\n",
      "gen 2, game 1\n",
      "gen 2, game 2\n",
      "gen 2, game 3\n",
      "gen 2, game 4\n",
      "After 4 game scoreboard: [ 14.   11.5 -13.  -12.5]\n",
      "gen 3, game 1\n",
      "gen 3, game 2\n",
      "gen 3, game 3\n",
      "gen 3, game 4\n",
      "After 4 game scoreboard: [ 29.    -4.25 -12.25 -12.5 ]\n",
      "gen 4, game 1\n",
      "gen 4, game 2\n",
      "gen 4, game 3\n",
      "gen 4, game 4\n",
      "After 4 game scoreboard: [ -3.   26.  -12.5 -10.5]\n",
      "gen 5, game 1\n",
      "gen 5, game 2\n",
      "gen 5, game 3\n",
      "gen 5, game 4\n",
      "After 4 game scoreboard: [ 12.25  11.5  -12.25 -11.5 ]\n",
      "gen 6, game 1\n",
      "gen 6, game 2\n",
      "gen 6, game 3\n",
      "gen 6, game 4\n",
      "After 4 game scoreboard: [ 11.25  13.   -11.25 -13.  ]\n",
      "gen 7, game 1\n",
      "gen 7, game 2\n",
      "gen 7, game 3\n",
      "gen 7, game 4\n",
      "After 4 game scoreboard: [ -1.75  27.   -12.25 -13.  ]\n",
      "gen 8, game 1\n",
      "gen 8, game 2\n",
      "gen 8, game 3\n",
      "gen 8, game 4\n",
      "After 4 game scoreboard: [  3.75  22.25 -13.   -13.  ]\n",
      "gen 9, game 1\n",
      "gen 9, game 2\n",
      "gen 9, game 3\n",
      "gen 9, game 4\n",
      "After 4 game scoreboard: [ 12.25  13.   -12.25 -13.  ]\n",
      "gen 10, game 1\n",
      "gen 10, game 2\n",
      "gen 10, game 3\n",
      "gen 10, game 4\n",
      "After 4 game scoreboard: [ 13.75   6.25  -9.25 -10.75]\n"
     ]
    }
   ],
   "metadata": {}
  },
  {
   "cell_type": "code",
   "execution_count": 17,
   "source": [
    "# Export model\n",
    "players[0].export_model('model.json')"
   ],
   "outputs": [],
   "metadata": {}
  },
  {
   "cell_type": "code",
   "execution_count": 18,
   "source": [
    "# Load model from saved file\n",
    "model = ANN.load_model('model.json')"
   ],
   "outputs": [],
   "metadata": {}
  }
 ],
 "metadata": {
  "orig_nbformat": 4,
  "language_info": {
   "name": "python"
  }
 },
 "nbformat": 4,
 "nbformat_minor": 2
}