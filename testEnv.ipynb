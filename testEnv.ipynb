{
 "cells": [
  {
   "cell_type": "code",
   "execution_count": 1,
   "metadata": {},
   "outputs": [],
   "source": [
    "from big2Game import vectorizedBig2GamesTest\r\n",
    "\r\n",
    "vectorizedGame = vectorizedBig2GamesTest()"
   ]
  },
  {
   "cell_type": "code",
   "execution_count": 2,
   "metadata": {},
   "outputs": [],
   "source": [
    "\r\n",
    "vectorizedGame.reset()"
   ]
  },
  {
   "cell_type": "code",
   "execution_count": 3,
   "metadata": {},
   "outputs": [
    {
     "data": {
      "text/plain": [
       "(3,\n",
       " '0[3S] 1[3H] 2[4S] 3[4D] 4[4H] 5[8H] 6[9C] 7[9H] 8[10C] 9[11C] 10[13H] 11[14C] 12[15C] ',\n",
       " [[0], array([0, 1])],\n",
       " [0, 13])"
      ]
     },
     "execution_count": 3,
     "metadata": {},
     "output_type": "execute_result"
    }
   ],
   "source": [
    "a,b,c = vectorizedGame.getCurrentState()\r\n",
    "vectorizedGame.info()"
   ]
  },
  {
   "cell_type": "code",
   "execution_count": 4,
   "metadata": {},
   "outputs": [
    {
     "data": {
      "text/plain": [
       "(None, False, {'Position result': array([0, 0, 0, 0])})"
      ]
     },
     "execution_count": 4,
     "metadata": {},
     "output_type": "execute_result"
    }
   ],
   "source": [
    "vectorizedGame.step(13)"
   ]
  },
  {
   "cell_type": "markdown",
   "metadata": {},
   "source": [
    "**NEXT PLAYER**"
   ]
  },
  {
   "cell_type": "code",
   "execution_count": 5,
   "metadata": {},
   "outputs": [
    {
     "data": {
      "text/plain": [
       "(4,\n",
       " '0[5S] 1[7S] 2[8S] 3[8C] 4[8D] 5[9D] 6[10S] 7[11S] 8[11D] 9[12S] 10[12D] 11[13C] 12[13D] ',\n",
       " [array([2, 3]),\n",
       "  array([2, 4]),\n",
       "  array([3, 4]),\n",
       "  array([7, 8]),\n",
       "  array([ 9, 10]),\n",
       "  array([11, 12]),\n",
       "  'Pass'],\n",
       " [19, 20, 22, 34, 40, 45, 8031])"
      ]
     },
     "execution_count": 5,
     "metadata": {},
     "output_type": "execute_result"
    }
   ],
   "source": [
    "a,b,c = vectorizedGame.getCurrentState()\r\n",
    "vectorizedGame.info()"
   ]
  },
  {
   "cell_type": "code",
   "execution_count": 6,
   "metadata": {},
   "outputs": [
    {
     "data": {
      "text/plain": [
       "(None, False, {'Position result': array([0, 0, 0, 0])})"
      ]
     },
     "execution_count": 6,
     "metadata": {},
     "output_type": "execute_result"
    }
   ],
   "source": [
    "vectorizedGame.step(34)"
   ]
  },
  {
   "cell_type": "markdown",
   "metadata": {},
   "source": [
    "**NEXT PLAYER**"
   ]
  },
  {
   "cell_type": "code",
   "execution_count": 7,
   "metadata": {},
   "outputs": [
    {
     "data": {
      "text/plain": [
       "(1,\n",
       " '0[3D] 1[5D] 2[6S] 3[6C] 4[6H] 5[7D] 6[7H] 7[9S] 8[10H] 9[11H] 10[12H] 11[13S] 12[15S] ',\n",
       " ['Pass'],\n",
       " [8031])"
      ]
     },
     "execution_count": 7,
     "metadata": {},
     "output_type": "execute_result"
    }
   ],
   "source": [
    "a,b,c = vectorizedGame.getCurrentState()\r\n",
    "vectorizedGame.info()"
   ]
  },
  {
   "cell_type": "code",
   "execution_count": 8,
   "metadata": {},
   "outputs": [
    {
     "data": {
      "text/plain": [
       "(None, False, {'Position result': array([0, 0, 0, 0])})"
      ]
     },
     "execution_count": 8,
     "metadata": {},
     "output_type": "execute_result"
    }
   ],
   "source": [
    "vectorizedGame.step(8031)"
   ]
  },
  {
   "cell_type": "markdown",
   "metadata": {},
   "source": [
    "**NEXT PLAYER**"
   ]
  },
  {
   "cell_type": "code",
   "execution_count": 9,
   "metadata": {},
   "outputs": [
    {
     "data": {
      "text/plain": [
       "(2,\n",
       " '0[3C] 1[4C] 2[5C] 3[5H] 4[6D] 5[7C] 6[10D] 7[12C] 8[14S] 9[14D] 10[14H] 11[15D] 12[15H] ',\n",
       " [array([8, 9]), array([ 8, 10]), array([ 9, 10]), array([11, 12]), 'Pass'],\n",
       " [37, 38, 40, 45, 8031])"
      ]
     },
     "execution_count": 9,
     "metadata": {},
     "output_type": "execute_result"
    }
   ],
   "source": [
    "a,b,c = vectorizedGame.getCurrentState()\r\n",
    "vectorizedGame.info()"
   ]
  },
  {
   "cell_type": "code",
   "execution_count": 10,
   "metadata": {},
   "outputs": [
    {
     "data": {
      "text/plain": [
       "(None, False, {'Position result': array([0, 0, 0, 0])})"
      ]
     },
     "execution_count": 10,
     "metadata": {},
     "output_type": "execute_result"
    }
   ],
   "source": [
    "vectorizedGame.step(37)"
   ]
  },
  {
   "cell_type": "markdown",
   "metadata": {},
   "source": [
    "**NEXT PLAYER**"
   ]
  },
  {
   "cell_type": "code",
   "execution_count": 11,
   "metadata": {},
   "outputs": [
    {
     "data": {
      "text/plain": [
       "(3,\n",
       " '0[4S] 1[4D] 2[4H] 3[8H] 4[9C] 5[9H] 6[10C] 7[11C] 8[13H] 9[14C] 10[15C] 11[] 12[] ',\n",
       " ['Pass'],\n",
       " [8031])"
      ]
     },
     "execution_count": 11,
     "metadata": {},
     "output_type": "execute_result"
    }
   ],
   "source": [
    "a,b,c = vectorizedGame.getCurrentState()\r\n",
    "vectorizedGame.info()"
   ]
  },
  {
   "cell_type": "code",
   "execution_count": 12,
   "metadata": {},
   "outputs": [
    {
     "data": {
      "text/plain": [
       "(None, False, {'Position result': array([0, 0, 0, 0])})"
      ]
     },
     "execution_count": 12,
     "metadata": {},
     "output_type": "execute_result"
    }
   ],
   "source": [
    "vectorizedGame.step(8031)"
   ]
  },
  {
   "cell_type": "markdown",
   "metadata": {},
   "source": [
    "**NEXT PLAYER**"
   ]
  },
  {
   "cell_type": "code",
   "execution_count": 13,
   "metadata": {},
   "outputs": [
    {
     "data": {
      "text/plain": [
       "(4,\n",
       " '0[5S] 1[7S] 2[8S] 3[8C] 4[8D] 5[9D] 6[10S] 7[12S] 8[12D] 9[13C] 10[13D] 11[] 12[] ',\n",
       " ['Pass'],\n",
       " [8031])"
      ]
     },
     "execution_count": 13,
     "metadata": {},
     "output_type": "execute_result"
    }
   ],
   "source": [
    "a,b,c = vectorizedGame.getCurrentState()\r\n",
    "vectorizedGame.info()"
   ]
  },
  {
   "cell_type": "code",
   "execution_count": 14,
   "metadata": {},
   "outputs": [
    {
     "data": {
      "text/plain": [
       "(None, False, {'Position result': array([0, 0, 0, 0])})"
      ]
     },
     "execution_count": 14,
     "metadata": {},
     "output_type": "execute_result"
    }
   ],
   "source": [
    "vectorizedGame.step(8031)"
   ]
  },
  {
   "cell_type": "markdown",
   "metadata": {},
   "source": [
    "**NEXT PLAYER**\r\n"
   ]
  },
  {
   "cell_type": "code",
   "execution_count": 15,
   "metadata": {},
   "outputs": [
    {
     "data": {
      "text/plain": [
       "(2,\n",
       " '0[3C] 1[4C] 2[5C] 3[5H] 4[6D] 5[7C] 6[10D] 7[12C] 8[14H] 9[15D] 10[15H] 11[] 12[] ',\n",
       " [[0],\n",
       "  [1],\n",
       "  [2],\n",
       "  [3],\n",
       "  [4],\n",
       "  [5],\n",
       "  [6],\n",
       "  [7],\n",
       "  [8],\n",
       "  [9],\n",
       "  [10],\n",
       "  array([2, 3]),\n",
       "  array([ 9, 10]),\n",
       "  array([0, 1, 2]),\n",
       "  array([0, 1, 3]),\n",
       "  array([1, 2, 4]),\n",
       "  array([1, 3, 4]),\n",
       "  array([2, 4, 5]),\n",
       "  array([3, 4, 5]),\n",
       "  array([0, 1, 2, 4]),\n",
       "  array([0, 1, 3, 4]),\n",
       "  array([1, 2, 4, 5]),\n",
       "  array([1, 3, 4, 5]),\n",
       "  array([0, 1, 2, 4, 5]),\n",
       "  array([0, 1, 3, 4, 5])],\n",
       " [0,\n",
       "  1,\n",
       "  2,\n",
       "  3,\n",
       "  4,\n",
       "  5,\n",
       "  6,\n",
       "  7,\n",
       "  8,\n",
       "  9,\n",
       "  10,\n",
       "  19,\n",
       "  40,\n",
       "  46,\n",
       "  47,\n",
       "  93,\n",
       "  99,\n",
       "  142,\n",
       "  174,\n",
       "  293,\n",
       "  299,\n",
       "  489,\n",
       "  521,\n",
       "  969,\n",
       "  1001])"
      ]
     },
     "execution_count": 15,
     "metadata": {},
     "output_type": "execute_result"
    }
   ],
   "source": [
    "a,b,c = vectorizedGame.getCurrentState()\r\n",
    "vectorizedGame.info()"
   ]
  },
  {
   "cell_type": "code",
   "execution_count": 16,
   "metadata": {},
   "outputs": [
    {
     "data": {
      "text/plain": [
       "(None, False, {'Position result': array([0, 0, 0, 0])})"
      ]
     },
     "execution_count": 16,
     "metadata": {},
     "output_type": "execute_result"
    }
   ],
   "source": [
    "vectorizedGame.step(1001)"
   ]
  },
  {
   "cell_type": "markdown",
   "metadata": {},
   "source": [
    "**NEXT PLAYER**\r\n"
   ]
  },
  {
   "cell_type": "code",
   "execution_count": 17,
   "metadata": {},
   "outputs": [
    {
     "data": {
      "text/plain": [
       "(3,\n",
       " '0[4S] 1[4D] 2[4H] 3[8H] 4[9C] 5[9H] 6[10C] 7[11C] 8[13H] 9[14C] 10[15C] 11[] 12[] ',\n",
       " ['Pass'],\n",
       " [8031])"
      ]
     },
     "execution_count": 17,
     "metadata": {},
     "output_type": "execute_result"
    }
   ],
   "source": [
    "a,b,c = vectorizedGame.getCurrentState()\r\n",
    "vectorizedGame.info()"
   ]
  },
  {
   "cell_type": "code",
   "execution_count": 18,
   "metadata": {},
   "outputs": [
    {
     "data": {
      "text/plain": [
       "(None, False, {'Position result': array([0, 0, 0, 0])})"
      ]
     },
     "execution_count": 18,
     "metadata": {},
     "output_type": "execute_result"
    }
   ],
   "source": [
    "vectorizedGame.step(8031)"
   ]
  },
  {
   "cell_type": "markdown",
   "metadata": {},
   "source": [
    "**NEXT PLAYER**"
   ]
  },
  {
   "cell_type": "code",
   "execution_count": 19,
   "metadata": {},
   "outputs": [
    {
     "data": {
      "text/plain": [
       "(4,\n",
       " '0[5S] 1[7S] 2[8S] 3[8C] 4[8D] 5[9D] 6[10S] 7[12S] 8[12D] 9[13C] 10[13D] 11[] 12[] ',\n",
       " ['Pass'],\n",
       " [8031])"
      ]
     },
     "execution_count": 19,
     "metadata": {},
     "output_type": "execute_result"
    }
   ],
   "source": [
    "a,b,c = vectorizedGame.getCurrentState()\r\n",
    "vectorizedGame.info()"
   ]
  },
  {
   "cell_type": "code",
   "execution_count": 20,
   "metadata": {},
   "outputs": [
    {
     "data": {
      "text/plain": [
       "(None, False, {'Position result': array([0, 0, 0, 0])})"
      ]
     },
     "execution_count": 20,
     "metadata": {},
     "output_type": "execute_result"
    }
   ],
   "source": [
    "vectorizedGame.step(8031)"
   ]
  },
  {
   "cell_type": "markdown",
   "metadata": {},
   "source": [
    "**NEXT PLAYER**"
   ]
  },
  {
   "cell_type": "code",
   "execution_count": 21,
   "metadata": {},
   "outputs": [
    {
     "data": {
      "text/plain": [
       "(1,\n",
       " '0[3D] 1[5D] 2[6S] 3[6C] 4[6H] 5[7D] 6[7H] 7[9S] 8[10H] 9[11H] 10[12H] 11[13S] 12[15S] ',\n",
       " [array([ 7,  8,  9, 10, 11]), 'Pass'],\n",
       " [2219, 8031])"
      ]
     },
     "execution_count": 21,
     "metadata": {},
     "output_type": "execute_result"
    }
   ],
   "source": [
    "a,b,c = vectorizedGame.getCurrentState()\r\n",
    "vectorizedGame.info()"
   ]
  },
  {
   "cell_type": "code",
   "execution_count": 22,
   "metadata": {},
   "outputs": [
    {
     "data": {
      "text/plain": [
       "(None, False, {'Position result': array([0, 0, 0, 0])})"
      ]
     },
     "execution_count": 22,
     "metadata": {},
     "output_type": "execute_result"
    }
   ],
   "source": [
    "vectorizedGame.step(2219)"
   ]
  },
  {
   "cell_type": "markdown",
   "metadata": {},
   "source": [
    "**NEXT PLAYER**"
   ]
  },
  {
   "cell_type": "code",
   "execution_count": 23,
   "metadata": {},
   "outputs": [
    {
     "data": {
      "text/plain": [
       "(2,\n",
       " '0[5C] 1[10D] 2[12C] 3[14H] 4[15D] 5[15H] 6[] 7[] 8[] 9[] 10[] 11[] 12[] ',\n",
       " ['Pass'],\n",
       " [8031])"
      ]
     },
     "execution_count": 23,
     "metadata": {},
     "output_type": "execute_result"
    }
   ],
   "source": [
    "a,b,c = vectorizedGame.getCurrentState()\r\n",
    "vectorizedGame.info()"
   ]
  },
  {
   "cell_type": "code",
   "execution_count": 24,
   "metadata": {},
   "outputs": [
    {
     "data": {
      "text/plain": [
       "(None, False, {'Position result': array([0, 0, 0, 0])})"
      ]
     },
     "execution_count": 24,
     "metadata": {},
     "output_type": "execute_result"
    }
   ],
   "source": [
    "vectorizedGame.step(8031)"
   ]
  },
  {
   "cell_type": "markdown",
   "metadata": {},
   "source": [
    "**NEXT PLAYER**"
   ]
  },
  {
   "cell_type": "code",
   "execution_count": 25,
   "metadata": {},
   "outputs": [
    {
     "data": {
      "text/plain": [
       "(1,\n",
       " '0[3D] 1[5D] 2[6S] 3[6C] 4[6H] 5[7D] 6[7H] 7[15S] 8[] 9[] 10[] 11[] 12[] ',\n",
       " [[0],\n",
       "  [1],\n",
       "  [2],\n",
       "  [3],\n",
       "  [4],\n",
       "  [5],\n",
       "  [6],\n",
       "  [7],\n",
       "  array([2, 3]),\n",
       "  array([2, 4]),\n",
       "  array([3, 4]),\n",
       "  array([5, 6]),\n",
       "  array([1, 2, 5]),\n",
       "  array([1, 3, 5]),\n",
       "  array([1, 3, 6]),\n",
       "  array([1, 4, 6]),\n",
       "  array([2, 3, 4])],\n",
       " [0, 1, 2, 3, 4, 5, 6, 7, 19, 20, 22, 28, 94, 100, 101, 107, 135])"
      ]
     },
     "execution_count": 25,
     "metadata": {},
     "output_type": "execute_result"
    }
   ],
   "source": [
    "a,b,c = vectorizedGame.getCurrentState()\r\n",
    "vectorizedGame.info()"
   ]
  },
  {
   "cell_type": "code",
   "execution_count": 26,
   "metadata": {},
   "outputs": [
    {
     "data": {
      "text/plain": [
       "(None, False, {'Position result': array([0, 0, 0, 0])})"
      ]
     },
     "execution_count": 26,
     "metadata": {},
     "output_type": "execute_result"
    }
   ],
   "source": [
    "vectorizedGame.step(135)"
   ]
  },
  {
   "cell_type": "markdown",
   "metadata": {},
   "source": [
    "**NEXT PLAYER**"
   ]
  },
  {
   "cell_type": "code",
   "execution_count": 30,
   "metadata": {},
   "outputs": [
    {
     "data": {
      "text/plain": [
       "(2,\n",
       " '0[5C] 1[10D] 2[12C] 3[14H] 4[15D] 5[15H] 6[] 7[] 8[] 9[] 10[] 11[] 12[] ',\n",
       " ['Pass'],\n",
       " [8031])"
      ]
     },
     "execution_count": 30,
     "metadata": {},
     "output_type": "execute_result"
    }
   ],
   "source": [
    "a,b,c = vectorizedGame.getCurrentState()\r\n",
    "vectorizedGame.info()"
   ]
  },
  {
   "cell_type": "code",
   "execution_count": 31,
   "metadata": {},
   "outputs": [
    {
     "data": {
      "text/plain": [
       "(None, False, {'Position result': array([0, 0, 0, 0])})"
      ]
     },
     "execution_count": 31,
     "metadata": {},
     "output_type": "execute_result"
    }
   ],
   "source": [
    "vectorizedGame.step(8031)"
   ]
  },
  {
   "cell_type": "markdown",
   "metadata": {},
   "source": [
    "**NEXT PLAYER**"
   ]
  },
  {
   "cell_type": "code",
   "execution_count": 32,
   "metadata": {},
   "outputs": [
    {
     "data": {
      "text/plain": [
       "(3,\n",
       " '0[4S] 1[4D] 2[4H] 3[8H] 4[9C] 5[9H] 6[10C] 7[11C] 8[13H] 9[14C] 10[15C] 11[] 12[] ',\n",
       " [array([0, 1, 2]), 'Pass'],\n",
       " [46, 8031])"
      ]
     },
     "execution_count": 32,
     "metadata": {},
     "output_type": "execute_result"
    }
   ],
   "source": [
    "a,b,c = vectorizedGame.getCurrentState()\r\n",
    "vectorizedGame.info()"
   ]
  },
  {
   "cell_type": "code",
   "execution_count": 33,
   "metadata": {},
   "outputs": [
    {
     "data": {
      "text/plain": [
       "(None, False, {'Position result': array([0, 0, 0, 0])})"
      ]
     },
     "execution_count": 33,
     "metadata": {},
     "output_type": "execute_result"
    }
   ],
   "source": [
    "vectorizedGame.step(46)"
   ]
  },
  {
   "cell_type": "markdown",
   "metadata": {},
   "source": [
    "**NEXT PLAYER**"
   ]
  },
  {
   "cell_type": "code",
   "execution_count": 34,
   "metadata": {},
   "outputs": [
    {
     "data": {
      "text/plain": [
       "(4,\n",
       " '0[5S] 1[7S] 2[8S] 3[8C] 4[8D] 5[9D] 6[10S] 7[12S] 8[12D] 9[13C] 10[13D] 11[] 12[] ',\n",
       " [array([2, 3, 4]), 'Pass'],\n",
       " [135, 8031])"
      ]
     },
     "execution_count": 34,
     "metadata": {},
     "output_type": "execute_result"
    }
   ],
   "source": [
    "a,b,c = vectorizedGame.getCurrentState()\r\n",
    "vectorizedGame.info()"
   ]
  },
  {
   "cell_type": "code",
   "execution_count": 35,
   "metadata": {},
   "outputs": [
    {
     "data": {
      "text/plain": [
       "(None, False, {'Position result': array([0, 0, 0, 0])})"
      ]
     },
     "execution_count": 35,
     "metadata": {},
     "output_type": "execute_result"
    }
   ],
   "source": [
    "vectorizedGame.step(135)"
   ]
  },
  {
   "cell_type": "markdown",
   "metadata": {},
   "source": [
    "**NEXT PLAYER**"
   ]
  },
  {
   "cell_type": "code",
   "execution_count": 36,
   "metadata": {},
   "outputs": [
    {
     "data": {
      "text/plain": [
       "(1,\n",
       " '0[3D] 1[5D] 2[7D] 3[7H] 4[15S] 5[] 6[] 7[] 8[] 9[] 10[] 11[] 12[] ',\n",
       " ['Pass'],\n",
       " [8031])"
      ]
     },
     "execution_count": 36,
     "metadata": {},
     "output_type": "execute_result"
    }
   ],
   "source": [
    "a,b,c = vectorizedGame.getCurrentState()\r\n",
    "vectorizedGame.info()"
   ]
  },
  {
   "cell_type": "code",
   "execution_count": 37,
   "metadata": {},
   "outputs": [
    {
     "data": {
      "text/plain": [
       "(None, False, {'Position result': array([0, 0, 0, 0])})"
      ]
     },
     "execution_count": 37,
     "metadata": {},
     "output_type": "execute_result"
    }
   ],
   "source": [
    "vectorizedGame.step(8031)"
   ]
  },
  {
   "cell_type": "markdown",
   "metadata": {},
   "source": [
    "**NEXT PLAYER**"
   ]
  },
  {
   "cell_type": "code",
   "execution_count": 38,
   "metadata": {},
   "outputs": [
    {
     "data": {
      "text/plain": [
       "(3,\n",
       " '0[8H] 1[9C] 2[9H] 3[10C] 4[11C] 5[13H] 6[14C] 7[15C] 8[] 9[] 10[] 11[] 12[] ',\n",
       " ['Pass'],\n",
       " [8031])"
      ]
     },
     "execution_count": 38,
     "metadata": {},
     "output_type": "execute_result"
    }
   ],
   "source": [
    "a,b,c = vectorizedGame.getCurrentState()\r\n",
    "vectorizedGame.info()"
   ]
  },
  {
   "cell_type": "code",
   "execution_count": 39,
   "metadata": {},
   "outputs": [
    {
     "data": {
      "text/plain": [
       "(None, False, {'Position result': array([0, 0, 0, 0])})"
      ]
     },
     "execution_count": 39,
     "metadata": {},
     "output_type": "execute_result"
    }
   ],
   "source": [
    "vectorizedGame.step(8031)"
   ]
  },
  {
   "cell_type": "markdown",
   "metadata": {},
   "source": [
    "**NEXT PLAYER**\r\n"
   ]
  },
  {
   "cell_type": "code",
   "execution_count": 40,
   "metadata": {},
   "outputs": [
    {
     "data": {
      "text/plain": [
       "(4,\n",
       " '0[5S] 1[7S] 2[9D] 3[10S] 4[12S] 5[12D] 6[13C] 7[13D] 8[] 9[] 10[] 11[] 12[] ',\n",
       " [[0], [1], [2], [3], [4], [5], [6], [7], array([4, 5]), array([6, 7])],\n",
       " [0, 1, 2, 3, 4, 5, 6, 7, 25, 31])"
      ]
     },
     "execution_count": 40,
     "metadata": {},
     "output_type": "execute_result"
    }
   ],
   "source": [
    "a,b,c = vectorizedGame.getCurrentState()\r\n",
    "vectorizedGame.info()"
   ]
  },
  {
   "cell_type": "code",
   "execution_count": 41,
   "metadata": {},
   "outputs": [
    {
     "data": {
      "text/plain": [
       "(None, False, {'Position result': array([0, 0, 0, 0])})"
      ]
     },
     "execution_count": 41,
     "metadata": {},
     "output_type": "execute_result"
    }
   ],
   "source": [
    "vectorizedGame.step(0)"
   ]
  },
  {
   "cell_type": "markdown",
   "metadata": {},
   "source": [
    "**NEXT PLAYER**"
   ]
  },
  {
   "cell_type": "code",
   "execution_count": 42,
   "metadata": {},
   "outputs": [
    {
     "data": {
      "text/plain": [
       "(1,\n",
       " '0[3D] 1[5D] 2[7D] 3[7H] 4[15S] 5[] 6[] 7[] 8[] 9[] 10[] 11[] 12[] ',\n",
       " [[1], [2], [3], [4], 'Pass'],\n",
       " [1, 2, 3, 4, 8031])"
      ]
     },
     "execution_count": 42,
     "metadata": {},
     "output_type": "execute_result"
    }
   ],
   "source": [
    "a,b,c = vectorizedGame.getCurrentState()\r\n",
    "vectorizedGame.info()"
   ]
  },
  {
   "cell_type": "code",
   "execution_count": 43,
   "metadata": {},
   "outputs": [
    {
     "data": {
      "text/plain": [
       "(None, False, {'Position result': array([0, 0, 0, 0])})"
      ]
     },
     "execution_count": 43,
     "metadata": {},
     "output_type": "execute_result"
    }
   ],
   "source": [
    "vectorizedGame.step(1)"
   ]
  },
  {
   "cell_type": "markdown",
   "metadata": {},
   "source": [
    "**NEXT PLAYER**\r\n"
   ]
  },
  {
   "cell_type": "code",
   "execution_count": 44,
   "metadata": {},
   "outputs": [
    {
     "data": {
      "text/plain": [
       "(2,\n",
       " '0[5C] 1[10D] 2[12C] 3[14H] 4[15D] 5[15H] 6[] 7[] 8[] 9[] 10[] 11[] 12[] ',\n",
       " [[1], [2], [3], [4], [5], 'Pass'],\n",
       " [1, 2, 3, 4, 5, 8031])"
      ]
     },
     "execution_count": 44,
     "metadata": {},
     "output_type": "execute_result"
    }
   ],
   "source": [
    "a,b,c = vectorizedGame.getCurrentState()\r\n",
    "vectorizedGame.info()"
   ]
  },
  {
   "cell_type": "code",
   "execution_count": 45,
   "metadata": {},
   "outputs": [
    {
     "data": {
      "text/plain": [
       "(None, False, {'Position result': array([0, 0, 0, 0])})"
      ]
     },
     "execution_count": 45,
     "metadata": {},
     "output_type": "execute_result"
    }
   ],
   "source": [
    "vectorizedGame.step(1)"
   ]
  },
  {
   "cell_type": "markdown",
   "metadata": {},
   "source": [
    "**NEXT PLAYER**"
   ]
  },
  {
   "cell_type": "code",
   "execution_count": 46,
   "metadata": {},
   "outputs": [
    {
     "data": {
      "text/plain": [
       "(3,\n",
       " '0[8H] 1[9C] 2[9H] 3[10C] 4[11C] 5[13H] 6[14C] 7[15C] 8[] 9[] 10[] 11[] 12[] ',\n",
       " [[4], [5], [6], [7], 'Pass'],\n",
       " [4, 5, 6, 7, 8031])"
      ]
     },
     "execution_count": 46,
     "metadata": {},
     "output_type": "execute_result"
    }
   ],
   "source": [
    "a,b,c = vectorizedGame.getCurrentState()\r\n",
    "vectorizedGame.info()"
   ]
  },
  {
   "cell_type": "code",
   "execution_count": 47,
   "metadata": {},
   "outputs": [
    {
     "data": {
      "text/plain": [
       "(None, False, {'Position result': array([0, 0, 0, 0])})"
      ]
     },
     "execution_count": 47,
     "metadata": {},
     "output_type": "execute_result"
    }
   ],
   "source": [
    "vectorizedGame.step(5)"
   ]
  },
  {
   "cell_type": "markdown",
   "metadata": {},
   "source": [
    "**NEXT PLAYER**"
   ]
  },
  {
   "cell_type": "code",
   "execution_count": 48,
   "metadata": {},
   "outputs": [
    {
     "data": {
      "text/plain": [
       "(4,\n",
       " '0[7S] 1[9D] 2[10S] 3[12S] 4[12D] 5[13C] 6[13D] 7[] 8[] 9[] 10[] 11[] 12[] ',\n",
       " ['Pass'],\n",
       " [8031])"
      ]
     },
     "execution_count": 48,
     "metadata": {},
     "output_type": "execute_result"
    }
   ],
   "source": [
    "a,b,c = vectorizedGame.getCurrentState()\r\n",
    "vectorizedGame.info()"
   ]
  },
  {
   "cell_type": "code",
   "execution_count": 49,
   "metadata": {},
   "outputs": [
    {
     "data": {
      "text/plain": [
       "(None, False, {'Position result': array([0, 0, 0, 0])})"
      ]
     },
     "execution_count": 49,
     "metadata": {},
     "output_type": "execute_result"
    }
   ],
   "source": [
    "vectorizedGame.step(8031)"
   ]
  },
  {
   "cell_type": "markdown",
   "metadata": {},
   "source": [
    "**NEXT PLAYER**"
   ]
  },
  {
   "cell_type": "code",
   "execution_count": 50,
   "metadata": {},
   "outputs": [
    {
     "data": {
      "text/plain": [
       "(1,\n",
       " '0[3D] 1[7D] 2[7H] 3[15S] 4[] 5[] 6[] 7[] 8[] 9[] 10[] 11[] 12[] ',\n",
       " [[3], 'Pass'],\n",
       " [3, 8031])"
      ]
     },
     "execution_count": 50,
     "metadata": {},
     "output_type": "execute_result"
    }
   ],
   "source": [
    "a,b,c = vectorizedGame.getCurrentState()\r\n",
    "vectorizedGame.info()"
   ]
  },
  {
   "cell_type": "code",
   "execution_count": 52,
   "metadata": {},
   "outputs": [
    {
     "data": {
      "text/plain": [
       "(None, False, {'Position result': array([0, 0, 0, 0])})"
      ]
     },
     "execution_count": 52,
     "metadata": {},
     "output_type": "execute_result"
    }
   ],
   "source": [
    "vectorizedGame.step(3)"
   ]
  },
  {
   "cell_type": "markdown",
   "metadata": {},
   "source": [
    "**NEXT PLAYER**"
   ]
  },
  {
   "cell_type": "code",
   "execution_count": 53,
   "metadata": {},
   "outputs": [
    {
     "data": {
      "text/plain": [
       "(2,\n",
       " '0[5C] 1[12C] 2[14H] 3[15D] 4[15H] 5[] 6[] 7[] 8[] 9[] 10[] 11[] 12[] ',\n",
       " [[3], [4], 'Pass'],\n",
       " [3, 4, 8031])"
      ]
     },
     "execution_count": 53,
     "metadata": {},
     "output_type": "execute_result"
    }
   ],
   "source": [
    "a,b,c = vectorizedGame.getCurrentState()\r\n",
    "vectorizedGame.info()"
   ]
  },
  {
   "cell_type": "code",
   "execution_count": 54,
   "metadata": {},
   "outputs": [
    {
     "data": {
      "text/plain": [
       "(None, False, {'Position result': array([0, 0, 0, 0])})"
      ]
     },
     "execution_count": 54,
     "metadata": {},
     "output_type": "execute_result"
    }
   ],
   "source": [
    "vectorizedGame.step(8031)"
   ]
  },
  {
   "cell_type": "markdown",
   "metadata": {},
   "source": [
    "**NEXT PLAYER**"
   ]
  },
  {
   "cell_type": "code",
   "execution_count": 55,
   "metadata": {},
   "outputs": [
    {
     "data": {
      "text/plain": [
       "(3,\n",
       " '0[8H] 1[9C] 2[9H] 3[10C] 4[11C] 5[14C] 6[15C] 7[] 8[] 9[] 10[] 11[] 12[] ',\n",
       " [[6], 'Pass'],\n",
       " [6, 8031])"
      ]
     },
     "execution_count": 55,
     "metadata": {},
     "output_type": "execute_result"
    }
   ],
   "source": [
    "a,b,c = vectorizedGame.getCurrentState()\r\n",
    "vectorizedGame.info()"
   ]
  },
  {
   "cell_type": "code",
   "execution_count": 56,
   "metadata": {},
   "outputs": [
    {
     "data": {
      "text/plain": [
       "(None, False, {'Position result': array([0, 0, 0, 0])})"
      ]
     },
     "execution_count": 56,
     "metadata": {},
     "output_type": "execute_result"
    }
   ],
   "source": [
    "vectorizedGame.step(8031)"
   ]
  },
  {
   "cell_type": "markdown",
   "metadata": {},
   "source": [
    "**NEXT PLAYER**"
   ]
  },
  {
   "cell_type": "code",
   "execution_count": 57,
   "metadata": {},
   "outputs": [
    {
     "data": {
      "text/plain": [
       "(1,\n",
       " '0[3D] 1[7D] 2[7H] 3[] 4[] 5[] 6[] 7[] 8[] 9[] 10[] 11[] 12[] ',\n",
       " [[0], [1], [2], array([1, 2])],\n",
       " [0, 1, 2, 16])"
      ]
     },
     "execution_count": 57,
     "metadata": {},
     "output_type": "execute_result"
    }
   ],
   "source": [
    "a,b,c = vectorizedGame.getCurrentState()\r\n",
    "vectorizedGame.info()"
   ]
  },
  {
   "cell_type": "code",
   "execution_count": 59,
   "metadata": {},
   "outputs": [
    {
     "data": {
      "text/plain": [
       "(None, False, {'Position result': array([0, 0, 0, 0])})"
      ]
     },
     "execution_count": 59,
     "metadata": {},
     "output_type": "execute_result"
    }
   ],
   "source": [
    "vectorizedGame.step(16)"
   ]
  },
  {
   "cell_type": "markdown",
   "metadata": {},
   "source": [
    "**NEXT PLAYER**"
   ]
  },
  {
   "cell_type": "code",
   "execution_count": 61,
   "metadata": {},
   "outputs": [
    {
     "data": {
      "text/plain": [
       "(2,\n",
       " '0[5C] 1[12C] 2[14H] 3[15D] 4[15H] 5[] 6[] 7[] 8[] 9[] 10[] 11[] 12[] ',\n",
       " [array([3, 4]), 'Pass'],\n",
       " [22, 8031])"
      ]
     },
     "execution_count": 61,
     "metadata": {},
     "output_type": "execute_result"
    }
   ],
   "source": [
    "a,b,c = vectorizedGame.getCurrentState()\r\n",
    "vectorizedGame.info()"
   ]
  },
  {
   "cell_type": "code",
   "execution_count": 62,
   "metadata": {},
   "outputs": [
    {
     "data": {
      "text/plain": [
       "(None, False, {'Position result': array([0, 0, 0, 0])})"
      ]
     },
     "execution_count": 62,
     "metadata": {},
     "output_type": "execute_result"
    }
   ],
   "source": [
    "vectorizedGame.step(22)"
   ]
  },
  {
   "cell_type": "markdown",
   "metadata": {},
   "source": [
    "**NEXT PLAYER**"
   ]
  },
  {
   "cell_type": "code",
   "execution_count": 63,
   "metadata": {},
   "outputs": [
    {
     "data": {
      "text/plain": [
       "(3,\n",
       " '0[8H] 1[9C] 2[9H] 3[10C] 4[11C] 5[14C] 6[15C] 7[] 8[] 9[] 10[] 11[] 12[] ',\n",
       " ['Pass'],\n",
       " [8031])"
      ]
     },
     "execution_count": 63,
     "metadata": {},
     "output_type": "execute_result"
    }
   ],
   "source": [
    "a,b,c = vectorizedGame.getCurrentState()\r\n",
    "vectorizedGame.info()"
   ]
  },
  {
   "cell_type": "code",
   "execution_count": 64,
   "metadata": {},
   "outputs": [
    {
     "data": {
      "text/plain": [
       "(None, False, {'Position result': array([0, 0, 0, 0])})"
      ]
     },
     "execution_count": 64,
     "metadata": {},
     "output_type": "execute_result"
    }
   ],
   "source": [
    "vectorizedGame.step(8031)"
   ]
  },
  {
   "cell_type": "markdown",
   "metadata": {},
   "source": [
    "**NEXT PLAYER**\r\n"
   ]
  },
  {
   "cell_type": "code",
   "execution_count": 65,
   "metadata": {},
   "outputs": [
    {
     "data": {
      "text/plain": [
       "(4,\n",
       " '0[7S] 1[9D] 2[10S] 3[12S] 4[12D] 5[13C] 6[13D] 7[] 8[] 9[] 10[] 11[] 12[] ',\n",
       " ['Pass'],\n",
       " [8031])"
      ]
     },
     "execution_count": 65,
     "metadata": {},
     "output_type": "execute_result"
    }
   ],
   "source": [
    "a,b,c = vectorizedGame.getCurrentState()\r\n",
    "vectorizedGame.info()"
   ]
  },
  {
   "cell_type": "code",
   "execution_count": 66,
   "metadata": {},
   "outputs": [
    {
     "data": {
      "text/plain": [
       "(None, False, {'Position result': array([0, 0, 0, 0])})"
      ]
     },
     "execution_count": 66,
     "metadata": {},
     "output_type": "execute_result"
    }
   ],
   "source": [
    "vectorizedGame.step(8031)"
   ]
  },
  {
   "cell_type": "markdown",
   "metadata": {},
   "source": [
    "**NEXT PLAYER**"
   ]
  },
  {
   "cell_type": "code",
   "execution_count": 67,
   "metadata": {},
   "outputs": [
    {
     "data": {
      "text/plain": [
       "(1,\n",
       " '0[3D] 1[] 2[] 3[] 4[] 5[] 6[] 7[] 8[] 9[] 10[] 11[] 12[] ',\n",
       " ['Pass'],\n",
       " [8031])"
      ]
     },
     "execution_count": 67,
     "metadata": {},
     "output_type": "execute_result"
    }
   ],
   "source": [
    "a,b,c = vectorizedGame.getCurrentState()\r\n",
    "vectorizedGame.info()"
   ]
  },
  {
   "cell_type": "code",
   "execution_count": 68,
   "metadata": {},
   "outputs": [
    {
     "data": {
      "text/plain": [
       "(None, False, {'Position result': array([0, 0, 0, 0])})"
      ]
     },
     "execution_count": 68,
     "metadata": {},
     "output_type": "execute_result"
    }
   ],
   "source": [
    "vectorizedGame.step(8031)"
   ]
  },
  {
   "cell_type": "markdown",
   "metadata": {},
   "source": [
    "**NEXT PLAYER**"
   ]
  },
  {
   "cell_type": "code",
   "execution_count": 69,
   "metadata": {},
   "outputs": [
    {
     "data": {
      "text/plain": [
       "(2,\n",
       " '0[5C] 1[12C] 2[14H] 3[] 4[] 5[] 6[] 7[] 8[] 9[] 10[] 11[] 12[] ',\n",
       " [[0], [1], [2]],\n",
       " [0, 1, 2])"
      ]
     },
     "execution_count": 69,
     "metadata": {},
     "output_type": "execute_result"
    }
   ],
   "source": [
    "a,b,c = vectorizedGame.getCurrentState()\r\n",
    "vectorizedGame.info()"
   ]
  },
  {
   "cell_type": "code",
   "execution_count": 70,
   "metadata": {},
   "outputs": [
    {
     "data": {
      "text/plain": [
       "(None, False, {'Position result': array([0, 0, 0, 0])})"
      ]
     },
     "execution_count": 70,
     "metadata": {},
     "output_type": "execute_result"
    }
   ],
   "source": [
    "vectorizedGame.step(0)"
   ]
  },
  {
   "cell_type": "markdown",
   "metadata": {},
   "source": [
    "**NEXT PLAYER**"
   ]
  },
  {
   "cell_type": "code",
   "execution_count": 71,
   "metadata": {},
   "outputs": [
    {
     "data": {
      "text/plain": [
       "(3,\n",
       " '0[8H] 1[9C] 2[9H] 3[10C] 4[11C] 5[14C] 6[15C] 7[] 8[] 9[] 10[] 11[] 12[] ',\n",
       " [[0], [1], [2], [3], [4], [5], [6], 'Pass'],\n",
       " [0, 1, 2, 3, 4, 5, 6, 8031])"
      ]
     },
     "execution_count": 71,
     "metadata": {},
     "output_type": "execute_result"
    }
   ],
   "source": [
    "a,b,c = vectorizedGame.getCurrentState()\r\n",
    "vectorizedGame.info()"
   ]
  },
  {
   "cell_type": "code",
   "execution_count": 72,
   "metadata": {},
   "outputs": [
    {
     "data": {
      "text/plain": [
       "(None, False, {'Position result': array([0, 0, 0, 0])})"
      ]
     },
     "execution_count": 72,
     "metadata": {},
     "output_type": "execute_result"
    }
   ],
   "source": [
    "vectorizedGame.step(0)"
   ]
  },
  {
   "cell_type": "markdown",
   "metadata": {},
   "source": [
    "**NEXT PLAYER**"
   ]
  },
  {
   "cell_type": "code",
   "execution_count": 73,
   "metadata": {},
   "outputs": [
    {
     "data": {
      "text/plain": [
       "(4,\n",
       " '0[7S] 1[9D] 2[10S] 3[12S] 4[12D] 5[13C] 6[13D] 7[] 8[] 9[] 10[] 11[] 12[] ',\n",
       " [[1], [2], [3], [4], [5], [6], 'Pass'],\n",
       " [1, 2, 3, 4, 5, 6, 8031])"
      ]
     },
     "execution_count": 73,
     "metadata": {},
     "output_type": "execute_result"
    }
   ],
   "source": [
    "a,b,c = vectorizedGame.getCurrentState()\r\n",
    "vectorizedGame.info()"
   ]
  },
  {
   "cell_type": "code",
   "execution_count": 74,
   "metadata": {},
   "outputs": [
    {
     "data": {
      "text/plain": [
       "(None, False, {'Position result': array([0, 0, 0, 0])})"
      ]
     },
     "execution_count": 74,
     "metadata": {},
     "output_type": "execute_result"
    }
   ],
   "source": [
    "vectorizedGame.step(1)"
   ]
  },
  {
   "cell_type": "markdown",
   "metadata": {},
   "source": [
    "**NEXT PLAYER**"
   ]
  },
  {
   "cell_type": "code",
   "execution_count": 75,
   "metadata": {},
   "outputs": [
    {
     "data": {
      "text/plain": [
       "(1,\n",
       " '0[3D] 1[] 2[] 3[] 4[] 5[] 6[] 7[] 8[] 9[] 10[] 11[] 12[] ',\n",
       " ['Pass'],\n",
       " [8031])"
      ]
     },
     "execution_count": 75,
     "metadata": {},
     "output_type": "execute_result"
    }
   ],
   "source": [
    "a,b,c = vectorizedGame.getCurrentState()\r\n",
    "vectorizedGame.info()"
   ]
  },
  {
   "cell_type": "code",
   "execution_count": 76,
   "metadata": {},
   "outputs": [
    {
     "data": {
      "text/plain": [
       "(None, False, {'Position result': array([0, 0, 0, 0])})"
      ]
     },
     "execution_count": 76,
     "metadata": {},
     "output_type": "execute_result"
    }
   ],
   "source": [
    "vectorizedGame.step(8031)"
   ]
  },
  {
   "cell_type": "markdown",
   "metadata": {},
   "source": [
    "**NEXT PLAYER**"
   ]
  },
  {
   "cell_type": "code",
   "execution_count": 77,
   "metadata": {},
   "outputs": [
    {
     "data": {
      "text/plain": [
       "(2,\n",
       " '0[12C] 1[14H] 2[] 3[] 4[] 5[] 6[] 7[] 8[] 9[] 10[] 11[] 12[] ',\n",
       " [[0], [1], 'Pass'],\n",
       " [0, 1, 8031])"
      ]
     },
     "execution_count": 77,
     "metadata": {},
     "output_type": "execute_result"
    }
   ],
   "source": [
    "a,b,c = vectorizedGame.getCurrentState()\r\n",
    "vectorizedGame.info()"
   ]
  },
  {
   "cell_type": "code",
   "execution_count": 78,
   "metadata": {},
   "outputs": [
    {
     "data": {
      "text/plain": [
       "(None, False, {'Position result': array([0, 0, 0, 0])})"
      ]
     },
     "execution_count": 78,
     "metadata": {},
     "output_type": "execute_result"
    }
   ],
   "source": [
    "vectorizedGame.step(0)"
   ]
  },
  {
   "cell_type": "markdown",
   "metadata": {},
   "source": [
    "**NEXT PLAYER**"
   ]
  },
  {
   "cell_type": "code",
   "execution_count": 79,
   "metadata": {},
   "outputs": [
    {
     "data": {
      "text/plain": [
       "(3,\n",
       " '0[9C] 1[9H] 2[10C] 3[11C] 4[14C] 5[15C] 6[] 7[] 8[] 9[] 10[] 11[] 12[] ',\n",
       " [[4], [5], 'Pass'],\n",
       " [4, 5, 8031])"
      ]
     },
     "execution_count": 79,
     "metadata": {},
     "output_type": "execute_result"
    }
   ],
   "source": [
    "a,b,c = vectorizedGame.getCurrentState()\r\n",
    "vectorizedGame.info()"
   ]
  },
  {
   "cell_type": "code",
   "execution_count": 80,
   "metadata": {},
   "outputs": [
    {
     "data": {
      "text/plain": [
       "(None, False, {'Position result': array([0, 0, 0, 0])})"
      ]
     },
     "execution_count": 80,
     "metadata": {},
     "output_type": "execute_result"
    }
   ],
   "source": [
    "vectorizedGame.step(4)"
   ]
  },
  {
   "cell_type": "markdown",
   "metadata": {},
   "source": [
    "**NEXT PLAYER**"
   ]
  },
  {
   "cell_type": "code",
   "execution_count": 81,
   "metadata": {},
   "outputs": [
    {
     "data": {
      "text/plain": [
       "(4,\n",
       " '0[7S] 1[10S] 2[12S] 3[12D] 4[13C] 5[13D] 6[] 7[] 8[] 9[] 10[] 11[] 12[] ',\n",
       " ['Pass'],\n",
       " [8031])"
      ]
     },
     "execution_count": 81,
     "metadata": {},
     "output_type": "execute_result"
    }
   ],
   "source": [
    "a,b,c = vectorizedGame.getCurrentState()\r\n",
    "vectorizedGame.info()"
   ]
  },
  {
   "cell_type": "code",
   "execution_count": 83,
   "metadata": {},
   "outputs": [
    {
     "data": {
      "text/plain": [
       "(None, False, {'Position result': array([0, 0, 0, 0])})"
      ]
     },
     "execution_count": 83,
     "metadata": {},
     "output_type": "execute_result"
    }
   ],
   "source": [
    "vectorizedGame.step(8031)"
   ]
  },
  {
   "cell_type": "markdown",
   "metadata": {},
   "source": [
    "**NEXT PLAYER**"
   ]
  },
  {
   "cell_type": "code",
   "execution_count": 84,
   "metadata": {},
   "outputs": [
    {
     "data": {
      "text/plain": [
       "(2,\n",
       " '0[14H] 1[] 2[] 3[] 4[] 5[] 6[] 7[] 8[] 9[] 10[] 11[] 12[] ',\n",
       " [[0], 'Pass'],\n",
       " [0, 8031])"
      ]
     },
     "execution_count": 84,
     "metadata": {},
     "output_type": "execute_result"
    }
   ],
   "source": [
    "a,b,c = vectorizedGame.getCurrentState()\r\n",
    "vectorizedGame.info()"
   ]
  },
  {
   "cell_type": "code",
   "execution_count": 85,
   "metadata": {},
   "outputs": [
    {
     "data": {
      "text/plain": [
       "(None, False, {'Position result': array([0, 1, 0, 0])})"
      ]
     },
     "execution_count": 85,
     "metadata": {},
     "output_type": "execute_result"
    }
   ],
   "source": [
    "vectorizedGame.step(0)"
   ]
  },
  {
   "cell_type": "markdown",
   "metadata": {},
   "source": [
    "**NEXT PLAYER**"
   ]
  },
  {
   "cell_type": "code",
   "execution_count": 86,
   "metadata": {},
   "outputs": [
    {
     "data": {
      "text/plain": [
       "(3,\n",
       " '0[9C] 1[9H] 2[10C] 3[11C] 4[15C] 5[] 6[] 7[] 8[] 9[] 10[] 11[] 12[] ',\n",
       " [[4], 'Pass'],\n",
       " [4, 8031])"
      ]
     },
     "execution_count": 86,
     "metadata": {},
     "output_type": "execute_result"
    }
   ],
   "source": [
    "a,b,c = vectorizedGame.getCurrentState()\r\n",
    "vectorizedGame.info()"
   ]
  },
  {
   "cell_type": "code",
   "execution_count": 87,
   "metadata": {},
   "outputs": [
    {
     "data": {
      "text/plain": [
       "(None, False, {'Position result': array([0, 1, 0, 0])})"
      ]
     },
     "execution_count": 87,
     "metadata": {},
     "output_type": "execute_result"
    }
   ],
   "source": [
    "vectorizedGame.step(4)"
   ]
  },
  {
   "cell_type": "markdown",
   "metadata": {},
   "source": [
    "**NEXT PLAYER**"
   ]
  },
  {
   "cell_type": "code",
   "execution_count": 88,
   "metadata": {},
   "outputs": [
    {
     "data": {
      "text/plain": [
       "(3,\n",
       " '0[9C] 1[9H] 2[10C] 3[11C] 4[] 5[] 6[] 7[] 8[] 9[] 10[] 11[] 12[] ',\n",
       " ['Pass'],\n",
       " [8031])"
      ]
     },
     "execution_count": 88,
     "metadata": {},
     "output_type": "execute_result"
    }
   ],
   "source": [
    "a,b,c = vectorizedGame.getCurrentState()\r\n",
    "vectorizedGame.info()"
   ]
  }
 ],
 "metadata": {
  "interpreter": {
   "hash": "c4aab450f1ef109a4f64c063ffee8c014a218951d66994a8043f83492de310df"
  },
  "kernelspec": {
   "display_name": "Python 3.8.0 64-bit",
   "name": "python3"
  },
  "language_info": {
   "name": "python",
   "version": ""
  },
  "orig_nbformat": 4
 },
 "nbformat": 4,
 "nbformat_minor": 2
}