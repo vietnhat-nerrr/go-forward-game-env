{
 "cells": [
  {
   "cell_type": "code",
   "execution_count": 5,
   "metadata": {},
   "outputs": [],
   "source": [
    "from big2Game import vectorizedBig2GamesTest\r\n",
    "\r\n",
    "vectorizedGame = vectorizedBig2GamesTest()"
   ]
  },
  {
   "cell_type": "code",
   "execution_count": 6,
   "metadata": {},
   "outputs": [],
   "source": [
    "\r\n",
    "vectorizedGame.reset()"
   ]
  },
  {
   "cell_type": "code",
   "execution_count": 7,
   "metadata": {},
   "outputs": [
    {
     "name": "stdout",
     "output_type": "stream",
     "text": [
      "...\n",
      "...\n"
     ]
    },
    {
     "data": {
      "text/plain": [
       "(4,\n",
       " '0[3S] 1[4D] 2[4H] 3[5D] 4[6D] 5[7C] 6[9D] 7[9H] 8[10D] 9[13S] 10[13D] 11[14C] 12[15C] ',\n",
       " [[0],\n",
       "  array([0, 1, 3]),\n",
       "  array([0, 2, 3]),\n",
       "  array([0, 1, 3, 4]),\n",
       "  array([0, 2, 3, 4]),\n",
       "  array([0, 1, 3, 4, 5]),\n",
       "  array([0, 2, 3, 4, 5])],\n",
       " [0, 47, 53, 299, 335, 1001, 1115])"
      ]
     },
     "execution_count": 7,
     "metadata": {},
     "output_type": "execute_result"
    }
   ],
   "source": [
    "a,b,c = vectorizedGame.getCurrentState()\r\n",
    "vectorizedGame.info()"
   ]
  },
  {
   "cell_type": "code",
   "execution_count": 8,
   "metadata": {},
   "outputs": [
    {
     "name": "stdout",
     "output_type": "stream",
     "text": [
      "[ 1  7 11 15]\n"
     ]
    },
    {
     "data": {
      "text/plain": [
       "(None, False, {'Position result': array([0., 0., 0., 0.])})"
      ]
     },
     "execution_count": 8,
     "metadata": {},
     "output_type": "execute_result"
    }
   ],
   "source": [
    "vectorizedGame.step(299)"
   ]
  },
  {
   "cell_type": "markdown",
   "metadata": {},
   "source": [
    "**NEXT PLAYER**"
   ]
  },
  {
   "cell_type": "code",
   "execution_count": 9,
   "metadata": {},
   "outputs": [
    {
     "data": {
      "text/plain": [
       "(1,\n",
       " '0[3D] 1[3H] 2[5S] 3[6S] 4[6H] 5[7D] 6[7H] 7[8C] 8[10C] 9[11S] 10[11D] 11[11H] 12[14H] ',\n",
       " [array([2, 3, 5, 7]), array([2, 4, 6, 7]), 'Pass'],\n",
       " [643, 676, 8031])"
      ]
     },
     "execution_count": 9,
     "metadata": {},
     "output_type": "execute_result"
    }
   ],
   "source": [
    "a,b,c = vectorizedGame.getCurrentState()\r\n",
    "vectorizedGame.info()"
   ]
  },
  {
   "cell_type": "code",
   "execution_count": 10,
   "metadata": {},
   "outputs": [
    {
     "name": "stdout",
     "output_type": "stream",
     "text": [
      "[ 9 13 19 22]\n"
     ]
    },
    {
     "data": {
      "text/plain": [
       "(None, False, {'Position result': array([0., 0., 0., 0.])})"
      ]
     },
     "execution_count": 10,
     "metadata": {},
     "output_type": "execute_result"
    }
   ],
   "source": [
    "vectorizedGame.step(643)"
   ]
  },
  {
   "cell_type": "markdown",
   "metadata": {},
   "source": [
    "**NEXT PLAYER**"
   ]
  },
  {
   "cell_type": "code",
   "execution_count": 11,
   "metadata": {},
   "outputs": [
    {
     "data": {
      "text/plain": [
       "(2,\n",
       " '0[4S] 1[4C] 2[5C] 3[5H] 4[8S] 5[8H] 6[9C] 7[10S] 8[11C] 9[12D] 10[13H] 11[14D] 12[15S] ',\n",
       " [array([4, 6, 7, 8]), array([5, 6, 7, 8]), 'Pass'],\n",
       " [857, 892, 8031])"
      ]
     },
     "execution_count": 11,
     "metadata": {},
     "output_type": "execute_result"
    }
   ],
   "source": [
    "a,b,c = vectorizedGame.getCurrentState()\r\n",
    "vectorizedGame.info()"
   ]
  },
  {
   "cell_type": "code",
   "execution_count": 12,
   "metadata": {},
   "outputs": [
    {
     "data": {
      "text/plain": [
       "(None, False, {'Position result': array([0., 0., 0., 0.])})"
      ]
     },
     "execution_count": 12,
     "metadata": {},
     "output_type": "execute_result"
    }
   ],
   "source": [
    "vectorizedGame.step(8031)"
   ]
  },
  {
   "cell_type": "markdown",
   "metadata": {},
   "source": [
    "**NEXT PLAYER**"
   ]
  },
  {
   "cell_type": "code",
   "execution_count": 13,
   "metadata": {},
   "outputs": [
    {
     "data": {
      "text/plain": [
       "(3,\n",
       " '0[3C] 1[6C] 2[7S] 3[8D] 4[9S] 5[10H] 6[12S] 7[12C] 8[12H] 9[13C] 10[14S] 11[15D] 12[15H] ',\n",
       " [array([1, 2, 3, 4]), array([2, 3, 4, 5]), 'Pass'],\n",
       " [482, 635, 8031])"
      ]
     },
     "execution_count": 13,
     "metadata": {},
     "output_type": "execute_result"
    }
   ],
   "source": [
    "a,b,c = vectorizedGame.getCurrentState()\r\n",
    "vectorizedGame.info()"
   ]
  },
  {
   "cell_type": "code",
   "execution_count": 14,
   "metadata": {},
   "outputs": [
    {
     "name": "stdout",
     "output_type": "stream",
     "text": [
      "[17 23 25 32]\n"
     ]
    },
    {
     "data": {
      "text/plain": [
       "(None, False, {'Position result': array([0., 0., 0., 0.])})"
      ]
     },
     "execution_count": 14,
     "metadata": {},
     "output_type": "execute_result"
    }
   ],
   "source": [
    "vectorizedGame.step(635)"
   ]
  },
  {
   "cell_type": "markdown",
   "metadata": {},
   "source": [
    "**NEXT PLAYER**"
   ]
  },
  {
   "cell_type": "code",
   "execution_count": 15,
   "metadata": {},
   "outputs": [
    {
     "data": {
      "text/plain": [
       "(4,\n",
       " '0[4H] 1[7C] 2[9D] 3[9H] 4[10D] 5[13S] 6[13D] 7[14C] 8[15C] 9[] 10[] 11[] 12[] ',\n",
       " ['Pass'],\n",
       " [8031])"
      ]
     },
     "execution_count": 15,
     "metadata": {},
     "output_type": "execute_result"
    }
   ],
   "source": [
    "a,b,c = vectorizedGame.getCurrentState()\r\n",
    "vectorizedGame.info()"
   ]
  },
  {
   "cell_type": "code",
   "execution_count": 16,
   "metadata": {},
   "outputs": [
    {
     "data": {
      "text/plain": [
       "(None, False, {'Position result': array([0., 0., 0., 0.])})"
      ]
     },
     "execution_count": 16,
     "metadata": {},
     "output_type": "execute_result"
    }
   ],
   "source": [
    "vectorizedGame.step(8031)"
   ]
  },
  {
   "cell_type": "markdown",
   "metadata": {},
   "source": [
    "**NEXT PLAYER**"
   ]
  },
  {
   "cell_type": "code",
   "execution_count": 17,
   "metadata": {},
   "outputs": [
    {
     "data": {
      "text/plain": [
       "(1,\n",
       " '0[3D] 1[3H] 2[6H] 3[7H] 4[10C] 5[11S] 6[11D] 7[11H] 8[14H] 9[] 10[] 11[] 12[] ',\n",
       " ['Pass'],\n",
       " [8031])"
      ]
     },
     "execution_count": 17,
     "metadata": {},
     "output_type": "execute_result"
    }
   ],
   "source": [
    "a,b,c = vectorizedGame.getCurrentState()\r\n",
    "vectorizedGame.info()"
   ]
  },
  {
   "cell_type": "code",
   "execution_count": 18,
   "metadata": {},
   "outputs": [
    {
     "data": {
      "text/plain": [
       "(None, False, {'Position result': array([0., 0., 0., 0.])})"
      ]
     },
     "execution_count": 18,
     "metadata": {},
     "output_type": "execute_result"
    }
   ],
   "source": [
    "vectorizedGame.step(8031)"
   ]
  },
  {
   "cell_type": "markdown",
   "metadata": {},
   "source": [
    "**NEXT PLAYER**\r\n"
   ]
  },
  {
   "cell_type": "code",
   "execution_count": 19,
   "metadata": {},
   "outputs": [
    {
     "data": {
      "text/plain": [
       "(2,\n",
       " '0[4S] 1[4C] 2[5C] 3[5H] 4[8S] 5[8H] 6[9C] 7[10S] 8[11C] 9[12D] 10[13H] 11[14D] 12[15S] ',\n",
       " [array([4, 6, 7, 8]), array([5, 6, 7, 8]), 'Pass'],\n",
       " [857, 892, 8031])"
      ]
     },
     "execution_count": 19,
     "metadata": {},
     "output_type": "execute_result"
    }
   ],
   "source": [
    "a,b,c = vectorizedGame.getCurrentState()\r\n",
    "vectorizedGame.info()"
   ]
  }
 ],
 "metadata": {
  "interpreter": {
   "hash": "c4aab450f1ef109a4f64c063ffee8c014a218951d66994a8043f83492de310df"
  },
  "kernelspec": {
   "display_name": "Python 3.8.0 64-bit",
   "name": "python3"
  },
  "language_info": {
   "codemirror_mode": {
    "name": "ipython",
    "version": 3
   },
   "file_extension": ".py",
   "mimetype": "text/x-python",
   "name": "python",
   "nbconvert_exporter": "python",
   "pygments_lexer": "ipython3",
   "version": "3.8.0"
  },
  "orig_nbformat": 4
 },
 "nbformat": 4,
 "nbformat_minor": 2
}