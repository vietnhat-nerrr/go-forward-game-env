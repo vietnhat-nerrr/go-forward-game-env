{
 "cells": [
  {
   "cell_type": "code",
   "execution_count": 1,
   "metadata": {},
   "outputs": [],
   "source": [
    "from big2Game import vectorizedBig2GamesTest\r\n",
    "\r\n",
    "vectorizedGame = vectorizedBig2GamesTest()"
   ]
  },
  {
   "cell_type": "code",
   "execution_count": 2,
   "metadata": {},
   "outputs": [],
   "source": [
    "\r\n",
    "vectorizedGame.reset()"
   ]
  },
  {
   "cell_type": "code",
   "execution_count": 3,
   "metadata": {},
   "outputs": [
    {
     "data": {
      "text/plain": [
       "(3,\n",
       " '0[3S] 1[3H] 2[4S] 3[4D] 4[4H] 5[8H] 6[9C] 7[9H] 8[10C] 9[11C] 10[13H] 11[14C] 12[15C] ',\n",
       " [[0], array([0, 1])],\n",
       " [0, 13])"
      ]
     },
     "execution_count": 3,
     "metadata": {},
     "output_type": "execute_result"
    }
   ],
   "source": [
    "a,b,c = vectorizedGame.getCurrentState()\r\n",
    "vectorizedGame.info()"
   ]
  },
  {
   "cell_type": "code",
   "execution_count": 28,
   "metadata": {},
   "outputs": [
    {
     "data": {
      "text/plain": [
       "(None, False, {'Position result': array([0., 0., 0., 0., 0.])})"
      ]
     },
     "execution_count": 28,
     "metadata": {},
     "output_type": "execute_result"
    }
   ],
   "source": [
    "vectorizedGame.step(13)"
   ]
  },
  {
   "cell_type": "markdown",
   "metadata": {},
   "source": [
    "**NEXT PLAYER**"
   ]
  },
  {
   "cell_type": "code",
   "execution_count": 29,
   "metadata": {},
   "outputs": [
    {
     "data": {
      "text/plain": [
       "(3,\n",
       " '0[4S] 1[4C] 2[5C] 3[6C] 4[6H] 5[7S] 6[8S] 7[8D] 8[8H] 9[11C] 10[12S] 11[13D] 12[15D] ',\n",
       " [array([0, 1]),\n",
       "  array([3, 4]),\n",
       "  array([6, 7]),\n",
       "  array([6, 8]),\n",
       "  array([7, 8]),\n",
       "  'Pass'],\n",
       " [13, 22, 31, 32, 34, 8031])"
      ]
     },
     "execution_count": 29,
     "metadata": {},
     "output_type": "execute_result"
    }
   ],
   "source": [
    "a,b,c = vectorizedGame.getCurrentState()\r\n",
    "vectorizedGame.info()"
   ]
  },
  {
   "cell_type": "code",
   "execution_count": 30,
   "metadata": {},
   "outputs": [
    {
     "data": {
      "text/plain": [
       "(None, False, {'Position result': array([0., 0., 0., 0., 0.])})"
      ]
     },
     "execution_count": 30,
     "metadata": {},
     "output_type": "execute_result"
    }
   ],
   "source": [
    "vectorizedGame.step(13)"
   ]
  },
  {
   "cell_type": "markdown",
   "metadata": {},
   "source": [
    "**NEXT PLAYER**"
   ]
  },
  {
   "cell_type": "code",
   "execution_count": 31,
   "metadata": {},
   "outputs": [
    {
     "data": {
      "text/plain": [
       "(4,\n",
       " '0[3C] 1[3H] 2[4D] 3[4H] 4[6S] 5[7D] 6[7H] 7[8C] 8[10C] 9[10D] 10[10H] 11[14D] 12[15C] ',\n",
       " [array([2, 3]),\n",
       "  array([5, 6]),\n",
       "  array([8, 9]),\n",
       "  array([ 8, 10]),\n",
       "  array([ 9, 10]),\n",
       "  'Pass'],\n",
       " [19, 28, 37, 38, 40, 8031])"
      ]
     },
     "execution_count": 31,
     "metadata": {},
     "output_type": "execute_result"
    }
   ],
   "source": [
    "a,b,c = vectorizedGame.getCurrentState()\r\n",
    "vectorizedGame.info()"
   ]
  },
  {
   "cell_type": "code",
   "execution_count": 32,
   "metadata": {},
   "outputs": [
    {
     "data": {
      "text/plain": [
       "(None, False, {'Position result': array([0., 0., 0., 0., 0.])})"
      ]
     },
     "execution_count": 32,
     "metadata": {},
     "output_type": "execute_result"
    }
   ],
   "source": [
    "vectorizedGame.step(19)"
   ]
  },
  {
   "cell_type": "markdown",
   "metadata": {},
   "source": [
    "**NEXT PLAYER**"
   ]
  },
  {
   "cell_type": "code",
   "execution_count": 33,
   "metadata": {},
   "outputs": [
    {
     "data": {
      "text/plain": [
       "(1,\n",
       " '0[5S] 1[9S] 2[9C] 3[9D] 4[9H] 5[10S] 6[11D] 7[11H] 8[12C] 9[12H] 10[13H] 11[14C] 12[14H] ',\n",
       " [array([1, 2]),\n",
       "  array([1, 3]),\n",
       "  array([1, 4]),\n",
       "  array([2, 3]),\n",
       "  array([2, 4]),\n",
       "  array([3, 4]),\n",
       "  array([6, 7]),\n",
       "  array([8, 9]),\n",
       "  array([11, 12]),\n",
       "  'Pass'],\n",
       " [16, 17, 18, 19, 20, 22, 31, 37, 45, 8031])"
      ]
     },
     "execution_count": 33,
     "metadata": {},
     "output_type": "execute_result"
    }
   ],
   "source": [
    "a,b,c = vectorizedGame.getCurrentState()\r\n",
    "vectorizedGame.info()"
   ]
  },
  {
   "cell_type": "code",
   "execution_count": 34,
   "metadata": {},
   "outputs": [
    {
     "data": {
      "text/plain": [
       "(None, False, {'Position result': array([0., 0., 0., 0., 0.])})"
      ]
     },
     "execution_count": 34,
     "metadata": {},
     "output_type": "execute_result"
    }
   ],
   "source": [
    "vectorizedGame.step(37)"
   ]
  },
  {
   "cell_type": "markdown",
   "metadata": {},
   "source": [
    "**NEXT PLAYER**"
   ]
  },
  {
   "cell_type": "code",
   "execution_count": 35,
   "metadata": {},
   "outputs": [
    {
     "data": {
      "text/plain": [
       "(2,\n",
       " '0[5D] 1[5H] 2[6D] 3[7C] 4[11S] 5[12D] 6[13S] 7[13C] 8[14S] 9[15S] 10[15H] 11[] 12[] ',\n",
       " [array([6, 7]), array([ 9, 10]), 'Pass'],\n",
       " [31, 40, 8031])"
      ]
     },
     "execution_count": 35,
     "metadata": {},
     "output_type": "execute_result"
    }
   ],
   "source": [
    "a,b,c = vectorizedGame.getCurrentState()\r\n",
    "vectorizedGame.info()"
   ]
  },
  {
   "cell_type": "code",
   "execution_count": 36,
   "metadata": {},
   "outputs": [
    {
     "name": "stdout",
     "output_type": "stream",
     "text": [
      "...\n",
      "1\n",
      "1\n",
      "{0: False, 1: False, 2: False, 3: False, 4: False}\n",
      "{0: False, 1: False, 2: True, 3: False, 4: False}\n",
      "0\n"
     ]
    },
    {
     "data": {
      "text/plain": [
       "(None, False, {'Position result': array([0., 0., 0., 0., 0.])})"
      ]
     },
     "execution_count": 36,
     "metadata": {},
     "output_type": "execute_result"
    }
   ],
   "source": [
    "vectorizedGame.step(8031)"
   ]
  },
  {
   "cell_type": "markdown",
   "metadata": {},
   "source": [
    "**NEXT PLAYER**"
   ]
  },
  {
   "cell_type": "code",
   "execution_count": 37,
   "metadata": {},
   "outputs": [
    {
     "data": {
      "text/plain": [
       "(3,\n",
       " '0[5C] 1[6C] 2[6H] 3[7S] 4[8S] 5[8D] 6[8H] 7[11C] 8[12S] 9[13D] 10[15D] 11[] 12[] ',\n",
       " ['Pass'],\n",
       " [8031])"
      ]
     },
     "execution_count": 37,
     "metadata": {},
     "output_type": "execute_result"
    }
   ],
   "source": [
    "a,b,c = vectorizedGame.getCurrentState()\r\n",
    "vectorizedGame.info()"
   ]
  },
  {
   "cell_type": "code",
   "execution_count": 38,
   "metadata": {},
   "outputs": [
    {
     "name": "stdout",
     "output_type": "stream",
     "text": [
      "...\n",
      "...\n",
      "2\n",
      "2\n",
      "{0: False, 1: False, 2: False, 3: False, 4: False}\n",
      "{0: False, 1: False, 2: True, 3: True, 4: False}\n",
      "0\n"
     ]
    },
    {
     "data": {
      "text/plain": [
       "(None, False, {'Position result': array([0., 0., 0., 0., 0.])})"
      ]
     },
     "execution_count": 38,
     "metadata": {},
     "output_type": "execute_result"
    }
   ],
   "source": [
    "vectorizedGame.step(8031)"
   ]
  },
  {
   "cell_type": "markdown",
   "metadata": {},
   "source": [
    "**NEXT PLAYER**\r\n"
   ]
  },
  {
   "cell_type": "code",
   "execution_count": 40,
   "metadata": {},
   "outputs": [
    {
     "data": {
      "text/plain": [
       "(4,\n",
       " '0[3C] 1[3H] 2[6S] 3[7D] 4[7H] 5[8C] 6[10C] 7[10D] 8[10H] 9[14D] 10[15C] 11[] 12[] ',\n",
       " ['Pass'],\n",
       " [8031])"
      ]
     },
     "execution_count": 40,
     "metadata": {},
     "output_type": "execute_result"
    }
   ],
   "source": [
    "a,b,c = vectorizedGame.getCurrentState()\r\n",
    "vectorizedGame.info()"
   ]
  },
  {
   "cell_type": "code",
   "execution_count": 41,
   "metadata": {},
   "outputs": [
    {
     "name": "stdout",
     "output_type": "stream",
     "text": [
      "...\n",
      "...\n",
      "...\n",
      "3\n",
      "3\n",
      "{0: False, 1: False, 2: False, 3: False, 4: False}\n",
      "{0: False, 1: False, 2: True, 3: True, 4: True}\n",
      "0\n"
     ]
    },
    {
     "data": {
      "text/plain": [
       "(None, False, {'Position result': array([0., 0., 0., 0., 0.])})"
      ]
     },
     "execution_count": 41,
     "metadata": {},
     "output_type": "execute_result"
    }
   ],
   "source": [
    "vectorizedGame.step(8031)"
   ]
  },
  {
   "cell_type": "markdown",
   "metadata": {},
   "source": [
    "**NEXT PLAYER**\r\n"
   ]
  },
  {
   "cell_type": "code",
   "execution_count": 42,
   "metadata": {},
   "outputs": [
    {
     "data": {
      "text/plain": [
       "(1,\n",
       " '0[5S] 1[9S] 2[9C] 3[9D] 4[9H] 5[10S] 6[11D] 7[11H] 8[13H] 9[14C] 10[14H] 11[] 12[] ',\n",
       " [[0],\n",
       "  [1],\n",
       "  [2],\n",
       "  [3],\n",
       "  [4],\n",
       "  [5],\n",
       "  [6],\n",
       "  [7],\n",
       "  [8],\n",
       "  [9],\n",
       "  [10],\n",
       "  array([1, 2]),\n",
       "  array([1, 3]),\n",
       "  array([1, 4]),\n",
       "  array([2, 3]),\n",
       "  array([2, 4]),\n",
       "  array([3, 4]),\n",
       "  array([6, 7]),\n",
       "  array([ 9, 10]),\n",
       "  array([1, 2, 3]),\n",
       "  array([1, 3, 4]),\n",
       "  array([1, 5, 6]),\n",
       "  array([2, 3, 4]),\n",
       "  array([2, 5, 6]),\n",
       "  array([3, 5, 7]),\n",
       "  array([4, 5, 7]),\n",
       "  array([1, 2, 3, 4])],\n",
       " [0,\n",
       "  1,\n",
       "  2,\n",
       "  3,\n",
       "  4,\n",
       "  5,\n",
       "  6,\n",
       "  7,\n",
       "  8,\n",
       "  9,\n",
       "  10,\n",
       "  16,\n",
       "  17,\n",
       "  18,\n",
       "  19,\n",
       "  20,\n",
       "  22,\n",
       "  31,\n",
       "  40,\n",
       "  92,\n",
       "  99,\n",
       "  113,\n",
       "  135,\n",
       "  149,\n",
       "  182,\n",
       "  209,\n",
       "  482])"
      ]
     },
     "execution_count": 42,
     "metadata": {},
     "output_type": "execute_result"
    }
   ],
   "source": [
    "a,b,c = vectorizedGame.getCurrentState()\r\n",
    "vectorizedGame.info()"
   ]
  },
  {
   "cell_type": "code",
   "execution_count": 43,
   "metadata": {},
   "outputs": [
    {
     "data": {
      "text/plain": [
       "(None, False, {'Position result': array([0., 0., 0., 0., 0.])})"
      ]
     },
     "execution_count": 43,
     "metadata": {},
     "output_type": "execute_result"
    }
   ],
   "source": [
    "vectorizedGame.step(0)"
   ]
  },
  {
   "cell_type": "markdown",
   "metadata": {},
   "source": [
    "**NEXT PLAYER**"
   ]
  },
  {
   "cell_type": "code",
   "execution_count": 44,
   "metadata": {},
   "outputs": [
    {
     "data": {
      "text/plain": [
       "(2,\n",
       " '0[5D] 1[5H] 2[6D] 3[7C] 4[11S] 5[12D] 6[13S] 7[13C] 8[14S] 9[15S] 10[15H] 11[] 12[] ',\n",
       " [[0], [1], [2], [3], [4], [5], [6], [7], [8], [9], [10], 'Pass'],\n",
       " [0, 1, 2, 3, 4, 5, 6, 7, 8, 9, 10, 8031])"
      ]
     },
     "execution_count": 44,
     "metadata": {},
     "output_type": "execute_result"
    }
   ],
   "source": [
    "a,b,c = vectorizedGame.getCurrentState()\r\n",
    "vectorizedGame.info()"
   ]
  },
  {
   "cell_type": "code",
   "execution_count": 45,
   "metadata": {},
   "outputs": [
    {
     "data": {
      "text/plain": [
       "(None, False, {'Position result': array([0., 0., 0., 0., 0.])})"
      ]
     },
     "execution_count": 45,
     "metadata": {},
     "output_type": "execute_result"
    }
   ],
   "source": [
    "vectorizedGame.step(2)"
   ]
  },
  {
   "cell_type": "markdown",
   "metadata": {},
   "source": [
    "**NEXT PLAYER**"
   ]
  },
  {
   "cell_type": "code",
   "execution_count": 46,
   "metadata": {},
   "outputs": [
    {
     "data": {
      "text/plain": [
       "(3,\n",
       " '0[5C] 1[6C] 2[6H] 3[7S] 4[8S] 5[8D] 6[8H] 7[11C] 8[12S] 9[13D] 10[15D] 11[] 12[] ',\n",
       " [[2], [3], [4], [5], [6], [7], [8], [9], [10], 'Pass'],\n",
       " [2, 3, 4, 5, 6, 7, 8, 9, 10, 8031])"
      ]
     },
     "execution_count": 46,
     "metadata": {},
     "output_type": "execute_result"
    }
   ],
   "source": [
    "a,b,c = vectorizedGame.getCurrentState()\r\n",
    "vectorizedGame.info()"
   ]
  },
  {
   "cell_type": "code",
   "execution_count": 47,
   "metadata": {},
   "outputs": [
    {
     "data": {
      "text/plain": [
       "(None, False, {'Position result': array([0., 0., 0., 0., 0.])})"
      ]
     },
     "execution_count": 47,
     "metadata": {},
     "output_type": "execute_result"
    }
   ],
   "source": [
    "vectorizedGame.step(2)"
   ]
  },
  {
   "cell_type": "markdown",
   "metadata": {},
   "source": [
    "**NEXT PLAYER**"
   ]
  },
  {
   "cell_type": "code",
   "execution_count": 48,
   "metadata": {},
   "outputs": [
    {
     "data": {
      "text/plain": [
       "(4,\n",
       " '0[3C] 1[3H] 2[6S] 3[7D] 4[7H] 5[8C] 6[10C] 7[10D] 8[10H] 9[14D] 10[15C] 11[] 12[] ',\n",
       " [[3], [4], [5], [6], [7], [8], [9], [10], 'Pass'],\n",
       " [3, 4, 5, 6, 7, 8, 9, 10, 8031])"
      ]
     },
     "execution_count": 48,
     "metadata": {},
     "output_type": "execute_result"
    }
   ],
   "source": [
    "a,b,c = vectorizedGame.getCurrentState()\r\n",
    "vectorizedGame.info()"
   ]
  },
  {
   "cell_type": "code",
   "execution_count": 49,
   "metadata": {},
   "outputs": [
    {
     "data": {
      "text/plain": [
       "(None, False, {'Position result': array([0., 0., 0., 0., 0.])})"
      ]
     },
     "execution_count": 49,
     "metadata": {},
     "output_type": "execute_result"
    }
   ],
   "source": [
    "vectorizedGame.step(4)"
   ]
  },
  {
   "cell_type": "markdown",
   "metadata": {},
   "source": [
    "**NEXT PLAYER**"
   ]
  },
  {
   "cell_type": "code",
   "execution_count": 50,
   "metadata": {},
   "outputs": [
    {
     "data": {
      "text/plain": [
       "(1,\n",
       " '0[9S] 1[9C] 2[9D] 3[9H] 4[10S] 5[11D] 6[11H] 7[13H] 8[14C] 9[14H] 10[] 11[] 12[] ',\n",
       " [[0], [1], [2], [3], [4], [5], [6], [7], [8], [9], 'Pass'],\n",
       " [0, 1, 2, 3, 4, 5, 6, 7, 8, 9, 8031])"
      ]
     },
     "execution_count": 50,
     "metadata": {},
     "output_type": "execute_result"
    }
   ],
   "source": [
    "a,b,c = vectorizedGame.getCurrentState()\r\n",
    "vectorizedGame.info()"
   ]
  },
  {
   "cell_type": "code",
   "execution_count": 51,
   "metadata": {},
   "outputs": [
    {
     "data": {
      "text/plain": [
       "(None, False, {'Position result': array([0., 0., 0., 0., 0.])})"
      ]
     },
     "execution_count": 51,
     "metadata": {},
     "output_type": "execute_result"
    }
   ],
   "source": [
    "vectorizedGame.step(4)"
   ]
  },
  {
   "cell_type": "markdown",
   "metadata": {},
   "source": [
    "**NEXT PLAYER**"
   ]
  },
  {
   "cell_type": "code",
   "execution_count": 52,
   "metadata": {},
   "outputs": [
    {
     "data": {
      "text/plain": [
       "(2,\n",
       " '0[5D] 1[5H] 2[7C] 3[11S] 4[12D] 5[13S] 6[13C] 7[14S] 8[15S] 9[15H] 10[] 11[] 12[] ',\n",
       " [[3], [4], [5], [6], [7], [8], [9], 'Pass'],\n",
       " [3, 4, 5, 6, 7, 8, 9, 8031])"
      ]
     },
     "execution_count": 52,
     "metadata": {},
     "output_type": "execute_result"
    }
   ],
   "source": [
    "a,b,c = vectorizedGame.getCurrentState()\r\n",
    "vectorizedGame.info()"
   ]
  },
  {
   "cell_type": "code",
   "execution_count": 53,
   "metadata": {},
   "outputs": [
    {
     "data": {
      "text/plain": [
       "(None, False, {'Position result': array([0., 0., 0., 0., 0.])})"
      ]
     },
     "execution_count": 53,
     "metadata": {},
     "output_type": "execute_result"
    }
   ],
   "source": [
    "vectorizedGame.step(5)"
   ]
  },
  {
   "cell_type": "markdown",
   "metadata": {},
   "source": [
    "**NEXT PLAYER**"
   ]
  },
  {
   "cell_type": "code",
   "execution_count": 54,
   "metadata": {},
   "outputs": [
    {
     "data": {
      "text/plain": [
       "(3,\n",
       " '0[5C] 1[6C] 2[7S] 3[8S] 4[8D] 5[8H] 6[11C] 7[12S] 8[13D] 9[15D] 10[] 11[] 12[] ',\n",
       " [[8], [9], 'Pass'],\n",
       " [8, 9, 8031])"
      ]
     },
     "execution_count": 54,
     "metadata": {},
     "output_type": "execute_result"
    }
   ],
   "source": [
    "a,b,c = vectorizedGame.getCurrentState()\r\n",
    "vectorizedGame.info()"
   ]
  },
  {
   "cell_type": "code",
   "execution_count": 55,
   "metadata": {},
   "outputs": [
    {
     "data": {
      "text/plain": [
       "(None, False, {'Position result': array([0., 0., 0., 0., 0.])})"
      ]
     },
     "execution_count": 55,
     "metadata": {},
     "output_type": "execute_result"
    }
   ],
   "source": [
    "vectorizedGame.step(9)"
   ]
  },
  {
   "cell_type": "markdown",
   "metadata": {},
   "source": [
    "**NEXT PLAYER**"
   ]
  },
  {
   "cell_type": "code",
   "execution_count": 56,
   "metadata": {},
   "outputs": [
    {
     "data": {
      "text/plain": [
       "(4,\n",
       " '0[3C] 1[3H] 2[6S] 3[7D] 4[8C] 5[10C] 6[10D] 7[10H] 8[14D] 9[15C] 10[] 11[] 12[] ',\n",
       " ['Pass'],\n",
       " [8031])"
      ]
     },
     "execution_count": 56,
     "metadata": {},
     "output_type": "execute_result"
    }
   ],
   "source": [
    "a,b,c = vectorizedGame.getCurrentState()\r\n",
    "vectorizedGame.info()"
   ]
  },
  {
   "cell_type": "code",
   "execution_count": 57,
   "metadata": {},
   "outputs": [
    {
     "name": "stdout",
     "output_type": "stream",
     "text": [
      "...\n",
      "1\n",
      "1\n",
      "{0: False, 1: False, 2: False, 3: False, 4: False}\n",
      "{0: False, 1: False, 2: False, 3: False, 4: True}\n",
      "0\n"
     ]
    },
    {
     "data": {
      "text/plain": [
       "(None, False, {'Position result': array([0., 0., 0., 0., 0.])})"
      ]
     },
     "execution_count": 57,
     "metadata": {},
     "output_type": "execute_result"
    }
   ],
   "source": [
    "vectorizedGame.step(8031)"
   ]
  },
  {
   "cell_type": "markdown",
   "metadata": {},
   "source": [
    "**NEXT PLAYER**"
   ]
  },
  {
   "cell_type": "code",
   "execution_count": 58,
   "metadata": {},
   "outputs": [
    {
     "data": {
      "text/plain": [
       "(1,\n",
       " '0[9S] 1[9C] 2[9D] 3[9H] 4[11D] 5[11H] 6[13H] 7[14C] 8[14H] 9[] 10[] 11[] 12[] ',\n",
       " [array([0, 1, 2, 3]), 'Pass'],\n",
       " [292, 8031])"
      ]
     },
     "execution_count": 58,
     "metadata": {},
     "output_type": "execute_result"
    }
   ],
   "source": [
    "a,b,c = vectorizedGame.getCurrentState()\r\n",
    "vectorizedGame.info()"
   ]
  },
  {
   "cell_type": "code",
   "execution_count": 59,
   "metadata": {},
   "outputs": [
    {
     "data": {
      "text/plain": [
       "(None, False, {'Position result': array([0., 0., 0., 0., 0.])})"
      ]
     },
     "execution_count": 59,
     "metadata": {},
     "output_type": "execute_result"
    }
   ],
   "source": [
    "vectorizedGame.step(292)"
   ]
  },
  {
   "cell_type": "markdown",
   "metadata": {},
   "source": [
    "**NEXT PLAYER**"
   ]
  },
  {
   "cell_type": "code",
   "execution_count": 60,
   "metadata": {},
   "outputs": [
    {
     "data": {
      "text/plain": [
       "(2,\n",
       " '0[5D] 1[5H] 2[7C] 3[11S] 4[12D] 5[13C] 6[14S] 7[15S] 8[15H] 9[] 10[] 11[] 12[] ',\n",
       " ['Pass'],\n",
       " [8031])"
      ]
     },
     "execution_count": 60,
     "metadata": {},
     "output_type": "execute_result"
    }
   ],
   "source": [
    "a,b,c = vectorizedGame.getCurrentState()\r\n",
    "vectorizedGame.info()"
   ]
  },
  {
   "cell_type": "code",
   "execution_count": 61,
   "metadata": {},
   "outputs": [
    {
     "name": "stdout",
     "output_type": "stream",
     "text": [
      "...\n",
      "...\n",
      "1\n",
      "2\n",
      "{0: False, 1: False, 2: False, 3: False, 4: False}\n",
      "{0: False, 1: False, 2: True, 3: False, 4: True}\n",
      "0\n"
     ]
    },
    {
     "data": {
      "text/plain": [
       "(None, False, {'Position result': array([0., 0., 0., 0., 0.])})"
      ]
     },
     "execution_count": 61,
     "metadata": {},
     "output_type": "execute_result"
    }
   ],
   "source": [
    "vectorizedGame.step(8031)"
   ]
  },
  {
   "cell_type": "markdown",
   "metadata": {},
   "source": [
    "**NEXT PLAYER**\r\n"
   ]
  },
  {
   "cell_type": "code",
   "execution_count": 62,
   "metadata": {},
   "outputs": [
    {
     "data": {
      "text/plain": [
       "(3,\n",
       " '0[5C] 1[6C] 2[7S] 3[8S] 4[8D] 5[8H] 6[11C] 7[12S] 8[13D] 9[] 10[] 11[] 12[] ',\n",
       " ['Pass'],\n",
       " [8031])"
      ]
     },
     "execution_count": 62,
     "metadata": {},
     "output_type": "execute_result"
    }
   ],
   "source": [
    "a,b,c = vectorizedGame.getCurrentState()\r\n",
    "vectorizedGame.info()"
   ]
  },
  {
   "cell_type": "code",
   "execution_count": 64,
   "metadata": {},
   "outputs": [
    {
     "name": "stdout",
     "output_type": "stream",
     "text": [
      "...\n",
      "...\n",
      "...\n",
      "2\n",
      "3\n",
      "{0: False, 1: False, 2: False, 3: False, 4: False}\n",
      "{0: False, 1: False, 2: True, 3: True, 4: True}\n",
      "0\n"
     ]
    },
    {
     "data": {
      "text/plain": [
       "(None, False, {'Position result': array([0., 0., 0., 0., 0.])})"
      ]
     },
     "execution_count": 64,
     "metadata": {},
     "output_type": "execute_result"
    }
   ],
   "source": [
    "vectorizedGame.step(8031)"
   ]
  }
 ],
 "metadata": {
  "interpreter": {
   "hash": "c4aab450f1ef109a4f64c063ffee8c014a218951d66994a8043f83492de310df"
  },
  "kernelspec": {
   "display_name": "Python 3.8.0 64-bit",
   "name": "python3"
  },
  "language_info": {
   "codemirror_mode": {
    "name": "ipython",
    "version": 3
   },
   "file_extension": ".py",
   "mimetype": "text/x-python",
   "name": "python",
   "nbconvert_exporter": "python",
   "pygments_lexer": "ipython3",
   "version": "3.8.0"
  },
  "orig_nbformat": 4
 },
 "nbformat": 4,
 "nbformat_minor": 2
}