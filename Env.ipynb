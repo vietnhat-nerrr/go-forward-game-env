{
 "cells": [
  {
   "cell_type": "code",
   "execution_count": 2,
   "source": [
    "from goForwardGame import vectorizedGoForwardGamesTest\n",
    "\n",
    "vectorizedGame = vectorizedGoForwardGamesTest()"
   ],
   "outputs": [],
   "metadata": {}
  },
  {
   "cell_type": "code",
   "execution_count": 3,
   "source": [
    "vectorizedGame.reset()\n"
   ],
   "outputs": [],
   "metadata": {}
  },
  {
   "cell_type": "code",
   "execution_count": 4,
   "source": [
    "a,b,c = vectorizedGame.getCurrentState()\n",
    "vectorizedGame.info()"
   ],
   "outputs": [
    {
     "output_type": "execute_result",
     "data": {
      "text/plain": [
       "(4,\n",
       " '0[3S] 1[4C] 2[4D] 3[5H] 4[6H] 5[8D] 6[9H] 7[11D] 8[12S] 9[12C] 10[12H] 11[13S] 12[15D] ',\n",
       " [[0],\n",
       "  array([0, 1, 3], dtype=int32),\n",
       "  array([0, 2, 3], dtype=int32),\n",
       "  array([0, 1, 3, 4], dtype=int32),\n",
       "  array([0, 2, 3, 4], dtype=int32)],\n",
       " [0, 47, 53, 299, 335])"
      ]
     },
     "metadata": {},
     "execution_count": 4
    }
   ],
   "metadata": {}
  },
  {
   "cell_type": "code",
   "execution_count": 5,
   "source": [
    "vectorizedGame.step(0)"
   ],
   "outputs": [
    {
     "output_type": "execute_result",
     "data": {
      "text/plain": [
       "(None, False, {'Position result': array([0, 0, 0, 0])})"
      ]
     },
     "metadata": {},
     "execution_count": 5
    }
   ],
   "metadata": {}
  },
  {
   "cell_type": "markdown",
   "source": [
    "**NEXT PLAYER**"
   ],
   "metadata": {}
  },
  {
   "cell_type": "code",
   "execution_count": 6,
   "source": [
    "a,b,c = vectorizedGame.getCurrentState()\n",
    "vectorizedGame.info()"
   ],
   "outputs": [
    {
     "output_type": "execute_result",
     "data": {
      "text/plain": [
       "(1,\n",
       " '0[3C] 1[3H] 2[5S] 3[5C] 4[8S] 5[9S] 6[9D] 7[10S] 8[10D] 9[11C] 10[11H] 11[15S] 12[15H] ',\n",
       " [[0], [1], [2], [3], [4], [5], [6], [7], [8], [9], [10], [11], [12], 'Pass'],\n",
       " [0, 1, 2, 3, 4, 5, 6, 7, 8, 9, 10, 11, 12, 8031])"
      ]
     },
     "metadata": {},
     "execution_count": 6
    }
   ],
   "metadata": {}
  },
  {
   "cell_type": "code",
   "execution_count": 7,
   "source": [
    "vectorizedGame.step(0)"
   ],
   "outputs": [
    {
     "output_type": "execute_result",
     "data": {
      "text/plain": [
       "(None, False, {'Position result': array([0, 0, 0, 0])})"
      ]
     },
     "metadata": {},
     "execution_count": 7
    }
   ],
   "metadata": {}
  },
  {
   "cell_type": "markdown",
   "source": [
    "**NEXT PLAYER**"
   ],
   "metadata": {}
  },
  {
   "cell_type": "code",
   "execution_count": 8,
   "source": [
    "a,b,c = vectorizedGame.getCurrentState()\n",
    "vectorizedGame.info()"
   ],
   "outputs": [
    {
     "output_type": "execute_result",
     "data": {
      "text/plain": [
       "(2,\n",
       " '0[4H] 1[5D] 2[6S] 3[7H] 4[8C] 5[9C] 6[10C] 7[10H] 8[11S] 9[13H] 10[14S] 11[14C] 12[15C] ',\n",
       " [[0], [1], [2], [3], [4], [5], [6], [7], [8], [9], [10], [11], [12], 'Pass'],\n",
       " [0, 1, 2, 3, 4, 5, 6, 7, 8, 9, 10, 11, 12, 8031])"
      ]
     },
     "metadata": {},
     "execution_count": 8
    }
   ],
   "metadata": {}
  },
  {
   "cell_type": "code",
   "execution_count": 10,
   "source": [
    "vectorizedGame.info()[-1]"
   ],
   "outputs": [
    {
     "output_type": "execute_result",
     "data": {
      "text/plain": [
       "[0, 1, 2, 3, 4, 5, 6, 7, 8, 9, 10, 11, 12, 8031]"
      ]
     },
     "metadata": {},
     "execution_count": 10
    }
   ],
   "metadata": {}
  },
  {
   "cell_type": "code",
   "execution_count": 9,
   "source": [
    "vectorizedGame.step(0)"
   ],
   "outputs": [
    {
     "output_type": "execute_result",
     "data": {
      "text/plain": [
       "(None, False, {'Position result': array([0, 0, 0, 0])})"
      ]
     },
     "metadata": {},
     "execution_count": 9
    }
   ],
   "metadata": {}
  },
  {
   "cell_type": "markdown",
   "source": [
    "**NEXT PLAYER**"
   ],
   "metadata": {}
  },
  {
   "cell_type": "code",
   "execution_count": 10,
   "source": [
    "a,b,c = vectorizedGame.getCurrentState()\n",
    "vectorizedGame.info()"
   ],
   "outputs": [
    {
     "output_type": "execute_result",
     "data": {
      "text/plain": [
       "(4,\n",
       " '0[3C] 1[3H] 2[4S] 3[4D] 4[6S] 5[7S] 6[9C] 7[9D] 8[10S] 9[11S] 10[11D] 11[13H] 12[14C] ',\n",
       " [[3], [4], [5], [6], [7], [8], [9], [10], [11], [12], 'Pass'],\n",
       " [3, 4, 5, 6, 7, 8, 9, 10, 11, 12, 8031])"
      ]
     },
     "metadata": {},
     "execution_count": 10
    }
   ],
   "metadata": {}
  },
  {
   "cell_type": "code",
   "execution_count": 11,
   "source": [
    "vectorizedGame.step(4)"
   ],
   "outputs": [
    {
     "output_type": "execute_result",
     "data": {
      "text/plain": [
       "(None, False, {'Position result': array([0, 0, 0, 0])})"
      ]
     },
     "metadata": {},
     "execution_count": 11
    }
   ],
   "metadata": {}
  },
  {
   "cell_type": "markdown",
   "source": [
    "**NEXT PLAYER**"
   ],
   "metadata": {}
  },
  {
   "cell_type": "code",
   "execution_count": 12,
   "source": [
    "a,b,c = vectorizedGame.getCurrentState()\n",
    "vectorizedGame.info()"
   ],
   "outputs": [
    {
     "output_type": "execute_result",
     "data": {
      "text/plain": [
       "(1,\n",
       " '0[5S] 1[5C] 2[7H] 3[11C] 4[12S] 5[12H] 6[13D] 7[14H] 8[15S] 9[15C] 10[15D] 11[15H] 12[] ',\n",
       " [[2], [3], [4], [5], [6], [7], [8], [9], [10], [11], 'Pass'],\n",
       " [2, 3, 4, 5, 6, 7, 8, 9, 10, 11, 8031])"
      ]
     },
     "metadata": {},
     "execution_count": 12
    }
   ],
   "metadata": {}
  },
  {
   "cell_type": "code",
   "execution_count": 13,
   "source": [
    "vectorizedGame.step(2)"
   ],
   "outputs": [
    {
     "output_type": "execute_result",
     "data": {
      "text/plain": [
       "(None, False, {'Position result': array([0, 0, 0, 0])})"
      ]
     },
     "metadata": {},
     "execution_count": 13
    }
   ],
   "metadata": {}
  },
  {
   "cell_type": "markdown",
   "source": [
    "**NEXT PLAYER**"
   ],
   "metadata": {}
  },
  {
   "cell_type": "code",
   "execution_count": 14,
   "source": [
    "a,b,c = vectorizedGame.getCurrentState()\n",
    "vectorizedGame.info()"
   ],
   "outputs": [
    {
     "output_type": "execute_result",
     "data": {
      "text/plain": [
       "(2,\n",
       " '0[4H] 1[5H] 2[6C] 3[6D] 4[6H] 5[7C] 6[8S] 7[8H] 8[9S] 9[10D] 10[11H] 11[12D] 12[] ',\n",
       " [[6], [7], [8], [9], [10], [11], 'Pass'],\n",
       " [6, 7, 8, 9, 10, 11, 8031])"
      ]
     },
     "metadata": {},
     "execution_count": 14
    }
   ],
   "metadata": {}
  },
  {
   "cell_type": "code",
   "execution_count": 15,
   "source": [
    "vectorizedGame.step(6)"
   ],
   "outputs": [
    {
     "output_type": "execute_result",
     "data": {
      "text/plain": [
       "(None, False, {'Position result': array([0, 0, 0, 0])})"
      ]
     },
     "metadata": {},
     "execution_count": 15
    }
   ],
   "metadata": {}
  },
  {
   "cell_type": "markdown",
   "source": [
    "**NEXT PLAYER**\r\n"
   ],
   "metadata": {}
  },
  {
   "cell_type": "code",
   "execution_count": 16,
   "source": [
    "a,b,c = vectorizedGame.getCurrentState()\n",
    "vectorizedGame.info()"
   ],
   "outputs": [
    {
     "output_type": "execute_result",
     "data": {
      "text/plain": [
       "(3,\n",
       " '0[5D] 1[7D] 2[8C] 3[8D] 4[9H] 5[10C] 6[10H] 7[12C] 8[13S] 9[13C] 10[14S] 11[14D] 12[] ',\n",
       " [[2], [3], [4], [5], [6], [7], [8], [9], [10], [11], 'Pass'],\n",
       " [2, 3, 4, 5, 6, 7, 8, 9, 10, 11, 8031])"
      ]
     },
     "metadata": {},
     "execution_count": 16
    }
   ],
   "metadata": {}
  },
  {
   "cell_type": "code",
   "execution_count": 17,
   "source": [
    "vectorizedGame.step(2)"
   ],
   "outputs": [
    {
     "output_type": "execute_result",
     "data": {
      "text/plain": [
       "(None, False, {'Position result': array([0, 0, 0, 0])})"
      ]
     },
     "metadata": {},
     "execution_count": 17
    }
   ],
   "metadata": {}
  },
  {
   "cell_type": "markdown",
   "source": [
    "**NEXT PLAYER**\r\n"
   ],
   "metadata": {}
  },
  {
   "cell_type": "code",
   "execution_count": 18,
   "source": [
    "a,b,c = vectorizedGame.getCurrentState()\n",
    "vectorizedGame.info()"
   ],
   "outputs": [
    {
     "output_type": "execute_result",
     "data": {
      "text/plain": [
       "(4,\n",
       " '0[3C] 1[3H] 2[4S] 3[4D] 4[7S] 5[9C] 6[9D] 7[10S] 8[11S] 9[11D] 10[13H] 11[14C] 12[] ',\n",
       " [[5], [6], [7], [8], [9], [10], [11], 'Pass'],\n",
       " [5, 6, 7, 8, 9, 10, 11, 8031])"
      ]
     },
     "metadata": {},
     "execution_count": 18
    }
   ],
   "metadata": {}
  },
  {
   "cell_type": "code",
   "execution_count": 19,
   "source": [
    "vectorizedGame.step(5)"
   ],
   "outputs": [
    {
     "output_type": "execute_result",
     "data": {
      "text/plain": [
       "(None, False, {'Position result': array([0, 0, 0, 0])})"
      ]
     },
     "metadata": {},
     "execution_count": 19
    }
   ],
   "metadata": {}
  },
  {
   "cell_type": "markdown",
   "source": [
    "**NEXT PLAYER**"
   ],
   "metadata": {}
  },
  {
   "cell_type": "code",
   "execution_count": 20,
   "source": [
    "a,b,c = vectorizedGame.getCurrentState()\n",
    "vectorizedGame.info()"
   ],
   "outputs": [
    {
     "output_type": "execute_result",
     "data": {
      "text/plain": [
       "(1,\n",
       " '0[5S] 1[5C] 2[11C] 3[12S] 4[12H] 5[13D] 6[14H] 7[15S] 8[15C] 9[15D] 10[15H] 11[] 12[] ',\n",
       " [[2], [3], [4], [5], [6], [7], [8], [9], [10], 'Pass'],\n",
       " [2, 3, 4, 5, 6, 7, 8, 9, 10, 8031])"
      ]
     },
     "metadata": {},
     "execution_count": 20
    }
   ],
   "metadata": {}
  },
  {
   "cell_type": "code",
   "execution_count": 21,
   "source": [
    "vectorizedGame.step(3)"
   ],
   "outputs": [
    {
     "output_type": "execute_result",
     "data": {
      "text/plain": [
       "(None, False, {'Position result': array([0, 0, 0, 0])})"
      ]
     },
     "metadata": {},
     "execution_count": 21
    }
   ],
   "metadata": {}
  },
  {
   "cell_type": "markdown",
   "source": [
    "**NEXT PLAYER**"
   ],
   "metadata": {}
  },
  {
   "cell_type": "code",
   "execution_count": 22,
   "source": [
    "a,b,c = vectorizedGame.getCurrentState()\n",
    "vectorizedGame.info()"
   ],
   "outputs": [
    {
     "output_type": "execute_result",
     "data": {
      "text/plain": [
       "(2,\n",
       " '0[4H] 1[5H] 2[6C] 3[6D] 4[6H] 5[7C] 6[8H] 7[9S] 8[10D] 9[11H] 10[12D] 11[] 12[] ',\n",
       " [[10], 'Pass'],\n",
       " [10, 8031])"
      ]
     },
     "metadata": {},
     "execution_count": 22
    }
   ],
   "metadata": {}
  },
  {
   "cell_type": "code",
   "execution_count": 23,
   "source": [
    "vectorizedGame.step(8031)"
   ],
   "outputs": [
    {
     "output_type": "execute_result",
     "data": {
      "text/plain": [
       "(None, False, {'Position result': array([0, 0, 0, 0])})"
      ]
     },
     "metadata": {},
     "execution_count": 23
    }
   ],
   "metadata": {}
  },
  {
   "cell_type": "markdown",
   "source": [
    "**NEXT PLAYER**"
   ],
   "metadata": {}
  },
  {
   "cell_type": "code",
   "execution_count": 24,
   "source": [
    "a,b,c = vectorizedGame.getCurrentState()\n",
    "vectorizedGame.info()"
   ],
   "outputs": [
    {
     "output_type": "execute_result",
     "data": {
      "text/plain": [
       "(3,\n",
       " '0[5D] 1[7D] 2[8D] 3[9H] 4[10C] 5[10H] 6[12C] 7[13S] 8[13C] 9[14S] 10[14D] 11[] 12[] ',\n",
       " [[6], [7], [8], [9], [10], 'Pass'],\n",
       " [6, 7, 8, 9, 10, 8031])"
      ]
     },
     "metadata": {},
     "execution_count": 24
    }
   ],
   "metadata": {}
  },
  {
   "cell_type": "code",
   "execution_count": 25,
   "source": [
    "vectorizedGame.step(6)"
   ],
   "outputs": [
    {
     "output_type": "execute_result",
     "data": {
      "text/plain": [
       "(None, False, {'Position result': array([0, 0, 0, 0])})"
      ]
     },
     "metadata": {},
     "execution_count": 25
    }
   ],
   "metadata": {}
  },
  {
   "cell_type": "markdown",
   "source": [
    "**NEXT PLAYER**"
   ],
   "metadata": {}
  },
  {
   "cell_type": "code",
   "execution_count": 26,
   "source": [
    "a,b,c = vectorizedGame.getCurrentState()\n",
    "vectorizedGame.info()"
   ],
   "outputs": [
    {
     "output_type": "execute_result",
     "data": {
      "text/plain": [
       "(4,\n",
       " '0[3C] 1[3H] 2[4S] 3[4D] 4[7S] 5[9D] 6[10S] 7[11S] 8[11D] 9[13H] 10[14C] 11[] 12[] ',\n",
       " [[9], [10], 'Pass'],\n",
       " [9, 10, 8031])"
      ]
     },
     "metadata": {},
     "execution_count": 26
    }
   ],
   "metadata": {}
  },
  {
   "cell_type": "code",
   "execution_count": 27,
   "source": [
    "vectorizedGame.step(9)"
   ],
   "outputs": [
    {
     "output_type": "execute_result",
     "data": {
      "text/plain": [
       "(None, False, {'Position result': array([0, 0, 0, 0])})"
      ]
     },
     "metadata": {},
     "execution_count": 27
    }
   ],
   "metadata": {}
  },
  {
   "cell_type": "markdown",
   "source": [
    "**NEXT PLAYER**"
   ],
   "metadata": {}
  },
  {
   "cell_type": "code",
   "execution_count": 28,
   "source": [
    "a,b,c = vectorizedGame.getCurrentState()\n",
    "vectorizedGame.info()"
   ],
   "outputs": [
    {
     "output_type": "execute_result",
     "data": {
      "text/plain": [
       "(1,\n",
       " '0[5S] 1[5C] 2[11C] 3[12H] 4[13D] 5[14H] 6[15S] 7[15C] 8[15D] 9[15H] 10[] 11[] 12[] ',\n",
       " [[5], [6], [7], [8], [9], 'Pass'],\n",
       " [5, 6, 7, 8, 9, 8031])"
      ]
     },
     "metadata": {},
     "execution_count": 28
    }
   ],
   "metadata": {}
  },
  {
   "cell_type": "code",
   "execution_count": 29,
   "source": [
    "vectorizedGame.step(6)"
   ],
   "outputs": [
    {
     "output_type": "execute_result",
     "data": {
      "text/plain": [
       "(None, False, {'Position result': array([0, 0, 0, 0])})"
      ]
     },
     "metadata": {},
     "execution_count": 29
    }
   ],
   "metadata": {}
  },
  {
   "cell_type": "markdown",
   "source": [
    "**NEXT PLAYER**"
   ],
   "metadata": {}
  },
  {
   "cell_type": "code",
   "execution_count": 30,
   "source": [
    "a,b,c = vectorizedGame.getCurrentState()\n",
    "vectorizedGame.info()"
   ],
   "outputs": [
    {
     "output_type": "execute_result",
     "data": {
      "text/plain": [
       "(3,\n",
       " '0[5D] 1[7D] 2[8D] 3[9H] 4[10C] 5[10H] 6[13S] 7[13C] 8[14S] 9[14D] 10[] 11[] 12[] ',\n",
       " ['Pass'],\n",
       " [8031])"
      ]
     },
     "metadata": {},
     "execution_count": 30
    }
   ],
   "metadata": {}
  },
  {
   "cell_type": "code",
   "execution_count": 31,
   "source": [
    "vectorizedGame.step(8031)"
   ],
   "outputs": [
    {
     "output_type": "execute_result",
     "data": {
      "text/plain": [
       "(None, False, {'Position result': array([0, 0, 0, 0])})"
      ]
     },
     "metadata": {},
     "execution_count": 31
    }
   ],
   "metadata": {}
  },
  {
   "cell_type": "markdown",
   "source": [
    "**NEXT PLAYER**"
   ],
   "metadata": {}
  },
  {
   "cell_type": "code",
   "execution_count": 32,
   "source": [
    "a,b,c = vectorizedGame.getCurrentState()\n",
    "vectorizedGame.info()"
   ],
   "outputs": [
    {
     "output_type": "execute_result",
     "data": {
      "text/plain": [
       "(4,\n",
       " '0[3C] 1[3H] 2[4S] 3[4D] 4[7S] 5[9D] 6[10S] 7[11S] 8[11D] 9[14C] 10[] 11[] 12[] ',\n",
       " ['Pass'],\n",
       " [8031])"
      ]
     },
     "metadata": {},
     "execution_count": 32
    }
   ],
   "metadata": {}
  },
  {
   "cell_type": "code",
   "execution_count": 33,
   "source": [
    "vectorizedGame.step(8031)"
   ],
   "outputs": [
    {
     "output_type": "execute_result",
     "data": {
      "text/plain": [
       "(None, False, {'Position result': array([0, 0, 0, 0])})"
      ]
     },
     "metadata": {},
     "execution_count": 33
    }
   ],
   "metadata": {}
  },
  {
   "cell_type": "markdown",
   "source": [
    "**NEXT PLAYER**"
   ],
   "metadata": {}
  },
  {
   "cell_type": "code",
   "execution_count": 34,
   "source": [
    "a,b,c = vectorizedGame.getCurrentState()\n",
    "vectorizedGame.info()"
   ],
   "outputs": [
    {
     "output_type": "execute_result",
     "data": {
      "text/plain": [
       "(1,\n",
       " '0[5S] 1[5C] 2[11C] 3[12H] 4[13D] 5[14H] 6[15C] 7[15D] 8[15H] 9[] 10[] 11[] 12[] ',\n",
       " [[0],\n",
       "  [1],\n",
       "  [2],\n",
       "  [3],\n",
       "  [4],\n",
       "  [5],\n",
       "  [6],\n",
       "  [7],\n",
       "  [8],\n",
       "  array([0, 1]),\n",
       "  array([6, 7]),\n",
       "  array([6, 8]),\n",
       "  array([7, 8]),\n",
       "  array([2, 3, 4]),\n",
       "  array([6, 7, 8]),\n",
       "  array([2, 3, 4, 5])],\n",
       " [0, 1, 2, 3, 4, 5, 6, 7, 8, 13, 31, 32, 34, 135, 257, 635])"
      ]
     },
     "metadata": {},
     "execution_count": 34
    }
   ],
   "metadata": {}
  },
  {
   "cell_type": "code",
   "execution_count": 35,
   "source": [
    "vectorizedGame.step(635)"
   ],
   "outputs": [
    {
     "output_type": "execute_result",
     "data": {
      "text/plain": [
       "(None, False, {'Position result': array([0, 0, 0, 0])})"
      ]
     },
     "metadata": {},
     "execution_count": 35
    }
   ],
   "metadata": {}
  },
  {
   "cell_type": "markdown",
   "source": [
    "**NEXT PLAYER**"
   ],
   "metadata": {}
  },
  {
   "cell_type": "code",
   "execution_count": 36,
   "source": [
    "a,b,c = vectorizedGame.getCurrentState()\n",
    "vectorizedGame.info()"
   ],
   "outputs": [
    {
     "output_type": "execute_result",
     "data": {
      "text/plain": [
       "(2,\n",
       " '0[4H] 1[5H] 2[6C] 3[6D] 4[6H] 5[7C] 6[8H] 7[9S] 8[10D] 9[11H] 10[12D] 11[] 12[] ',\n",
       " ['Pass'],\n",
       " [8031])"
      ]
     },
     "metadata": {},
     "execution_count": 36
    }
   ],
   "metadata": {}
  },
  {
   "cell_type": "code",
   "execution_count": 37,
   "source": [
    "vectorizedGame.step(8031)"
   ],
   "outputs": [
    {
     "output_type": "execute_result",
     "data": {
      "text/plain": [
       "(None, False, {'Position result': array([0, 0, 0, 0])})"
      ]
     },
     "metadata": {},
     "execution_count": 37
    }
   ],
   "metadata": {}
  },
  {
   "cell_type": "markdown",
   "source": [
    "**NEXT PLAYER**\r\n"
   ],
   "metadata": {}
  },
  {
   "cell_type": "code",
   "execution_count": 38,
   "source": [
    "a,b,c = vectorizedGame.getCurrentState()\n",
    "vectorizedGame.info()"
   ],
   "outputs": [
    {
     "output_type": "execute_result",
     "data": {
      "text/plain": [
       "(3,\n",
       " '0[5D] 1[7D] 2[8D] 3[9H] 4[10C] 5[10H] 6[13S] 7[13C] 8[14S] 9[14D] 10[] 11[] 12[] ',\n",
       " ['Pass'],\n",
       " [8031])"
      ]
     },
     "metadata": {},
     "execution_count": 38
    }
   ],
   "metadata": {}
  },
  {
   "cell_type": "code",
   "execution_count": 39,
   "source": [
    "vectorizedGame.step(8031)"
   ],
   "outputs": [
    {
     "output_type": "execute_result",
     "data": {
      "text/plain": [
       "(None, False, {'Position result': array([0, 0, 0, 0])})"
      ]
     },
     "metadata": {},
     "execution_count": 39
    }
   ],
   "metadata": {}
  },
  {
   "cell_type": "markdown",
   "source": [
    "**NEXT PLAYER**"
   ],
   "metadata": {}
  },
  {
   "cell_type": "code",
   "execution_count": 40,
   "source": [
    "a,b,c = vectorizedGame.getCurrentState()\n",
    "vectorizedGame.info()"
   ],
   "outputs": [
    {
     "output_type": "execute_result",
     "data": {
      "text/plain": [
       "(4,\n",
       " '0[3C] 1[3H] 2[4S] 3[4D] 4[7S] 5[9D] 6[10S] 7[11S] 8[11D] 9[14C] 10[] 11[] 12[] ',\n",
       " ['Pass'],\n",
       " [8031])"
      ]
     },
     "metadata": {},
     "execution_count": 40
    }
   ],
   "metadata": {}
  },
  {
   "cell_type": "code",
   "execution_count": 41,
   "source": [
    "vectorizedGame.step(8031)"
   ],
   "outputs": [
    {
     "output_type": "execute_result",
     "data": {
      "text/plain": [
       "(None, False, {'Position result': array([0, 0, 0, 0])})"
      ]
     },
     "metadata": {},
     "execution_count": 41
    }
   ],
   "metadata": {}
  },
  {
   "cell_type": "markdown",
   "source": [
    "**NEXT PLAYER**\r\n"
   ],
   "metadata": {}
  },
  {
   "cell_type": "code",
   "execution_count": 42,
   "source": [
    "a,b,c = vectorizedGame.getCurrentState()\n",
    "vectorizedGame.info()"
   ],
   "outputs": [
    {
     "output_type": "execute_result",
     "data": {
      "text/plain": [
       "(1,\n",
       " '0[5S] 1[5C] 2[15C] 3[15D] 4[15H] 5[] 6[] 7[] 8[] 9[] 10[] 11[] 12[] ',\n",
       " [[0],\n",
       "  [1],\n",
       "  [2],\n",
       "  [3],\n",
       "  [4],\n",
       "  array([0, 1]),\n",
       "  array([2, 3]),\n",
       "  array([2, 4]),\n",
       "  array([3, 4]),\n",
       "  array([2, 3, 4])],\n",
       " [0, 1, 2, 3, 4, 13, 19, 20, 22, 135])"
      ]
     },
     "metadata": {},
     "execution_count": 42
    }
   ],
   "metadata": {}
  },
  {
   "cell_type": "code",
   "execution_count": 43,
   "source": [
    "vectorizedGame.step(13)"
   ],
   "outputs": [
    {
     "output_type": "execute_result",
     "data": {
      "text/plain": [
       "(None, False, {'Position result': array([0, 0, 0, 0])})"
      ]
     },
     "metadata": {},
     "execution_count": 43
    }
   ],
   "metadata": {}
  },
  {
   "cell_type": "markdown",
   "source": [
    "**NEXT PLAYER**"
   ],
   "metadata": {}
  },
  {
   "cell_type": "code",
   "execution_count": 44,
   "source": [
    "a,b,c = vectorizedGame.getCurrentState()\n",
    "vectorizedGame.info()"
   ],
   "outputs": [
    {
     "output_type": "execute_result",
     "data": {
      "text/plain": [
       "(2,\n",
       " '0[4H] 1[5H] 2[6C] 3[6D] 4[6H] 5[7C] 6[8H] 7[9S] 8[10D] 9[11H] 10[12D] 11[] 12[] ',\n",
       " [array([2, 3]), array([2, 4]), array([3, 4]), 'Pass'],\n",
       " [19, 20, 22, 8031])"
      ]
     },
     "metadata": {},
     "execution_count": 44
    }
   ],
   "metadata": {}
  },
  {
   "cell_type": "code",
   "execution_count": 45,
   "source": [
    "vectorizedGame.step(19)"
   ],
   "outputs": [
    {
     "output_type": "execute_result",
     "data": {
      "text/plain": [
       "(None, False, {'Position result': array([0, 0, 0, 0])})"
      ]
     },
     "metadata": {},
     "execution_count": 45
    }
   ],
   "metadata": {}
  },
  {
   "cell_type": "markdown",
   "source": [
    "**NEXT PLAYER**"
   ],
   "metadata": {}
  },
  {
   "cell_type": "code",
   "execution_count": 46,
   "source": [
    "a,b,c = vectorizedGame.getCurrentState()\n",
    "vectorizedGame.info()"
   ],
   "outputs": [
    {
     "output_type": "execute_result",
     "data": {
      "text/plain": [
       "(3,\n",
       " '0[5D] 1[7D] 2[8D] 3[9H] 4[10C] 5[10H] 6[13S] 7[13C] 8[14S] 9[14D] 10[] 11[] 12[] ',\n",
       " [array([4, 5]), array([6, 7]), array([8, 9]), 'Pass'],\n",
       " [25, 31, 37, 8031])"
      ]
     },
     "metadata": {},
     "execution_count": 46
    }
   ],
   "metadata": {}
  },
  {
   "cell_type": "code",
   "execution_count": 47,
   "source": [
    "vectorizedGame.step(25)"
   ],
   "outputs": [
    {
     "output_type": "execute_result",
     "data": {
      "text/plain": [
       "(None, False, {'Position result': array([0, 0, 0, 0])})"
      ]
     },
     "metadata": {},
     "execution_count": 47
    }
   ],
   "metadata": {}
  },
  {
   "cell_type": "markdown",
   "source": [
    "**NEXT PLAYER**"
   ],
   "metadata": {}
  },
  {
   "cell_type": "code",
   "execution_count": 48,
   "source": [
    "a,b,c = vectorizedGame.getCurrentState()\r\n",
    "vectorizedGame.info()"
   ],
   "outputs": [
    {
     "output_type": "execute_result",
     "data": {
      "text/plain": [
       "(4,\n",
       " '0[3C] 1[3H] 2[4S] 3[4D] 4[7S] 5[9D] 6[10S] 7[11S] 8[11D] 9[14C] 10[] 11[] 12[] ',\n",
       " [array([7, 8]), 'Pass'],\n",
       " [34, 8031])"
      ]
     },
     "metadata": {},
     "execution_count": 48
    }
   ],
   "metadata": {}
  },
  {
   "cell_type": "code",
   "execution_count": 49,
   "source": [
    "vectorizedGame.step(34)"
   ],
   "outputs": [
    {
     "output_type": "execute_result",
     "data": {
      "text/plain": [
       "(None, False, {'Position result': array([0, 0, 0, 0])})"
      ]
     },
     "metadata": {},
     "execution_count": 49
    }
   ],
   "metadata": {}
  },
  {
   "cell_type": "markdown",
   "source": [
    "**NEXT PLAYER**"
   ],
   "metadata": {}
  },
  {
   "cell_type": "code",
   "execution_count": 50,
   "source": [
    "a,b,c = vectorizedGame.getCurrentState()\r\n",
    "vectorizedGame.info()"
   ],
   "outputs": [
    {
     "output_type": "execute_result",
     "data": {
      "text/plain": [
       "(1,\n",
       " '0[15C] 1[15D] 2[15H] 3[] 4[] 5[] 6[] 7[] 8[] 9[] 10[] 11[] 12[] ',\n",
       " [array([0, 1]), array([0, 2]), array([1, 2]), 'Pass'],\n",
       " [13, 14, 16, 8031])"
      ]
     },
     "metadata": {},
     "execution_count": 50
    }
   ],
   "metadata": {}
  },
  {
   "cell_type": "code",
   "execution_count": 51,
   "source": [
    "vectorizedGame.step(13)"
   ],
   "outputs": [
    {
     "output_type": "execute_result",
     "data": {
      "text/plain": [
       "(None, False, {'Position result': array([0, 0, 0, 0])})"
      ]
     },
     "metadata": {},
     "execution_count": 51
    }
   ],
   "metadata": {}
  },
  {
   "cell_type": "markdown",
   "source": [
    "**NEXT PLAYER**"
   ],
   "metadata": {}
  },
  {
   "cell_type": "code",
   "execution_count": 52,
   "source": [
    "a,b,c = vectorizedGame.getCurrentState()\r\n",
    "vectorizedGame.info()"
   ],
   "outputs": [
    {
     "output_type": "execute_result",
     "data": {
      "text/plain": [
       "(2,\n",
       " '0[4H] 1[5H] 2[6H] 3[7C] 4[8H] 5[9S] 6[10D] 7[11H] 8[12D] 9[] 10[] 11[] 12[] ',\n",
       " ['Pass'],\n",
       " [8031])"
      ]
     },
     "metadata": {},
     "execution_count": 52
    }
   ],
   "metadata": {}
  },
  {
   "cell_type": "code",
   "execution_count": 53,
   "source": [
    "vectorizedGame.step(8031)"
   ],
   "outputs": [
    {
     "output_type": "execute_result",
     "data": {
      "text/plain": [
       "(None, False, {'Position result': array([0, 0, 0, 0])})"
      ]
     },
     "metadata": {},
     "execution_count": 53
    }
   ],
   "metadata": {}
  },
  {
   "cell_type": "markdown",
   "source": [
    "**NEXT PLAYER**"
   ],
   "metadata": {}
  },
  {
   "cell_type": "code",
   "execution_count": 54,
   "source": [
    "a,b,c = vectorizedGame.getCurrentState()\r\n",
    "vectorizedGame.info()"
   ],
   "outputs": [
    {
     "output_type": "execute_result",
     "data": {
      "text/plain": [
       "(3,\n",
       " '0[5D] 1[7D] 2[8D] 3[9H] 4[13S] 5[13C] 6[14S] 7[14D] 8[] 9[] 10[] 11[] 12[] ',\n",
       " ['Pass'],\n",
       " [8031])"
      ]
     },
     "metadata": {},
     "execution_count": 54
    }
   ],
   "metadata": {}
  },
  {
   "cell_type": "code",
   "execution_count": 55,
   "source": [
    "vectorizedGame.step(8031)"
   ],
   "outputs": [
    {
     "output_type": "execute_result",
     "data": {
      "text/plain": [
       "(None, False, {'Position result': array([0, 0, 0, 0])})"
      ]
     },
     "metadata": {},
     "execution_count": 55
    }
   ],
   "metadata": {}
  },
  {
   "cell_type": "markdown",
   "source": [
    "**NEXT PLAYER**"
   ],
   "metadata": {}
  },
  {
   "cell_type": "code",
   "execution_count": 56,
   "source": [
    "a,b,c = vectorizedGame.getCurrentState()\r\n",
    "vectorizedGame.info()"
   ],
   "outputs": [
    {
     "output_type": "execute_result",
     "data": {
      "text/plain": [
       "(4,\n",
       " '0[3C] 1[3H] 2[4S] 3[4D] 4[7S] 5[9D] 6[10S] 7[14C] 8[] 9[] 10[] 11[] 12[] ',\n",
       " ['Pass'],\n",
       " [8031])"
      ]
     },
     "metadata": {},
     "execution_count": 56
    }
   ],
   "metadata": {}
  },
  {
   "cell_type": "code",
   "execution_count": 57,
   "source": [
    "vectorizedGame.step(8031)"
   ],
   "outputs": [
    {
     "output_type": "execute_result",
     "data": {
      "text/plain": [
       "(None, False, {'Position result': array([0, 0, 0, 0])})"
      ]
     },
     "metadata": {},
     "execution_count": 57
    }
   ],
   "metadata": {}
  },
  {
   "cell_type": "markdown",
   "source": [
    "**NEXT PLAYER**"
   ],
   "metadata": {}
  },
  {
   "cell_type": "code",
   "execution_count": 58,
   "source": [
    "a,b,c = vectorizedGame.getCurrentState()\r\n",
    "vectorizedGame.info()"
   ],
   "outputs": [
    {
     "output_type": "execute_result",
     "data": {
      "text/plain": [
       "(1, '0[15H] 1[] 2[] 3[] 4[] 5[] 6[] 7[] 8[] 9[] 10[] 11[] 12[] ', [[0]], [0])"
      ]
     },
     "metadata": {},
     "execution_count": 58
    }
   ],
   "metadata": {}
  },
  {
   "cell_type": "code",
   "execution_count": 59,
   "source": [
    "vectorizedGame.step(0)"
   ],
   "outputs": [
    {
     "output_type": "execute_result",
     "data": {
      "text/plain": [
       "(array([25., -9., -8., -8.]),\n",
       " True,\n",
       " {'numTurns': 28, 'rewards': array([25., -9., -8., -8.])})"
      ]
     },
     "metadata": {},
     "execution_count": 59
    }
   ],
   "metadata": {}
  },
  {
   "cell_type": "markdown",
   "source": [
    "**FINISH**"
   ],
   "metadata": {}
  },
  {
   "cell_type": "markdown",
   "source": [
    "**NEXT MATCH**"
   ],
   "metadata": {}
  },
  {
   "cell_type": "markdown",
   "source": [
    "**NEXT PLAYER**\r\n"
   ],
   "metadata": {}
  },
  {
   "cell_type": "code",
   "execution_count": 60,
   "source": [
    "a,b,c = vectorizedGame.getCurrentState()\r\n",
    "vectorizedGame.info()"
   ],
   "outputs": [
    {
     "output_type": "execute_result",
     "data": {
      "text/plain": [
       "(3,\n",
       " '0[3S] 1[3C] 2[3D] 3[5D] 4[6D] 5[8C] 6[8D] 7[9H] 8[10C] 9[10H] 10[11S] 11[13S] 12[15H] ',\n",
       " [[0], array([0, 1]), array([0, 2]), array([0, 1, 2])],\n",
       " [0, 13, 14, 46])"
      ]
     },
     "metadata": {},
     "execution_count": 60
    }
   ],
   "metadata": {}
  },
  {
   "cell_type": "code",
   "execution_count": 66,
   "source": [
    "vectorizedGame.step(8031)"
   ],
   "outputs": [
    {
     "output_type": "execute_result",
     "data": {
      "text/plain": [
       "(None, False, {'Position result': array([0, 0, 0, 0])})"
      ]
     },
     "metadata": {},
     "execution_count": 66
    }
   ],
   "metadata": {}
  },
  {
   "cell_type": "markdown",
   "source": [
    "**NEXT PLAYER**"
   ],
   "metadata": {}
  },
  {
   "cell_type": "code",
   "execution_count": 67,
   "source": [
    "a,b,c = vectorizedGame.getCurrentState()\r\n",
    "vectorizedGame.info()"
   ],
   "outputs": [
    {
     "output_type": "execute_result",
     "data": {
      "text/plain": [
       "(1,\n",
       " '0[3D] 1[] 2[] 3[] 4[] 5[] 6[] 7[] 8[] 9[] 10[] 11[] 12[] ',\n",
       " ['Pass'],\n",
       " [8031])"
      ]
     },
     "metadata": {},
     "execution_count": 67
    }
   ],
   "metadata": {}
  },
  {
   "cell_type": "code",
   "execution_count": 68,
   "source": [
    "vectorizedGame.step(8031)"
   ],
   "outputs": [
    {
     "output_type": "execute_result",
     "data": {
      "text/plain": [
       "(None, False, {'Position result': array([0, 0, 0, 0])})"
      ]
     },
     "metadata": {},
     "execution_count": 68
    }
   ],
   "metadata": {}
  },
  {
   "cell_type": "markdown",
   "source": [
    "**NEXT PLAYER**"
   ],
   "metadata": {}
  },
  {
   "cell_type": "code",
   "execution_count": 69,
   "source": [
    "a,b,c = vectorizedGame.getCurrentState()\r\n",
    "vectorizedGame.info()"
   ],
   "outputs": [
    {
     "output_type": "execute_result",
     "data": {
      "text/plain": [
       "(2,\n",
       " '0[5C] 1[12C] 2[14H] 3[] 4[] 5[] 6[] 7[] 8[] 9[] 10[] 11[] 12[] ',\n",
       " [[0], [1], [2]],\n",
       " [0, 1, 2])"
      ]
     },
     "metadata": {},
     "execution_count": 69
    }
   ],
   "metadata": {}
  },
  {
   "cell_type": "code",
   "execution_count": 70,
   "source": [
    "vectorizedGame.step(0)"
   ],
   "outputs": [
    {
     "output_type": "execute_result",
     "data": {
      "text/plain": [
       "(None, False, {'Position result': array([0, 0, 0, 0])})"
      ]
     },
     "metadata": {},
     "execution_count": 70
    }
   ],
   "metadata": {}
  },
  {
   "cell_type": "markdown",
   "source": [
    "**NEXT PLAYER**"
   ],
   "metadata": {}
  },
  {
   "cell_type": "code",
   "execution_count": 71,
   "source": [
    "a,b,c = vectorizedGame.getCurrentState()\r\n",
    "vectorizedGame.info()"
   ],
   "outputs": [
    {
     "output_type": "execute_result",
     "data": {
      "text/plain": [
       "(3,\n",
       " '0[8H] 1[9C] 2[9H] 3[10C] 4[11C] 5[14C] 6[15C] 7[] 8[] 9[] 10[] 11[] 12[] ',\n",
       " [[0], [1], [2], [3], [4], [5], [6], 'Pass'],\n",
       " [0, 1, 2, 3, 4, 5, 6, 8031])"
      ]
     },
     "metadata": {},
     "execution_count": 71
    }
   ],
   "metadata": {}
  },
  {
   "cell_type": "code",
   "execution_count": 72,
   "source": [
    "vectorizedGame.step(0)"
   ],
   "outputs": [
    {
     "output_type": "execute_result",
     "data": {
      "text/plain": [
       "(None, False, {'Position result': array([0, 0, 0, 0])})"
      ]
     },
     "metadata": {},
     "execution_count": 72
    }
   ],
   "metadata": {}
  },
  {
   "cell_type": "markdown",
   "source": [
    "**NEXT PLAYER**"
   ],
   "metadata": {}
  },
  {
   "cell_type": "code",
   "execution_count": 73,
   "source": [
    "a,b,c = vectorizedGame.getCurrentState()\r\n",
    "vectorizedGame.info()"
   ],
   "outputs": [
    {
     "output_type": "execute_result",
     "data": {
      "text/plain": [
       "(4,\n",
       " '0[7S] 1[9D] 2[10S] 3[12S] 4[12D] 5[13C] 6[13D] 7[] 8[] 9[] 10[] 11[] 12[] ',\n",
       " [[1], [2], [3], [4], [5], [6], 'Pass'],\n",
       " [1, 2, 3, 4, 5, 6, 8031])"
      ]
     },
     "metadata": {},
     "execution_count": 73
    }
   ],
   "metadata": {}
  },
  {
   "cell_type": "code",
   "execution_count": 74,
   "source": [
    "vectorizedGame.step(1)"
   ],
   "outputs": [
    {
     "output_type": "execute_result",
     "data": {
      "text/plain": [
       "(None, False, {'Position result': array([0, 0, 0, 0])})"
      ]
     },
     "metadata": {},
     "execution_count": 74
    }
   ],
   "metadata": {}
  },
  {
   "cell_type": "markdown",
   "source": [
    "**NEXT PLAYER**"
   ],
   "metadata": {}
  },
  {
   "cell_type": "code",
   "execution_count": 75,
   "source": [
    "a,b,c = vectorizedGame.getCurrentState()\r\n",
    "vectorizedGame.info()"
   ],
   "outputs": [
    {
     "output_type": "execute_result",
     "data": {
      "text/plain": [
       "(1,\n",
       " '0[3D] 1[] 2[] 3[] 4[] 5[] 6[] 7[] 8[] 9[] 10[] 11[] 12[] ',\n",
       " ['Pass'],\n",
       " [8031])"
      ]
     },
     "metadata": {},
     "execution_count": 75
    }
   ],
   "metadata": {}
  },
  {
   "cell_type": "code",
   "execution_count": 76,
   "source": [
    "vectorizedGame.step(8031)"
   ],
   "outputs": [
    {
     "output_type": "execute_result",
     "data": {
      "text/plain": [
       "(None, False, {'Position result': array([0, 0, 0, 0])})"
      ]
     },
     "metadata": {},
     "execution_count": 76
    }
   ],
   "metadata": {}
  },
  {
   "cell_type": "markdown",
   "source": [
    "**NEXT PLAYER**"
   ],
   "metadata": {}
  },
  {
   "cell_type": "code",
   "execution_count": 77,
   "source": [
    "a,b,c = vectorizedGame.getCurrentState()\r\n",
    "vectorizedGame.info()"
   ],
   "outputs": [
    {
     "output_type": "execute_result",
     "data": {
      "text/plain": [
       "(2,\n",
       " '0[12C] 1[14H] 2[] 3[] 4[] 5[] 6[] 7[] 8[] 9[] 10[] 11[] 12[] ',\n",
       " [[0], [1], 'Pass'],\n",
       " [0, 1, 8031])"
      ]
     },
     "metadata": {},
     "execution_count": 77
    }
   ],
   "metadata": {}
  },
  {
   "cell_type": "code",
   "execution_count": 78,
   "source": [
    "vectorizedGame.step(0)"
   ],
   "outputs": [
    {
     "output_type": "execute_result",
     "data": {
      "text/plain": [
       "(None, False, {'Position result': array([0, 0, 0, 0])})"
      ]
     },
     "metadata": {},
     "execution_count": 78
    }
   ],
   "metadata": {}
  },
  {
   "cell_type": "markdown",
   "source": [
    "**NEXT PLAYER**"
   ],
   "metadata": {}
  },
  {
   "cell_type": "code",
   "execution_count": 79,
   "source": [
    "a,b,c = vectorizedGame.getCurrentState()\r\n",
    "vectorizedGame.info()"
   ],
   "outputs": [
    {
     "output_type": "execute_result",
     "data": {
      "text/plain": [
       "(3,\n",
       " '0[9C] 1[9H] 2[10C] 3[11C] 4[14C] 5[15C] 6[] 7[] 8[] 9[] 10[] 11[] 12[] ',\n",
       " [[4], [5], 'Pass'],\n",
       " [4, 5, 8031])"
      ]
     },
     "metadata": {},
     "execution_count": 79
    }
   ],
   "metadata": {}
  },
  {
   "cell_type": "code",
   "execution_count": 80,
   "source": [
    "vectorizedGame.step(4)"
   ],
   "outputs": [
    {
     "output_type": "execute_result",
     "data": {
      "text/plain": [
       "(None, False, {'Position result': array([0, 0, 0, 0])})"
      ]
     },
     "metadata": {},
     "execution_count": 80
    }
   ],
   "metadata": {}
  },
  {
   "cell_type": "markdown",
   "source": [
    "**NEXT PLAYER**"
   ],
   "metadata": {}
  },
  {
   "cell_type": "code",
   "execution_count": 81,
   "source": [
    "a,b,c = vectorizedGame.getCurrentState()\r\n",
    "vectorizedGame.info()"
   ],
   "outputs": [
    {
     "output_type": "execute_result",
     "data": {
      "text/plain": [
       "(4,\n",
       " '0[7S] 1[10S] 2[12S] 3[12D] 4[13C] 5[13D] 6[] 7[] 8[] 9[] 10[] 11[] 12[] ',\n",
       " ['Pass'],\n",
       " [8031])"
      ]
     },
     "metadata": {},
     "execution_count": 81
    }
   ],
   "metadata": {}
  },
  {
   "cell_type": "code",
   "execution_count": 83,
   "source": [
    "vectorizedGame.step(8031)"
   ],
   "outputs": [
    {
     "output_type": "execute_result",
     "data": {
      "text/plain": [
       "(None, False, {'Position result': array([0, 0, 0, 0])})"
      ]
     },
     "metadata": {},
     "execution_count": 83
    }
   ],
   "metadata": {}
  },
  {
   "cell_type": "markdown",
   "source": [
    "**NEXT PLAYER**"
   ],
   "metadata": {}
  },
  {
   "cell_type": "code",
   "execution_count": 84,
   "source": [
    "a,b,c = vectorizedGame.getCurrentState()\r\n",
    "vectorizedGame.info()"
   ],
   "outputs": [
    {
     "output_type": "execute_result",
     "data": {
      "text/plain": [
       "(2,\n",
       " '0[14H] 1[] 2[] 3[] 4[] 5[] 6[] 7[] 8[] 9[] 10[] 11[] 12[] ',\n",
       " [[0], 'Pass'],\n",
       " [0, 8031])"
      ]
     },
     "metadata": {},
     "execution_count": 84
    }
   ],
   "metadata": {}
  },
  {
   "cell_type": "code",
   "execution_count": 85,
   "source": [
    "vectorizedGame.step(0)"
   ],
   "outputs": [
    {
     "output_type": "execute_result",
     "data": {
      "text/plain": [
       "(None, False, {'Position result': array([0, 1, 0, 0])})"
      ]
     },
     "metadata": {},
     "execution_count": 85
    }
   ],
   "metadata": {}
  },
  {
   "cell_type": "markdown",
   "source": [
    "**NEXT PLAYER**"
   ],
   "metadata": {}
  },
  {
   "cell_type": "code",
   "execution_count": 86,
   "source": [
    "a,b,c = vectorizedGame.getCurrentState()\r\n",
    "vectorizedGame.info()"
   ],
   "outputs": [
    {
     "output_type": "execute_result",
     "data": {
      "text/plain": [
       "(3,\n",
       " '0[9C] 1[9H] 2[10C] 3[11C] 4[15C] 5[] 6[] 7[] 8[] 9[] 10[] 11[] 12[] ',\n",
       " [[4], 'Pass'],\n",
       " [4, 8031])"
      ]
     },
     "metadata": {},
     "execution_count": 86
    }
   ],
   "metadata": {}
  },
  {
   "cell_type": "code",
   "execution_count": 87,
   "source": [
    "vectorizedGame.step(4)"
   ],
   "outputs": [
    {
     "output_type": "execute_result",
     "data": {
      "text/plain": [
       "(None, False, {'Position result': array([0, 1, 0, 0])})"
      ]
     },
     "metadata": {},
     "execution_count": 87
    }
   ],
   "metadata": {}
  },
  {
   "cell_type": "markdown",
   "source": [
    "**NEXT PLAYER**"
   ],
   "metadata": {}
  },
  {
   "cell_type": "code",
   "execution_count": 88,
   "source": [
    "a,b,c = vectorizedGame.getCurrentState()\r\n",
    "vectorizedGame.info()"
   ],
   "outputs": [
    {
     "output_type": "execute_result",
     "data": {
      "text/plain": [
       "(3,\n",
       " '0[9C] 1[9H] 2[10C] 3[11C] 4[] 5[] 6[] 7[] 8[] 9[] 10[] 11[] 12[] ',\n",
       " ['Pass'],\n",
       " [8031])"
      ]
     },
     "metadata": {},
     "execution_count": 88
    }
   ],
   "metadata": {}
  }
 ],
 "metadata": {
  "interpreter": {
   "hash": "c4aab450f1ef109a4f64c063ffee8c014a218951d66994a8043f83492de310df"
  },
  "kernelspec": {
   "display_name": "Python 3.8.0 64-bit",
   "name": "python3"
  },
  "language_info": {
   "name": "python",
   "version": ""
  },
  "orig_nbformat": 4
 },
 "nbformat": 4,
 "nbformat_minor": 2
}